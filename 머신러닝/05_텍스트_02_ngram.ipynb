{
 "cells": [
  {
   "cell_type": "markdown",
   "metadata": {},
   "source": [
    "### 파이썬 머신러닝\n",
    "## 텍스트 데이터 다루기\n",
    "---\n",
    "# IMDb 리뷰 - 여러 단어로 만든 BOW (n-gram)"
   ]
  },
  {
   "cell_type": "code",
   "execution_count": 1,
   "metadata": {},
   "outputs": [],
   "source": [
    "import numpy as np\n",
    "import pandas as pd\n",
    "import matplotlib.pyplot as plt"
   ]
  },
  {
   "cell_type": "code",
   "execution_count": 2,
   "metadata": {},
   "outputs": [],
   "source": [
    "imdb_train, imdb_test = np.load('imdb.npy')\n",
    "\n",
    "text_train = [s.decode().replace('<br />', '') for s in imdb_train.data]\n",
    "y_train = imdb_train.target"
   ]
  },
  {
   "cell_type": "markdown",
   "metadata": {},
   "source": [
    "### 여러 단어로 만든 BOW (n-gram)\n",
    "- 연속된 여러 단어를 하나로 취급\n",
    "- 단어(token) 하나 uni-gram, 단어 두개 bi-gram, 단어 세개 tri-gram, 단어 n개 n-gram\n",
    "- ngram_range=[token_min, token_max] 옵션을 사용하는데, 메모리 에러가 발생할 수 있다."
   ]
  },
  {
   "cell_type": "code",
   "execution_count": 3,
   "metadata": {},
   "outputs": [],
   "source": [
    "from sklearn.feature_extraction.text import CountVectorizer\n",
    "\n",
    "vect = CountVectorizer(ngram_range=(1,2))\n",
    "X_train = vect.fit_transform(text_train)"
   ]
  },
  {
   "cell_type": "markdown",
   "metadata": {},
   "source": [
    "- 단어집 확인"
   ]
  },
  {
   "cell_type": "code",
   "execution_count": 4,
   "metadata": {},
   "outputs": [
    {
     "data": {
      "text/plain": [
       "(dict, 1522634)"
      ]
     },
     "execution_count": 4,
     "metadata": {},
     "output_type": "execute_result"
    }
   ],
   "source": [
    "type(vect.vocabulary_), len(vect.vocabulary_)"
   ]
  },
  {
   "cell_type": "code",
   "execution_count": 11,
   "metadata": {
    "collapsed": true
   },
   "outputs": [
    {
     "name": "stdout",
     "output_type": "stream",
     "text": [
      "zero day 1520834\n",
      "day leads 336192\n",
      "leads you 753163\n",
      "you to 1516060\n",
      "to think 1359588\n",
      "think even 1330822\n",
      "even re 434458\n",
      "re think 1066618\n",
      "think why 1331417\n",
      "why two 1477446\n",
      "two boys 1387196\n",
      "boys young 198116\n",
      "young men 1516894\n",
      "men would 829363\n",
      "would do 1504371\n",
      "do what 376359\n",
      "what they 1462273\n",
      "they did 1327486\n",
      "did commit 359052\n",
      "commit mutual 286423\n",
      "mutual suicide 875103\n",
      "suicide via 1254651\n",
      "via slaughtering 1422933\n",
      "slaughtering their 1186860\n",
      "their classmates 1316531\n",
      "classmates it 270748\n",
      "it captures 699350\n",
      "captures what 234461\n",
      "what must 1461706\n",
      "must be 874228\n",
      "be beyond 147994\n",
      "beyond bizarre 174321\n",
      "bizarre mode 180315\n",
      "mode of 845863\n",
      "of being 919212\n",
      "being for 164359\n",
      "for two 504219\n",
      "two humans 1387770\n",
      "humans who 640029\n",
      "who have 1473169\n",
      "have decided 588492\n",
      "decided to 341231\n",
      "to withdraw 1360315\n",
      "withdraw from 1492377\n",
      "from common 518090\n",
      "common civility 286699\n",
      "civility in 268214\n",
      "in order 659486\n",
      "order to 958117\n",
      "to define 1353681\n",
      "define their 343674\n",
      "their own 1318136\n",
      "own mutual 973731\n",
      "mutual world 875108\n",
      "world via 1501910\n",
      "via coupled 1422864\n",
      "coupled destruction 311113\n",
      "destruction it 353882\n",
      "it is 701213\n",
      "is not 693091\n",
      "not perfect 905987\n",
      "perfect movie 993192\n",
      "movie but 862148\n",
      "but given 215986\n",
      "given what 545532\n",
      "what money 1461671\n",
      "money time 849010\n",
      "time the 1348329\n",
      "the filmmaker 1301403\n",
      "filmmaker and 481831\n",
      "and actors 67280\n",
      "actors had 27437\n",
      "had it 573438\n",
      "is remarkable 694173\n",
      "remarkable product 1085063\n",
      "product in 1039206\n",
      "in terms 661554\n",
      "terms of 1281374\n",
      "of explaining 922432\n",
      "explaining the 448591\n",
      "the motives 1306469\n",
      "motives and 860086\n",
      "and actions 67272\n",
      "actions of 26144\n",
      "of the 930900\n",
      "the two 1313544\n",
      "two young 1388777\n",
      "young suicide 1517186\n",
      "suicide murderers 1254599\n",
      "murderers it 871825\n",
      "is better 688662\n",
      "better than 172526\n",
      "than elephant 1284795\n",
      "elephant in 409855\n",
      "being film 164336\n",
      "film that 480864\n",
      "that gets 1289614\n",
      "gets under 539835\n",
      "under our 1394663\n",
      "our rationalistic 965207\n"
     ]
    }
   ],
   "source": [
    "count = 0\n",
    "for key, value in vect.vocabulary_.items():\n",
    "    #value = vect.vocabulary_[key]\n",
    "    if len(key.split())>1:\n",
    "        print(key, value)\n",
    "        count += 1\n",
    "    if count>=100: break\n",
    "    "
   ]
  },
  {
   "cell_type": "code",
   "execution_count": 12,
   "metadata": {
    "collapsed": true
   },
   "outputs": [
    {
     "name": "stdout",
     "output_type": "stream",
     "text": [
      "91 zero day 1520834\n",
      "92 day leads 336192\n",
      "93 leads you 753163\n",
      "94 you to 1516060\n",
      "95 to think 1359588\n",
      "96 think even 1330822\n",
      "97 even re 434458\n",
      "98 re think 1066618\n",
      "99 think why 1331417\n",
      "100 why two 1477446\n",
      "101 two boys 1387196\n",
      "102 boys young 198116\n",
      "103 young men 1516894\n",
      "104 men would 829363\n",
      "105 would do 1504371\n",
      "106 do what 376359\n",
      "107 what they 1462273\n",
      "108 they did 1327486\n",
      "109 did commit 359052\n",
      "110 commit mutual 286423\n",
      "111 mutual suicide 875103\n",
      "112 suicide via 1254651\n",
      "113 via slaughtering 1422933\n",
      "114 slaughtering their 1186860\n",
      "115 their classmates 1316531\n",
      "116 classmates it 270748\n",
      "117 it captures 699350\n",
      "118 captures what 234461\n",
      "119 what must 1461706\n",
      "120 must be 874228\n",
      "121 be beyond 147994\n",
      "122 beyond bizarre 174321\n",
      "123 bizarre mode 180315\n",
      "124 mode of 845863\n",
      "125 of being 919212\n",
      "126 being for 164359\n",
      "127 for two 504219\n",
      "128 two humans 1387770\n",
      "129 humans who 640029\n",
      "130 who have 1473169\n",
      "131 have decided 588492\n",
      "132 decided to 341231\n",
      "133 to withdraw 1360315\n",
      "134 withdraw from 1492377\n",
      "135 from common 518090\n",
      "136 common civility 286699\n",
      "137 civility in 268214\n",
      "138 in order 659486\n",
      "139 order to 958117\n",
      "140 to define 1353681\n",
      "141 define their 343674\n",
      "142 their own 1318136\n",
      "143 own mutual 973731\n",
      "144 mutual world 875108\n",
      "145 world via 1501910\n",
      "146 via coupled 1422864\n",
      "147 coupled destruction 311113\n",
      "148 destruction it 353882\n",
      "149 it is 701213\n",
      "150 is not 693091\n",
      "151 not perfect 905987\n",
      "152 perfect movie 993192\n",
      "153 movie but 862148\n",
      "154 but given 215986\n",
      "155 given what 545532\n",
      "156 what money 1461671\n",
      "157 money time 849010\n",
      "158 time the 1348329\n",
      "159 the filmmaker 1301403\n",
      "160 filmmaker and 481831\n",
      "161 and actors 67280\n",
      "162 actors had 27437\n",
      "163 had it 573438\n",
      "164 is remarkable 694173\n",
      "165 remarkable product 1085063\n",
      "166 product in 1039206\n",
      "167 in terms 661554\n",
      "168 terms of 1281374\n",
      "169 of explaining 922432\n",
      "170 explaining the 448591\n",
      "171 the motives 1306469\n",
      "172 motives and 860086\n",
      "173 and actions 67272\n",
      "174 actions of 26144\n",
      "175 of the 930900\n",
      "176 the two 1313544\n",
      "177 two young 1388777\n",
      "178 young suicide 1517186\n",
      "179 suicide murderers 1254599\n",
      "180 murderers it 871825\n",
      "181 is better 688662\n",
      "182 better than 172526\n",
      "183 than elephant 1284795\n",
      "184 elephant in 409855\n",
      "185 being film 164336\n",
      "186 film that 480864\n",
      "187 that gets 1289614\n",
      "188 gets under 539835\n",
      "189 under our 1394663\n",
      "190 our rationalistic 965207\n"
     ]
    }
   ],
   "source": [
    "count = 0\n",
    "for i, (key, value) in enumerate(vect.vocabulary_.items()):\n",
    "    #value = vect.vocabulary_[key]\n",
    "    if len(key.split())>1:\n",
    "        print(i, key, value)\n",
    "        count += 1\n",
    "    if count>=100: break\n",
    "    "
   ]
  },
  {
   "cell_type": "code",
   "execution_count": 13,
   "metadata": {
    "collapsed": true
   },
   "outputs": [
    {
     "name": "stdout",
     "output_type": "stream",
     "text": [
      "0 zero 1520800\n",
      "1 day 335833\n",
      "2 leads 752939\n",
      "3 you 1514411\n",
      "4 to 1351613\n",
      "5 think 1330593\n",
      "6 even 432766\n",
      "7 re 1065583\n",
      "8 why 1476710\n",
      "9 two 1387034\n",
      "10 boys 197829\n",
      "11 young 1516285\n",
      "12 men 828779\n",
      "13 would 1504107\n",
      "14 do 375409\n",
      "15 what 1460602\n",
      "16 they 1327051\n",
      "17 did 358899\n",
      "18 commit 286394\n",
      "19 mutual 875066\n",
      "20 suicide 1254516\n",
      "21 via 1422846\n",
      "22 slaughtering 1186849\n",
      "23 their 1316009\n",
      "24 classmates 270738\n",
      "25 it 698643\n",
      "26 captures 234403\n",
      "27 must 874192\n",
      "28 be 147634\n",
      "29 beyond 174295\n",
      "30 bizarre 180159\n",
      "31 mode 845837\n",
      "32 of 917907\n",
      "33 being 163650\n",
      "34 for 499074\n",
      "35 humans 639890\n",
      "36 who 1472117\n",
      "37 have 587857\n",
      "38 decided 341187\n",
      "39 withdraw 1492375\n",
      "40 from 517274\n",
      "41 common 286670\n",
      "42 civility 268211\n",
      "43 in 654558\n",
      "44 order 958004\n",
      "45 define 343650\n",
      "46 own 972975\n",
      "47 world 1501186\n",
      "48 coupled 311111\n",
      "49 destruction 353846\n",
      "50 is 687908\n",
      "51 not 903720\n",
      "52 perfect 992871\n",
      "53 movie 861690\n",
      "54 but 214578\n",
      "55 given 545107\n",
      "56 money 848624\n",
      "57 time 1346692\n",
      "58 the 1294444\n",
      "59 filmmaker 481824\n",
      "60 and 66986\n",
      "61 actors 27116\n",
      "62 had 572635\n",
      "63 remarkable 1084947\n",
      "64 product 1039171\n",
      "65 terms 1281325\n",
      "66 explaining 448560\n",
      "67 motives 860083\n",
      "68 actions 26076\n",
      "69 murderers 871811\n",
      "70 better 171666\n",
      "71 than 1284131\n",
      "72 elephant 409835\n",
      "73 film 477429\n",
      "74 that 1286855\n",
      "75 gets 539018\n",
      "76 under 1394397\n",
      "77 our 964486\n",
      "78 rationalistic 1064520\n",
      "79 skin 1185065\n",
      "80 far 462096\n",
      "81 almost 51129\n",
      "82 anything 95713\n",
      "83 are 101658\n",
      "84 likely 770426\n",
      "85 see 1141312\n",
      "86 flawed 492380\n",
      "87 honest 627757\n",
      "88 with 1484862\n",
      "89 terrible 1281490\n",
      "90 honesty 628137\n",
      "91 zero day 1520834\n",
      "92 day leads 336192\n",
      "93 leads you 753163\n",
      "94 you to 1516060\n",
      "95 to think 1359588\n",
      "96 think even 1330822\n",
      "97 even re 434458\n",
      "98 re think 1066618\n",
      "99 think why 1331417\n"
     ]
    }
   ],
   "source": [
    "count=0\n",
    "for i, (key, value) in enumerate(vect.vocabulary_.items()):\n",
    "    #value = vect.vocabulary_[key]\n",
    "    print(i, key, value)\n",
    "    count += 1\n",
    "    if count>=100: break"
   ]
  },
  {
   "cell_type": "code",
   "execution_count": 15,
   "metadata": {},
   "outputs": [],
   "source": [
    "fn = np.array(vect.get_feature_names())"
   ]
  },
  {
   "cell_type": "code",
   "execution_count": 17,
   "metadata": {},
   "outputs": [
    {
     "data": {
      "text/plain": [
       "542057704"
      ]
     },
     "execution_count": 17,
     "metadata": {},
     "output_type": "execute_result"
    }
   ],
   "source": [
    "fn.nbytes"
   ]
  },
  {
   "cell_type": "code",
   "execution_count": 18,
   "metadata": {},
   "outputs": [
    {
     "data": {
      "text/plain": [
       "array(['00', 'appreciating the', 'brazil minha', 'contessa',\n",
       "       'early actresses', 'for cheap', 'heist thing', 'it disheartening',\n",
       "       'mainly related', 'nobody writes', 'pheobe buffay', 'rifle much',\n",
       "       'solved and', 'the doorstep', 'unintelligible half',\n",
       "       'work optimally'], dtype='<U89')"
      ]
     },
     "execution_count": 18,
     "metadata": {},
     "output_type": "execute_result"
    }
   ],
   "source": [
    "fn[::100000]"
   ]
  },
  {
   "cell_type": "markdown",
   "metadata": {},
   "source": [
    "- 학습"
   ]
  },
  {
   "cell_type": "code",
   "execution_count": 3,
   "metadata": {},
   "outputs": [],
   "source": [
    "from sklearn.feature_extraction.text import CountVectorizer\n",
    "\n",
    "vect = CountVectorizer(ngram_range=(1,2))\n",
    "X_train = vect.fit_transform(text_train)"
   ]
  },
  {
   "cell_type": "code",
   "execution_count": 19,
   "metadata": {},
   "outputs": [
    {
     "data": {
      "text/plain": [
       "array([0.88660907, 0.89404848, 0.89354297])"
      ]
     },
     "execution_count": 19,
     "metadata": {},
     "output_type": "execute_result"
    }
   ],
   "source": [
    "from sklearn.model_selection import cross_val_score\n",
    "from sklearn.linear_model import LogisticRegression\n",
    "\n",
    "scores = cross_val_score(LogisticRegression(C=10), X_train, y_train)\n",
    "scores"
   ]
  },
  {
   "cell_type": "markdown",
   "metadata": {},
   "source": [
    ">확인문제<br>\n",
    ">- 단어수를 3개로 늘려서 테스트\n",
    ">- Tfidf 를 적용해서 테스트 (단어수는 2개)"
   ]
  },
  {
   "cell_type": "code",
   "execution_count": 21,
   "metadata": {},
   "outputs": [],
   "source": [
    "vect = CountVectorizer(ngram_range=(1,3))\n",
    "X_train = vect.fit_transform(text_train)"
   ]
  },
  {
   "cell_type": "code",
   "execution_count": 22,
   "metadata": {},
   "outputs": [
    {
     "data": {
      "text/plain": [
       "array([0.88420926, 0.89392849, 0.89162266])"
      ]
     },
     "execution_count": 22,
     "metadata": {},
     "output_type": "execute_result"
    }
   ],
   "source": [
    "scores = cross_val_score(LogisticRegression(C=10), X_train, y_train)\n",
    "scores"
   ]
  },
  {
   "cell_type": "code",
   "execution_count": 23,
   "metadata": {},
   "outputs": [],
   "source": [
    "from sklearn.feature_extraction.text import TfidfTransformer\n",
    "\n",
    "tfidf = TfidfTransformer()\n",
    "X_train_tfidf = tfidf.fit_transform(X_train)"
   ]
  },
  {
   "cell_type": "code",
   "execution_count": 24,
   "metadata": {},
   "outputs": [
    {
     "data": {
      "text/plain": [
       "array([0.88972882, 0.89440845, 0.89222276])"
      ]
     },
     "execution_count": 24,
     "metadata": {},
     "output_type": "execute_result"
    }
   ],
   "source": [
    "scores = cross_val_score(LogisticRegression(C=10), X_train_tfidf, y_train)\n",
    "scores"
   ]
  },
  {
   "cell_type": "markdown",
   "metadata": {},
   "source": [
    "- 계수 조사를 위해 모델을 만든다\n",
    "- <font color=\"red\">아래 분류 작업은 시간이 오래 걸린다</font>"
   ]
  },
  {
   "cell_type": "code",
   "execution_count": 29,
   "metadata": {},
   "outputs": [
    {
     "data": {
      "text/plain": [
       "LogisticRegression(C=10, class_weight=None, dual=False, fit_intercept=True,\n",
       "          intercept_scaling=1, max_iter=100, multi_class='ovr', n_jobs=1,\n",
       "          penalty='l2', random_state=None, solver='liblinear', tol=0.0001,\n",
       "          verbose=0, warm_start=False)"
      ]
     },
     "execution_count": 29,
     "metadata": {},
     "output_type": "execute_result"
    }
   ],
   "source": [
    "vect = CountVectorizer(ngram_range=(1,2))\n",
    "X_train = vect.fit_transform(text_train)\n",
    "\n",
    "model = LogisticRegression(C=10) # 교재 414 쪽 참조\n",
    "model.fit(X_train, y_train)"
   ]
  },
  {
   "cell_type": "code",
   "execution_count": 30,
   "metadata": {},
   "outputs": [],
   "source": [
    "text_test = [s.decode().replace('<br />', '') for s in imdb_test.data]\n",
    "y_test = imdb_test.target"
   ]
  },
  {
   "cell_type": "code",
   "execution_count": 31,
   "metadata": {},
   "outputs": [],
   "source": [
    "X_test = vect.transform(text_test)"
   ]
  },
  {
   "cell_type": "code",
   "execution_count": 32,
   "metadata": {},
   "outputs": [
    {
     "data": {
      "text/plain": [
       "0.89516"
      ]
     },
     "execution_count": 32,
     "metadata": {},
     "output_type": "execute_result"
    }
   ],
   "source": [
    "model.score(X_test, y_test)"
   ]
  },
  {
   "cell_type": "code",
   "execution_count": null,
   "metadata": {},
   "outputs": [],
   "source": []
  },
  {
   "cell_type": "code",
   "execution_count": 33,
   "metadata": {},
   "outputs": [
    {
     "data": {
      "text/plain": [
       "(1522634,)"
      ]
     },
     "execution_count": 33,
     "metadata": {},
     "output_type": "execute_result"
    }
   ],
   "source": [
    "model.coef_[0].shape"
   ]
  },
  {
   "cell_type": "code",
   "execution_count": 34,
   "metadata": {},
   "outputs": [
    {
     "data": {
      "text/plain": [
       "1.7093667460509927"
      ]
     },
     "execution_count": 34,
     "metadata": {},
     "output_type": "execute_result"
    }
   ],
   "source": [
    "model.coef_[0].max()"
   ]
  },
  {
   "cell_type": "code",
   "execution_count": 35,
   "metadata": {},
   "outputs": [
    {
     "data": {
      "text/plain": [
       "-2.1576467734795717"
      ]
     },
     "execution_count": 35,
     "metadata": {},
     "output_type": "execute_result"
    }
   ],
   "source": [
    "model.coef_[0].min()"
   ]
  },
  {
   "cell_type": "code",
   "execution_count": 37,
   "metadata": {},
   "outputs": [
    {
     "data": {
      "text/plain": [
       "array([-2.15764677, -2.01451717, -1.92585982, -1.78796949, -1.68226864,\n",
       "       -1.52872766, -1.49864179, -1.4969313 , -1.47670057, -1.40364534])"
      ]
     },
     "execution_count": 37,
     "metadata": {},
     "output_type": "execute_result"
    }
   ],
   "source": [
    "w = model.coef_[0]\n",
    "w_sorted = np.sort(w)\n",
    "w_sorted[:10]"
   ]
  },
  {
   "cell_type": "code",
   "execution_count": 43,
   "metadata": {},
   "outputs": [
    {
     "data": {
      "text/plain": [
       "(-2.5, 0)"
      ]
     },
     "execution_count": 43,
     "metadata": {},
     "output_type": "execute_result"
    },
    {
     "data": {
      "image/png": "[encoded data removed]",
      "text/plain": [
       "<matplotlib.figure.Figure at 0x1b222391d68>"
      ]
     },
     "metadata": {},
     "output_type": "display_data"
    }
   ],
   "source": [
    "plt.plot(w_sorted[:1000])\n",
    "plt.ylim(-2.5,0)"
   ]
  },
  {
   "cell_type": "code",
   "execution_count": 39,
   "metadata": {},
   "outputs": [
    {
     "data": {
      "text/plain": [
       "(0, 2)"
      ]
     },
     "execution_count": 39,
     "metadata": {},
     "output_type": "execute_result"
    },
    {
     "data": {
      "image/png": "[encoded data removed]",
      "text/plain": [
       "<matplotlib.figure.Figure at 0x1b22e000d30>"
      ]
     },
     "metadata": {},
     "output_type": "display_data"
    }
   ],
   "source": [
    "plt.plot(w_sorted[-500:])\n",
    "plt.ylim(0,2)"
   ]
  },
  {
   "cell_type": "code",
   "execution_count": 40,
   "metadata": {},
   "outputs": [
    {
     "data": {
      "text/plain": [
       "[<matplotlib.lines.Line2D at 0x1b2182f4f28>]"
      ]
     },
     "execution_count": 40,
     "metadata": {},
     "output_type": "execute_result"
    },
    {
     "data": {
      "image/png": "[encoded data removed]",
      "text/plain": [
       "<matplotlib.figure.Figure at 0x1b216f9fef0>"
      ]
     },
     "metadata": {},
     "output_type": "display_data"
    }
   ],
   "source": [
    "plt.plot(w_sorted[::1000])"
   ]
  },
  {
   "cell_type": "markdown",
   "metadata": {},
   "source": [
    "- argsort()"
   ]
  },
  {
   "cell_type": "code",
   "execution_count": 21,
   "metadata": {},
   "outputs": [
    {
     "data": {
      "text/plain": [
       "array([41,  3,  4, 25, 68])"
      ]
     },
     "execution_count": 21,
     "metadata": {},
     "output_type": "execute_result"
    }
   ],
   "source": [
    "nums = np.random.randint(0, 100, size=5)\n",
    "nums"
   ]
  },
  {
   "cell_type": "code",
   "execution_count": 22,
   "metadata": {},
   "outputs": [
    {
     "data": {
      "text/plain": [
       "array([ 3,  4, 25, 41, 68])"
      ]
     },
     "execution_count": 22,
     "metadata": {},
     "output_type": "execute_result"
    }
   ],
   "source": [
    "np.sort(nums)"
   ]
  },
  {
   "cell_type": "code",
   "execution_count": 23,
   "metadata": {},
   "outputs": [
    {
     "data": {
      "text/plain": [
       "array([1, 2, 3, 0, 4], dtype=int64)"
      ]
     },
     "execution_count": 23,
     "metadata": {},
     "output_type": "execute_result"
    }
   ],
   "source": [
    "np.argsort(nums)"
   ]
  },
  {
   "cell_type": "code",
   "execution_count": 27,
   "metadata": {},
   "outputs": [
    {
     "data": {
      "text/plain": [
       "'appreciating the'"
      ]
     },
     "execution_count": 27,
     "metadata": {},
     "output_type": "execute_result"
    }
   ],
   "source": [
    "fn[100000]"
   ]
  },
  {
   "cell_type": "code",
   "execution_count": 28,
   "metadata": {},
   "outputs": [
    {
     "data": {
      "text/plain": [
       "0.0035644911195093494"
      ]
     },
     "execution_count": 28,
     "metadata": {},
     "output_type": "execute_result"
    }
   ],
   "source": [
    "w[100000]"
   ]
  },
  {
   "cell_type": "code",
   "execution_count": 29,
   "metadata": {},
   "outputs": [
    {
     "data": {
      "text/plain": [
       "array([ 874526,  560682,  665584,  203000,   59411,  420060, 1256852,\n",
       "       1496779,  992871,  442156], dtype=int64)"
      ]
     },
     "execution_count": 29,
     "metadata": {},
     "output_type": "execute_result"
    }
   ],
   "source": [
    "w_sort_pos = np.argsort(w)\n",
    "w_sort_pos[-10:]"
   ]
  },
  {
   "cell_type": "code",
   "execution_count": 30,
   "metadata": {},
   "outputs": [
    {
     "data": {
      "text/plain": [
       "'excellent'"
      ]
     },
     "execution_count": 30,
     "metadata": {},
     "output_type": "execute_result"
    }
   ],
   "source": [
    "fn[442156] # 가중치가 가장 높은 속성 이름"
   ]
  },
  {
   "cell_type": "code",
   "execution_count": 31,
   "metadata": {},
   "outputs": [
    {
     "data": {
      "text/plain": [
       "array([1502853,  133566,  192467, 1444769,  368303, 1281490, 1020318,\n",
       "       1019538,  368109, 1502420], dtype=int64)"
      ]
     },
     "execution_count": 31,
     "metadata": {},
     "output_type": "execute_result"
    }
   ],
   "source": [
    "w_sort_pos[:10]"
   ]
  },
  {
   "cell_type": "code",
   "execution_count": 32,
   "metadata": {},
   "outputs": [
    {
     "data": {
      "text/plain": [
       "'worst'"
      ]
     },
     "execution_count": 32,
     "metadata": {},
     "output_type": "execute_result"
    }
   ],
   "source": [
    "fn[1502853] # 가중치가 가장 낮은 속성 이름"
   ]
  },
  {
   "cell_type": "code",
   "execution_count": null,
   "metadata": {},
   "outputs": [],
   "source": []
  },
  {
   "cell_type": "code",
   "execution_count": 35,
   "metadata": {},
   "outputs": [
    {
     "data": {
      "text/plain": [
       "array([1502853,  133566,  192467, 1444769,  368303, 1281490, 1020318,\n",
       "       1019538,  368109, 1502420, 1314941,  742230,  630495,  394928,\n",
       "        907226,  831897,  743709,  131835, 1124320, 1451179,  866422,\n",
       "        344355,     395,  523326,  172526, 1079245, 1062135, 1497381,\n",
       "       1456018, 1360601,  874526,  560682,  665584,  203000,   59411,\n",
       "        420060, 1256852, 1496779,  992871,  442156], dtype=int64)"
      ]
     },
     "execution_count": 35,
     "metadata": {},
     "output_type": "execute_result"
    }
   ],
   "source": [
    "pos"
   ]
  },
  {
   "cell_type": "code",
   "execution_count": 39,
   "metadata": {
    "scrolled": true
   },
   "outputs": [
    {
     "name": "stdout",
     "output_type": "stream",
     "text": [
      "\n"
     ]
    },
    {
     "data": {
      "image/png": "[encoded data removed]",
      "text/plain": [
       "<Figure size 864x288 with 1 Axes>"
      ]
     },
     "metadata": {
      "needs_background": "light"
     },
     "output_type": "display_data"
    }
   ],
   "source": [
    "w = model.coef_[0]\n",
    "indexer = w.argsort()\n",
    "\n",
    "pos = np.r_[indexer[:20],indexer[-20:]]\n",
    "\n",
    "plt.figure(figsize=[12,4])\n",
    "plt.bar(range(40),w[pos])\n",
    "plt.xticks(range(40), fn[pos], rotation=90, ha='left')\n",
    "print('')"
   ]
  },
  {
   "cell_type": "code",
   "execution_count": 48,
   "metadata": {},
   "outputs": [],
   "source": [
    "#mask = (np.array([len(s.split(' ')) for s in fn]) == 2)\n",
    "mask = np.array([s.find(' ')>=0 for s in fn])"
   ]
  },
  {
   "cell_type": "code",
   "execution_count": 49,
   "metadata": {},
   "outputs": [],
   "source": [
    "w2 = w[mask]\n",
    "indexer = w2.argsort()"
   ]
  },
  {
   "cell_type": "code",
   "execution_count": 50,
   "metadata": {},
   "outputs": [
    {
     "data": {
      "text/plain": [
       "array(['00 01', '00 after', '00 alison', '00 am', '00 and', '00 at',\n",
       "       '00 back', '00 bin', '00 budget', '00 but'], dtype='<U89')"
      ]
     },
     "execution_count": 50,
     "metadata": {},
     "output_type": "execute_result"
    }
   ],
   "source": [
    "fn2 = fn[mask]"
   ]
  },
  {
   "cell_type": "code",
   "execution_count": 60,
   "metadata": {},
   "outputs": [
    {
     "name": "stdout",
     "output_type": "stream",
     "text": [
      "\n"
     ]
    },
    {
     "data": {
      "image/png": "[encoded data removed]",
      "text/plain": [
       "<Figure size 864x288 with 1 Axes>"
      ]
     },
     "metadata": {
      "needs_background": "light"
     },
     "output_type": "display_data"
    }
   ],
   "source": [
    "plt.figure(figsize=[12,4])\n",
    "plt.bar(range(80),w2[np.r_[indexer[:40],indexer[-40:]]])\n",
    "plt.xticks(range(80), fn2[np.r_[indexer[:40],indexer[-40:]]], rotation=90, ha='left')\n",
    "print('')"
   ]
  },
  {
   "cell_type": "code",
   "execution_count": 52,
   "metadata": {},
   "outputs": [
    {
     "name": "stdout",
     "output_type": "stream",
     "text": [
      "\n"
     ]
    },
    {
     "data": {
      "image/png": "[encoded data removed]",
      "text/plain": [
       "<Figure size 864x288 with 1 Axes>"
      ]
     },
     "metadata": {
      "needs_background": "light"
     },
     "output_type": "display_data"
    }
   ],
   "source": [
    "plt.figure(figsize=[12,4])\n",
    "plt.bar(range(200),w2[np.r_[indexer[:100],indexer[-100:]]])\n",
    "#plt.xticks(range(80), fn2[np.r_[indexer[:40],indexer[-40:]]], rotation=90, ha='left')\n",
    "print('')"
   ]
  }
 ],
 "metadata": {
  "kernelspec": {
   "display_name": "Python 3",
   "language": "python",
   "name": "python3"
  },
  "language_info": {
   "codemirror_mode": {
    "name": "ipython",
    "version": 3
   },
   "file_extension": ".py",
   "mimetype": "text/x-python",
   "name": "python",
   "nbconvert_exporter": "python",
   "pygments_lexer": "ipython3",
   "version": "3.6.4"
  }
 },
 "nbformat": 4,
 "nbformat_minor": 1
}
