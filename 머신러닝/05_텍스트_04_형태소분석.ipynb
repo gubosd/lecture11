{
 "cells": [
  {
   "cell_type": "markdown",
   "metadata": {},
   "source": [
    "### 파이썬 머신러닝\n",
    "## 텍스트 데이터 다루기\n",
    "---\n",
    "## KoNLPY 를 이용한 네이버 영화 리뷰 다루기"
   ]
  },
  {
   "cell_type": "markdown",
   "metadata": {},
   "source": [
    "### 영화 리뷰 다운로드\n",
    "- https://github.com/e9t/nsmc\n",
    "- ratings_train.txt 와 ratings_test.txt 다운로드"
   ]
  },
  {
   "cell_type": "markdown",
   "metadata": {},
   "source": [
    "### 데이터 읽어오기"
   ]
  },
  {
   "cell_type": "code",
   "execution_count": 1,
   "metadata": {},
   "outputs": [],
   "source": [
    "import numpy as np\n",
    "import pandas as pd\n",
    "import matplotlib.pyplot as plt"
   ]
  },
  {
   "cell_type": "code",
   "execution_count": 2,
   "metadata": {},
   "outputs": [],
   "source": [
    "df_train = pd.read_csv('ratings_train.txt', delimiter='\\t', \n",
    "                       keep_default_na=False)"
   ]
  },
  {
   "cell_type": "code",
   "execution_count": 3,
   "metadata": {},
   "outputs": [
    {
     "data": {
      "text/plain": [
       "(150000, 3)"
      ]
     },
     "execution_count": 3,
     "metadata": {},
     "output_type": "execute_result"
    }
   ],
   "source": [
    "df_train.shape"
   ]
  },
  {
   "cell_type": "code",
   "execution_count": 4,
   "metadata": {},
   "outputs": [
    {
     "data": {
      "text/html": [
       "<div>\n",
       "<style scoped>\n",
       "    .dataframe tbody tr th:only-of-type {\n",
       "        vertical-align: middle;\n",
       "    }\n",
       "\n",
       "    .dataframe tbody tr th {\n",
       "        vertical-align: top;\n",
       "    }\n",
       "\n",
       "    .dataframe thead th {\n",
       "        text-align: right;\n",
       "    }\n",
       "</style>\n",
       "<table border=\"1\" class=\"dataframe\">\n",
       "  <thead>\n",
       "    <tr style=\"text-align: right;\">\n",
       "      <th></th>\n",
       "      <th>id</th>\n",
       "      <th>document</th>\n",
       "      <th>label</th>\n",
       "    </tr>\n",
       "  </thead>\n",
       "  <tbody>\n",
       "    <tr>\n",
       "      <th>149995</th>\n",
       "      <td>6222902</td>\n",
       "      <td>인간이 문제지.. 소는 뭔죄인가..</td>\n",
       "      <td>0</td>\n",
       "    </tr>\n",
       "    <tr>\n",
       "      <th>149996</th>\n",
       "      <td>8549745</td>\n",
       "      <td>평점이 너무 낮아서...</td>\n",
       "      <td>1</td>\n",
       "    </tr>\n",
       "    <tr>\n",
       "      <th>149997</th>\n",
       "      <td>9311800</td>\n",
       "      <td>이게 뭐요? 한국인은 거들먹거리고 필리핀 혼혈은 착하다?</td>\n",
       "      <td>0</td>\n",
       "    </tr>\n",
       "    <tr>\n",
       "      <th>149998</th>\n",
       "      <td>2376369</td>\n",
       "      <td>청춘 영화의 최고봉.방황과 우울했던 날들의 자화상</td>\n",
       "      <td>1</td>\n",
       "    </tr>\n",
       "    <tr>\n",
       "      <th>149999</th>\n",
       "      <td>9619869</td>\n",
       "      <td>한국 영화 최초로 수간하는 내용이 담긴 영화</td>\n",
       "      <td>0</td>\n",
       "    </tr>\n",
       "  </tbody>\n",
       "</table>\n",
       "</div>"
      ],
      "text/plain": [
       "             id                         document  label\n",
       "149995  6222902              인간이 문제지.. 소는 뭔죄인가..      0\n",
       "149996  8549745                    평점이 너무 낮아서...      1\n",
       "149997  9311800  이게 뭐요? 한국인은 거들먹거리고 필리핀 혼혈은 착하다?      0\n",
       "149998  2376369      청춘 영화의 최고봉.방황과 우울했던 날들의 자화상      1\n",
       "149999  9619869         한국 영화 최초로 수간하는 내용이 담긴 영화      0"
      ]
     },
     "execution_count": 4,
     "metadata": {},
     "output_type": "execute_result"
    }
   ],
   "source": [
    "df_train.tail(5) # label 0: 부정, label 1: 긍정"
   ]
  },
  {
   "cell_type": "code",
   "execution_count": 5,
   "metadata": {},
   "outputs": [],
   "source": [
    "df_test = pd.read_csv('ratings_test.txt', delimiter='\\t', keep_default_na=False)"
   ]
  },
  {
   "cell_type": "code",
   "execution_count": 6,
   "metadata": {},
   "outputs": [
    {
     "data": {
      "text/plain": [
       "(50000, 3)"
      ]
     },
     "execution_count": 6,
     "metadata": {},
     "output_type": "execute_result"
    }
   ],
   "source": [
    "df_test.shape"
   ]
  },
  {
   "cell_type": "code",
   "execution_count": 7,
   "metadata": {},
   "outputs": [
    {
     "data": {
      "text/html": [
       "<div>\n",
       "<style scoped>\n",
       "    .dataframe tbody tr th:only-of-type {\n",
       "        vertical-align: middle;\n",
       "    }\n",
       "\n",
       "    .dataframe tbody tr th {\n",
       "        vertical-align: top;\n",
       "    }\n",
       "\n",
       "    .dataframe thead th {\n",
       "        text-align: right;\n",
       "    }\n",
       "</style>\n",
       "<table border=\"1\" class=\"dataframe\">\n",
       "  <thead>\n",
       "    <tr style=\"text-align: right;\">\n",
       "      <th></th>\n",
       "      <th>id</th>\n",
       "      <th>document</th>\n",
       "      <th>label</th>\n",
       "    </tr>\n",
       "  </thead>\n",
       "  <tbody>\n",
       "    <tr>\n",
       "      <th>0</th>\n",
       "      <td>6270596</td>\n",
       "      <td>굳 ㅋ</td>\n",
       "      <td>1</td>\n",
       "    </tr>\n",
       "    <tr>\n",
       "      <th>1</th>\n",
       "      <td>9274899</td>\n",
       "      <td>GDNTOPCLASSINTHECLUB</td>\n",
       "      <td>0</td>\n",
       "    </tr>\n",
       "    <tr>\n",
       "      <th>2</th>\n",
       "      <td>8544678</td>\n",
       "      <td>뭐야 이 평점들은.... 나쁘진 않지만 10점 짜리는 더더욱 아니잖아</td>\n",
       "      <td>0</td>\n",
       "    </tr>\n",
       "    <tr>\n",
       "      <th>3</th>\n",
       "      <td>6825595</td>\n",
       "      <td>지루하지는 않은데 완전 막장임... 돈주고 보기에는....</td>\n",
       "      <td>0</td>\n",
       "    </tr>\n",
       "    <tr>\n",
       "      <th>4</th>\n",
       "      <td>6723715</td>\n",
       "      <td>3D만 아니었어도 별 다섯 개 줬을텐데.. 왜 3D로 나와서 제 심기를 불편하게 하죠??</td>\n",
       "      <td>0</td>\n",
       "    </tr>\n",
       "  </tbody>\n",
       "</table>\n",
       "</div>"
      ],
      "text/plain": [
       "        id                                           document  label\n",
       "0  6270596                                                굳 ㅋ      1\n",
       "1  9274899                               GDNTOPCLASSINTHECLUB      0\n",
       "2  8544678             뭐야 이 평점들은.... 나쁘진 않지만 10점 짜리는 더더욱 아니잖아      0\n",
       "3  6825595                   지루하지는 않은데 완전 막장임... 돈주고 보기에는....      0\n",
       "4  6723715  3D만 아니었어도 별 다섯 개 줬을텐데.. 왜 3D로 나와서 제 심기를 불편하게 하죠??      0"
      ]
     },
     "execution_count": 7,
     "metadata": {},
     "output_type": "execute_result"
    }
   ],
   "source": [
    "df_test.head(5)"
   ]
  },
  {
   "cell_type": "markdown",
   "metadata": {},
   "source": [
    "### Numpy 어레이로 변환"
   ]
  },
  {
   "cell_type": "code",
   "execution_count": 8,
   "metadata": {},
   "outputs": [],
   "source": [
    "text_train = df_train.document.values\n",
    "y_train = df_train.label.values\n",
    "\n",
    "text_test = df_test.document.values\n",
    "y_test = df_test.label.values"
   ]
  },
  {
   "cell_type": "code",
   "execution_count": 9,
   "metadata": {},
   "outputs": [
    {
     "data": {
      "text/plain": [
       "(150000,)"
      ]
     },
     "metadata": {},
     "output_type": "display_data"
    },
    {
     "data": {
      "text/plain": [
       "(150000,)"
      ]
     },
     "metadata": {},
     "output_type": "display_data"
    },
    {
     "data": {
      "text/plain": [
       "(50000,)"
      ]
     },
     "metadata": {},
     "output_type": "display_data"
    },
    {
     "data": {
      "text/plain": [
       "(50000,)"
      ]
     },
     "metadata": {},
     "output_type": "display_data"
    }
   ],
   "source": [
    "display(text_train.shape, y_train.shape)\n",
    "display(text_test.shape, y_test.shape)"
   ]
  },
  {
   "cell_type": "code",
   "execution_count": 10,
   "metadata": {},
   "outputs": [
    {
     "data": {
      "text/plain": [
       "array([75173, 74827], dtype=int64)"
      ]
     },
     "execution_count": 10,
     "metadata": {},
     "output_type": "execute_result"
    }
   ],
   "source": [
    "np.bincount(y_train)"
   ]
  },
  {
   "cell_type": "code",
   "execution_count": 11,
   "metadata": {},
   "outputs": [
    {
     "data": {
      "text/plain": [
       "array([24827, 25173], dtype=int64)"
      ]
     },
     "execution_count": 11,
     "metadata": {},
     "output_type": "execute_result"
    }
   ],
   "source": [
    "np.bincount(y_test)"
   ]
  },
  {
   "cell_type": "markdown",
   "metadata": {},
   "source": [
    "### konlpy 설치\n",
    "\n",
    "- http://konlpy.org/ko/latest/install/ 도움말 참조하여 설치 진행\n",
    "> 32비트와 64비트에 맞게 설치 진행 (아래는 64비트 기준임)\n",
    "\n",
    "- 자바 jdk 설치\n",
    "> 환경변수 PATH 에 C:\\Program Files\\Java\\jdk1.8.0_251\\bin 와 같이 추가\n",
    "\n",
    "- JAVA_HOME 설정\n",
    "> C:\\Program Files\\Java\\jdk1.8.0_251\n",
    "\n",
    "- pip 업그레이드\n",
    "> 아나콘다 프롬프트를 관리자 권한으로 실행<br>\n",
    "> (base) >pip install --upgrade pip\n",
    "\n",
    "- JPype1 설치\n",
    ">- https://www.lfd.uci.edu/~gohlke/pythonlibs/#jpype 에서<br>\n",
    "> JPype1-0.7.3-cp36-cp36m-win_amd64.whl 다운로드<br>\n",
    ">- (base) >pip install JPype1-0.7.3-cp36-cp36m-win_amd64.whl\n",
    "\n",
    "- konlpy 설치\n",
    "> (base) >pip install konlpy\n",
    "\n",
    "- 아나콘다 프롬프트와 jupyter notebook 재실행"
   ]
  },
  {
   "cell_type": "markdown",
   "metadata": {},
   "source": [
    "### konlpy 테스트"
   ]
  },
  {
   "cell_type": "code",
   "execution_count": 12,
   "metadata": {},
   "outputs": [],
   "source": [
    "from konlpy.tag import Twitter, Okt"
   ]
  },
  {
   "cell_type": "code",
   "execution_count": 13,
   "metadata": {},
   "outputs": [],
   "source": [
    "twitter_tag = Okt() # 기존 Twitter 에서 Okt 로 변경됨"
   ]
  },
  {
   "cell_type": "code",
   "execution_count": 23,
   "metadata": {
    "scrolled": true
   },
   "outputs": [
    {
     "data": {
      "text/plain": [
       "['도널드',\n",
       " '트럼프',\n",
       " '미국',\n",
       " '대통령',\n",
       " '은',\n",
       " '28일',\n",
       " '(',\n",
       " '현지',\n",
       " '시간',\n",
       " ')',\n",
       " '김정은',\n",
       " '북한',\n",
       " '국무위원',\n",
       " '장이',\n",
       " '살아있느냐는',\n",
       " '질문',\n",
       " '에',\n",
       " '침묵',\n",
       " '으로',\n",
       " '답변',\n",
       " '을',\n",
       " '대신',\n",
       " '했다',\n",
       " '.',\n",
       " '전날',\n",
       " '김',\n",
       " '위원장',\n",
       " '의',\n",
       " '건강',\n",
       " '상태',\n",
       " '에',\n",
       " '대해',\n",
       " '잘',\n",
       " '알',\n",
       " '고',\n",
       " '있다고',\n",
       " '언급',\n",
       " '한',\n",
       " '것',\n",
       " '과',\n",
       " '사뭇',\n",
       " '결',\n",
       " '이',\n",
       " '달라진',\n",
       " '것',\n",
       " '이다',\n",
       " '.']"
      ]
     },
     "execution_count": 23,
     "metadata": {},
     "output_type": "execute_result"
    }
   ],
   "source": [
    "twitter_tag.morphs('도널드 트럼프 미국 대통령은 28일(현지시간) 김정은 북한 국무위원장이 살아있느냐는 질문에 침묵으로 답변을 대신했다. 전날 김 위원장의 건강상태에 대해 잘 알고 있다고 언급한 것과 사뭇 결이 달라진 것이다.')"
   ]
  },
  {
   "cell_type": "code",
   "execution_count": 17,
   "metadata": {},
   "outputs": [
    {
     "data": {
      "text/plain": [
       "['겨울', '봄', '어제', '봄비']"
      ]
     },
     "execution_count": 17,
     "metadata": {},
     "output_type": "execute_result"
    }
   ],
   "source": [
    "twitter_tag.nouns('겨울이 가고 어느덧 봄이 오는지 어제는 봄비가 많이 내렸습니다')"
   ]
  },
  {
   "cell_type": "code",
   "execution_count": 19,
   "metadata": {
    "scrolled": false
   },
   "outputs": [
    {
     "data": {
      "text/plain": [
       "['겨울', '어제', '봄비']"
      ]
     },
     "execution_count": 19,
     "metadata": {},
     "output_type": "execute_result"
    }
   ],
   "source": [
    "twitter_tag.phrases('겨울이 가고 어느덧 봄이 오는지 어제는 봄비가 많이 내렸습니다')"
   ]
  },
  {
   "cell_type": "code",
   "execution_count": 20,
   "metadata": {},
   "outputs": [
    {
     "data": {
      "text/plain": [
       "['홍길동', '은', '조선시대', '사람', '이', '죠', '?']"
      ]
     },
     "execution_count": 20,
     "metadata": {},
     "output_type": "execute_result"
    }
   ],
   "source": [
    "twitter_tag.morphs('홍길동은 조선시대 사람이죠?')"
   ]
  },
  {
   "cell_type": "code",
   "execution_count": 22,
   "metadata": {},
   "outputs": [
    {
     "data": {
      "text/plain": [
       "[('홍길동', 'Noun'),\n",
       " ('은', 'Josa'),\n",
       " ('조선시대', 'Noun'),\n",
       " ('사람', 'Noun'),\n",
       " ('이', 'Suffix'),\n",
       " ('죠', 'Josa'),\n",
       " ('?', 'Punctuation')]"
      ]
     },
     "execution_count": 22,
     "metadata": {},
     "output_type": "execute_result"
    }
   ],
   "source": [
    "twitter_tag.pos('홍길동은 조선시대 사람이죠?')"
   ]
  },
  {
   "cell_type": "markdown",
   "metadata": {},
   "source": [
    "### 머신러닝 적용"
   ]
  },
  {
   "cell_type": "markdown",
   "metadata": {},
   "source": [
    "- CountVectorizer 적용 (1000개 샘플씩 적용)"
   ]
  },
  {
   "cell_type": "code",
   "execution_count": 33,
   "metadata": {},
   "outputs": [],
   "source": [
    "from sklearn.feature_extraction.text import CountVectorizer"
   ]
  },
  {
   "cell_type": "code",
   "execution_count": 34,
   "metadata": {},
   "outputs": [],
   "source": [
    "vect = CountVectorizer(tokenizer=twitter_tag.morphs, min_df=3)\n",
    "X_train = vect.fit_transform(text_train[:1000])\n",
    "X_test = vect.transform(text_test[:1000])"
   ]
  },
  {
   "cell_type": "code",
   "execution_count": 35,
   "metadata": {},
   "outputs": [
    {
     "data": {
      "text/plain": [
       "0.713"
      ]
     },
     "execution_count": 35,
     "metadata": {},
     "output_type": "execute_result"
    }
   ],
   "source": [
    "from sklearn.linear_model import LogisticRegression\n",
    "\n",
    "model = LogisticRegression(C=1)\n",
    "model.fit(X_train, y_train[:1000])\n",
    "score = model.score(X_test, y_test[:1000])\n",
    "score"
   ]
  },
  {
   "cell_type": "markdown",
   "metadata": {},
   "source": [
    "- TfidfVectorizer 적용 (1000개 샘플씩 적용)"
   ]
  },
  {
   "cell_type": "code",
   "execution_count": 24,
   "metadata": {},
   "outputs": [],
   "source": [
    "from sklearn.feature_extraction.text import TfidfVectorizer\n",
    "\n",
    "# help(TfidfVectorizer)"
   ]
  },
  {
   "cell_type": "code",
   "execution_count": 29,
   "metadata": {},
   "outputs": [],
   "source": [
    "tfidf = TfidfVectorizer(tokenizer=twitter_tag.morphs, min_df=3)\n",
    "X_train = tfidf.fit_transform(text_train[:1000])\n",
    "X_test = tfidf.transform(text_test[:1000])"
   ]
  },
  {
   "cell_type": "code",
   "execution_count": 30,
   "metadata": {},
   "outputs": [
    {
     "data": {
      "text/plain": [
       "((1000, 789), (1000, 789))"
      ]
     },
     "execution_count": 30,
     "metadata": {},
     "output_type": "execute_result"
    }
   ],
   "source": [
    "X_train.shape, X_test.shape"
   ]
  },
  {
   "cell_type": "code",
   "execution_count": 32,
   "metadata": {},
   "outputs": [
    {
     "data": {
      "text/plain": [
       "789"
      ]
     },
     "metadata": {},
     "output_type": "display_data"
    },
    {
     "data": {
      "text/plain": [
       "['!',\n",
       " 'ㅜㅜ',\n",
       " '구성',\n",
       " '남자',\n",
       " '도대체',\n",
       " '만',\n",
       " '발',\n",
       " '빨리',\n",
       " '시절',\n",
       " '알았음',\n",
       " '연예계',\n",
       " '이기',\n",
       " '자극',\n",
       " '조폭',\n",
       " '참고',\n",
       " '하는데']"
      ]
     },
     "metadata": {},
     "output_type": "display_data"
    }
   ],
   "source": [
    "display(len(tfidf.get_feature_names()), tfidf.get_feature_names()[::50])"
   ]
  },
  {
   "cell_type": "markdown",
   "metadata": {},
   "source": [
    "- X_train 에 대해 교차 검증"
   ]
  },
  {
   "cell_type": "code",
   "execution_count": 27,
   "metadata": {},
   "outputs": [
    {
     "data": {
      "text/plain": [
       "array([0.74626866, 0.74626866, 0.77      , 0.69849246, 0.68844221])"
      ]
     },
     "execution_count": 27,
     "metadata": {},
     "output_type": "execute_result"
    }
   ],
   "source": [
    "from sklearn.linear_model import LogisticRegression\n",
    "from sklearn.model_selection import cross_val_score\n",
    "\n",
    "model = LogisticRegression(C=1)\n",
    "scores = cross_val_score(model, X_train, y_train[:1000], cv=5)\n",
    "scores"
   ]
  },
  {
   "cell_type": "markdown",
   "metadata": {},
   "source": [
    "- X_test 예측 점수"
   ]
  },
  {
   "cell_type": "code",
   "execution_count": 31,
   "metadata": {},
   "outputs": [
    {
     "data": {
      "text/plain": [
       "0.711"
      ]
     },
     "execution_count": 31,
     "metadata": {},
     "output_type": "execute_result"
    }
   ],
   "source": [
    "from sklearn.linear_model import LogisticRegression\n",
    "\n",
    "model = LogisticRegression(C=1)\n",
    "model.fit(X_train, y_train[:1000])\n",
    "score = model.score(X_test, y_test[:1000])\n",
    "score"
   ]
  },
  {
   "cell_type": "markdown",
   "metadata": {},
   "source": [
    "- CountVectorizer (모든 데이터 사용)"
   ]
  },
  {
   "cell_type": "code",
   "execution_count": null,
   "metadata": {},
   "outputs": [],
   "source": [
    "vect = CountVectorizer(tokenizer=twitter_tag.morphs, min_df=3)\n",
    "X_train = vect.fit_transform(text_train)\n",
    "X_test = vect.transform(text_test)"
   ]
  },
  {
   "cell_type": "code",
   "execution_count": 37,
   "metadata": {},
   "outputs": [
    {
     "data": {
      "text/plain": [
       "33208"
      ]
     },
     "execution_count": 37,
     "metadata": {},
     "output_type": "execute_result"
    }
   ],
   "source": [
    "fn = vect.get_feature_names()\n",
    "len(fn)"
   ]
  },
  {
   "cell_type": "code",
   "execution_count": 39,
   "metadata": {},
   "outputs": [
    {
     "data": {
      "text/plain": [
       "0.85004"
      ]
     },
     "execution_count": 39,
     "metadata": {},
     "output_type": "execute_result"
    }
   ],
   "source": [
    "model = LogisticRegression(C=1)\n",
    "model.fit(X_train, y_train)\n",
    "score = model.score(X_test, y_test)\n",
    "score"
   ]
  },
  {
   "cell_type": "code",
   "execution_count": 41,
   "metadata": {},
   "outputs": [
    {
     "data": {
      "text/plain": [
       "array([0.49633262, 0.62735368, 0.37956764, ..., 0.14260661, 0.48247122,\n",
       "       0.1072011 ])"
      ]
     },
     "execution_count": 41,
     "metadata": {},
     "output_type": "execute_result"
    }
   ],
   "source": [
    "ws = model.coef_[0]\n",
    "ws"
   ]
  },
  {
   "cell_type": "code",
   "execution_count": 45,
   "metadata": {},
   "outputs": [
    {
     "data": {
      "text/plain": [
       "array([28882, 25134, 25174, ..., 28851, 25239,  6012], dtype=int64)"
      ]
     },
     "execution_count": 45,
     "metadata": {},
     "output_type": "execute_result"
    }
   ],
   "source": [
    "idx = np.argsort(ws)\n",
    "idx"
   ]
  },
  {
   "cell_type": "code",
   "execution_count": 51,
   "metadata": {},
   "outputs": [],
   "source": [
    "fn = np.array(fn)"
   ]
  },
  {
   "cell_type": "code",
   "execution_count": 53,
   "metadata": {},
   "outputs": [
    {
     "data": {
      "text/plain": [
       "array(['재밌네', '굿굿', '재밌었다', '훌륭하다', '좋았어요', '재밌는데', '재미있어요', '최고다',\n",
       "       '재미있었어요', '낮네'], dtype='<U54')"
      ]
     },
     "execution_count": 53,
     "metadata": {},
     "output_type": "execute_result"
    }
   ],
   "source": [
    "fn[idx[-10:]]"
   ]
  },
  {
   "cell_type": "code",
   "execution_count": 57,
   "metadata": {},
   "outputs": [],
   "source": [
    "from matplotlib import font_manager, rc\n",
    "font_name = font_manager.FontProperties(fname=\"C:/Windows/Fonts/NGULIM.TTF\").get_name()\n",
    "# h2gprm.ttf, uni_hsr.ttf, hynaml.ttf, nanumgothic.ttf, ng.ttf(나눔고딕)\n",
    "rc('font', family=font_name)"
   ]
  },
  {
   "cell_type": "code",
   "execution_count": 77,
   "metadata": {},
   "outputs": [
    {
     "data": {
      "text/plain": [
       "array(['최악', '재미없다', '재미없음', '지루하다', '재미없었다', '재미없는', '과대', '재미없어요',\n",
       "       '재미없어', '재미없네', '잤다', '노잼', '지루했다', '별루', '..,,', '졸작', '흑역사',\n",
       "       '재미없네요', '실망', '빵점', '높아서', '재미없', '아까', '재미없게', '유치하다', '하품',\n",
       "       '아깝다', '지루했어요', '짝퉁', '모욕', '닿지', '쓰레기', '2.22', '재미없었던', '높다',\n",
       "       '짜증', '불면증', '오유', '꽝', '망작'], dtype='<U54')"
      ]
     },
     "metadata": {},
     "output_type": "display_data"
    },
    {
     "data": {
      "image/png": "[encoded data removed]",
      "text/plain": [
       "<matplotlib.figure.Figure at 0x1d71adefda0>"
      ]
     },
     "metadata": {},
     "output_type": "display_data"
    }
   ],
   "source": [
    "plt.bar(range(40), ws[idx[:40]])\n",
    "plt.xticks(range(40), fn[idx[:40]], rotation=90)\n",
    "display(fn[idx[:40]])\n",
    "pass"
   ]
  },
  {
   "cell_type": "code",
   "execution_count": 60,
   "metadata": {},
   "outputs": [
    {
     "data": {
      "text/plain": [
       "array(['재밌다', '재밋어', '재밌어요', '꿀잼', '재밌었음', '재밌었어요', '재밌던데', '재밌네요', '재밌음',\n",
       "       '좋았습니다', '재밌네', '굿굿', '재밌었다', '훌륭하다', '좋았어요', '재밌는데', '재미있어요',\n",
       "       '최고다', '재미있었어요', '낮네'], dtype='<U54')"
      ]
     },
     "metadata": {},
     "output_type": "display_data"
    },
    {
     "data": {
      "image/png": "[encoded data removed]",
      "text/plain": [
       "<matplotlib.figure.Figure at 0x1d71aa6ed30>"
      ]
     },
     "metadata": {},
     "output_type": "display_data"
    }
   ],
   "source": [
    "plt.bar(range(20), ws[idx[-20:]])\n",
    "plt.xticks(range(20), fn[idx[-20:]], rotation=90)\n",
    "display(fn[idx[-20:]])\n",
    "pass"
   ]
  },
  {
   "cell_type": "code",
   "execution_count": 61,
   "metadata": {},
   "outputs": [
    {
     "data": {
      "text/plain": [
       "6012"
      ]
     },
     "execution_count": 61,
     "metadata": {},
     "output_type": "execute_result"
    }
   ],
   "source": [
    "vect.vocabulary_['낮네']"
   ]
  },
  {
   "cell_type": "code",
   "execution_count": 69,
   "metadata": {},
   "outputs": [
    {
     "data": {
      "text/plain": [
       "((150000, 33208), scipy.sparse.csr.csr_matrix)"
      ]
     },
     "execution_count": 69,
     "metadata": {},
     "output_type": "execute_result"
    }
   ],
   "source": [
    "X_train.shape, type(X_train)"
   ]
  },
  {
   "cell_type": "code",
   "execution_count": 64,
   "metadata": {},
   "outputs": [
    {
     "data": {
      "text/plain": [
       "(150000, 1)"
      ]
     },
     "execution_count": 64,
     "metadata": {},
     "output_type": "execute_result"
    }
   ],
   "source": [
    "X_train[:,6012].shape"
   ]
  },
  {
   "cell_type": "code",
   "execution_count": 71,
   "metadata": {
    "scrolled": true
   },
   "outputs": [
    {
     "data": {
      "text/plain": [
       "[2760,\n",
       " 3790,\n",
       " 4643,\n",
       " 10243,\n",
       " 13064,\n",
       " 15094,\n",
       " 16145,\n",
       " 20986,\n",
       " 21018,\n",
       " 22188,\n",
       " 23306,\n",
       " 24571,\n",
       " 25842,\n",
       " 27494,\n",
       " 29181,\n",
       " 29607,\n",
       " 30175,\n",
       " 30955,\n",
       " 33096,\n",
       " 33110,\n",
       " 33629,\n",
       " 34018,\n",
       " 34546,\n",
       " 34753,\n",
       " 35618,\n",
       " 35769,\n",
       " 35865,\n",
       " 36139,\n",
       " 37112,\n",
       " 39454,\n",
       " 40063,\n",
       " 41004,\n",
       " 42344,\n",
       " 44770,\n",
       " 45081,\n",
       " 46390,\n",
       " 47288,\n",
       " 47518,\n",
       " 49686,\n",
       " 51145,\n",
       " 51285,\n",
       " 51888,\n",
       " 52693,\n",
       " 53094,\n",
       " 53562,\n",
       " 53698,\n",
       " 53844,\n",
       " 56914,\n",
       " 57311,\n",
       " 57482,\n",
       " 58242,\n",
       " 59826,\n",
       " 60084,\n",
       " 60680,\n",
       " 61148,\n",
       " 62852,\n",
       " 65586,\n",
       " 67296,\n",
       " 68329,\n",
       " 70377,\n",
       " 70397,\n",
       " 75466,\n",
       " 75800,\n",
       " 80695,\n",
       " 84947,\n",
       " 85852,\n",
       " 87239,\n",
       " 87404,\n",
       " 87979,\n",
       " 88340,\n",
       " 90658,\n",
       " 92047,\n",
       " 92686,\n",
       " 92946,\n",
       " 93709,\n",
       " 94192,\n",
       " 94834,\n",
       " 94938,\n",
       " 95605,\n",
       " 99441,\n",
       " 102577,\n",
       " 105738,\n",
       " 105815,\n",
       " 105834,\n",
       " 108160,\n",
       " 109926,\n",
       " 110398,\n",
       " 111136,\n",
       " 111363,\n",
       " 113888,\n",
       " 115005,\n",
       " 117398,\n",
       " 124641,\n",
       " 129490,\n",
       " 132812,\n",
       " 133602,\n",
       " 135032,\n",
       " 136032,\n",
       " 136046,\n",
       " 136202,\n",
       " 139607,\n",
       " 143315,\n",
       " 144627,\n",
       " 147639,\n",
       " 148354,\n",
       " 148948,\n",
       " 149239]"
      ]
     },
     "execution_count": 71,
     "metadata": {},
     "output_type": "execute_result"
    }
   ],
   "source": [
    "l = []\n",
    "for i in range(150000):\n",
    "    if X_train[i,6012]>0: l.append(i) # 6012: '낮네'\n",
    "        \n",
    "l"
   ]
  },
  {
   "cell_type": "code",
   "execution_count": 72,
   "metadata": {},
   "outputs": [
    {
     "data": {
      "text/plain": [
       "array(['정말 역사에 남을 만한 소름끼치는 작품인데 평점은 양아치 조폭 형사 살인범 쳐나오는 몇몇 한국영화 따위 보다도 낮네? 안타깝다 안타까워!!',\n",
       "       '괜찮은 영화. 평점이 너무 낮네 ㅡㅡ;', '이거 평점이 너무 낮네;;난 감동깊게 봤는데..재미도 있었고..',\n",
       "       '평점이 너무 낮네.. 이 정도면 오락영화로서 손색이 없다..', '평점이 너무 낮네...',\n",
       "       '웬만한 한국영화보다 낮네 ㅋㅋㅋ', '괜찮던데...평점이 너무 낮네',\n",
       "       '브리짓존스의 일기...유명함에 비해 너무 순위가 낮네. 개성있는 캐릭터가 만드는 정말 재미있는 영화이다',\n",
       "       '평점이 낮네.. 시리즈가 다 잼있다.', '재미있었는데 평점이 낮네',\n",
       "       '참신 했던 영화였는데 평점이 너무 낮네 8점대는 나와도 될듯한데',\n",
       "       '니콜성님 젊었을때 찍은 영화! 나름 볼만한 영화인데 평점이 낮네?',\n",
       "       '이거 꽤나 잘만든 영화같은데 평점이 낮네...주인공이 거지같은건 영화스토리상 의도된 부분이고, 자체의 개연성이나 사회비판적인 부분과 연출같은건 나쁘지 않았다고 생각함. 개인적으로는 8점.',\n",
       "       '평점이 너무낮네 ㅣ재밋는데', '평점이 7점대라니?? 조폭 형사 살인범들 쳐나오는 한국영화따위 보다도 낮네',\n",
       "       '재밌게 봤는데 예상외로 평점이 낮네', '진짜웃기고재밍는데..평점이쫌낮네?!/급마무리가살.짝.아쉽지만!',\n",
       "       '평이너무 낮네....기대하지 않게 정말 재미있었다.....인생은 열어봐야 알수 있다...',\n",
       "       '재미나게 봤는데 평점이 낮네..', '각색이 새로웠다 재미 있음 난 볼만한데 평점이 낮네? ㅋ',\n",
       "       '재밌게 봤는데 평점이 낮네', '이게 왜 평점이 낮지? 작화도 스토리도 탄탄하지 않냐 수준들이 낮네',\n",
       "       '괜찮은 영화인데 평점이 너무 낮네 평점올리기 10점주고감 스릴러로선 나무랄데 없었던 영화',\n",
       "       '평점이 생각보다 낮네 옛날에 재밌게 봤던 영화', '난재밌게봤는데 점수가낮네',\n",
       "       '재밌는데 평점이 낮네.. 볼만한 영화',\n",
       "       '평점이 너무낮네ㅋㅋㅋ 예전에 봤을때 생각보다 괜찮았는데ㅋㅋ 당연히 요즘영화랑 비교하면 액션신이 허접하지ㅋㅋ',\n",
       "       '평점이넘낮네 8점은넘어야지', '나름 잼있게봤는데 평점이 너무 낮네~ 평점올리기!',\n",
       "       '재밌었는데 점수가낮네평점올려주야징~', '평점이 낮네~~~~.~~~~',\n",
       "       '평점 너무 낮네..난 재밌게 봤는데..ㅎ 개인적으로 추천', '난 재밌게 봤는데 평점이 좀 낮네..',\n",
       "       '왜이리 낮아 아쩌씨랑은 다른 장르고 1편보단 미흡하지만 나름 잼던데 ㅠ 너무 낮네 평점이 ?',\n",
       "       '긴장감 쩔게봤는데 평점이 생각보다 낮네',\n",
       "       '평점이 너무낮네.....요새 나오는 몇몇영화보다 훨 나은데.....결혼에 대해 깊은 생각을 갖게 해주는 영화...',\n",
       "       '난 재밌었는데 평점 되게 낮네', '평점이 너무 낮네?? 무엇보다 우리 scandal의 ost가 돋보였던 애니!!',\n",
       "       '평점이너무낮네..재미져요~', '평점이 낮네 생각보다.',\n",
       "       '평점 너무 낮네, 다니엘 데이 루이스를 역대 최다 남우주연상을 받은 역대 최고의 배우로 만들어준 영화인데',\n",
       "       '재밋는데별점이낮네..',\n",
       "       '책으로도 읽고 영화로도 봤는데 이정도면 훌륭하진 않아도 좋은 영화라고 생각한다. CG 티 나고 결말도 뻔한 영화지만 이정도면 잘 만들지 않았나? 평점 엄청 낮네',\n",
       "       '난 정말 재밌게 봤는데...평점이 낮네;', '그래도 볼만했는데 평점이 너무낮네', '평점이 좀 낮네...DD',\n",
       "       '평점이 생각보다 많이 낮네;;; 나름 재밌다가 찡해지기도 하고...볼만했음ㅇㅇㅇㅇ', '평점이 너무 낮네..쓰레기들',\n",
       "       '재밋엇는데 평점이 낮네..', '평점 디게 낮네~ 난 꽤 재미있게 봤는데... 조잡해서 그런가?',\n",
       "       '평점 너무 낮네 재미있는데', '평점넘낮네ㅋ 재밌음ㅋ',\n",
       "       '이정도면 수작 느낌나는 스릴러인데 평점이 낮네. 마지막이 좀 급마무리되며 흐지부지 했지만 보는 동안 몰입감 ㄷㄷ',\n",
       "       '평점이 너무 낮네; ㅋㅋㅋ쨋든 잼잇엇음 ㅋㅋㅋ',\n",
       "       '읭.. 의외로 평점 낮네 존잼인듯... 강박장애라든지 너무 인상깊었음인터넷 쳐보니깐 실존인물이더라구요 근데 마지막이 아쉬운듯.. 강박장애로 인생을 비참하게 보낸다는건지 아니면 헤라클레스 비행으로 성공한다는건지....',\n",
       "       '평점이 너무 낮네. 멋진 시도에 내용도 좋았었는데',\n",
       "       '잼있는데 . . . 평점 매우 낮네 ㅠㅠ 넘 유치한가 ? ㅎㅎ 특히 돌로 만든 자동차를 ~ 맨발로 움직인다는게 아주 상콤했음 ㅎㅎㅎ',\n",
       "       '생각보다 평점이 낮네.. 사람마다 차이야 있으니깐..',\n",
       "       '생각보다 평점 낮네.. 난 무쟈게 잼있게 봣는데.. 좀 허황된 부분도 있긴 한데 뭐 그럭저럭 괜찮앗다.. 쓰레기 영화들하고 펑점이 같다니 좀 의외다..',\n",
       "       '평점이 너무 낮네 장끌로드 반담 가일 최고!', '못해도 8점은 받을만한 영화 평점이 너무 낮네',\n",
       "       '난 이거 그냥저냥 재밌게 봤는데 평점이 엄청 낮네', '생각보다 평점이 낮네..', '재밌는데 평점이 낮네',\n",
       "       '볼만한데 평점 너무 낮네... 독특하고 소소하게 재밌다', '너무 평점 낮네',\n",
       "       '꽤 재밌었는데 평점이 좀 낮네ㅋㅋ웃기기도하고 재미있게봤음ㅋㅋ',\n",
       "       '짜임새도 훌륭하고 반전도 흥미로운데 평점이 너무 낮네', '무조건 10점 평점이 터무니없이 낮네',\n",
       "       '평점이 좀 낮네... 진실해지려고 하던 자에게 타락자라는 이름이 붙더라...',\n",
       "       '생각보다 평점이 낮네.... 무협이 이정도면 됐지 머 풍운3 안나올까봐 걱정이다',\n",
       "       '완성도 높은 수작인데 평점이 낮네...', '평점이 너무 낮네', '생각보다 평점이 너무낮네.. 난 10점이다!!',\n",
       "       '잼게봤는데 평점이너무낮네', '잘만들어진 영화라고생각한다 평점이 생각보다 낮네',\n",
       "       '이거 점수낮게 주는애들 이해가 안되네ㅋㅋ어린애들인가 촌스러워서 그런건가ㅋㅋ얘들아 형누나오빠언니들때는 이영화가 최고였단다....오랜만에 검색해봣는데 말도안되게 평점이 낮네....',\n",
       "       '이거 잼뜬데.. 평점이 낮네..특히 그 벤인가? 그 갓난아이..',\n",
       "       '평점이 의외로 낮네. 그로테스크한 분위기의 연출 최고다.', '평점이 낮네. 좋은데.',\n",
       "       '평점 너무 낮네..다소 평이한 스토리일 수 있지만 느낀 점도 많고 재밌게 봤어요~ 그냥 낯익은 얼굴들이네라고만 생각하며 봤는데 끝나고나서 찾아보니까 스칼렛요한슨이랑 크리스에반스여서 놀랐음..!!',\n",
       "       '생각 보다 평점이 낮네... 코믹+감동 모두 느낄수있었음. 후반부에 영화보면서 10분정도 울었던것 같다 ..',\n",
       "       '괜찮구만 평점 너무 낮네..', '그리 어려운 영화도 아닌데 평점이 너무 낮네', '꿀잼인데 평점 엄청 낮네;',\n",
       "       '생각보다 평점이 낮네;;이런식의 유머코드 절대 흔하지 않은데..이런영화 또 나왔으면',\n",
       "       '평점이너무낮네.정말재밌게본영화.임창정최고!', '평점이 너무 낮네 한 7점은 되는 영화.',\n",
       "       '평점이낮네 요즘나오는 웬만한 코미디 멜로 무비보다 낫다. 10년전작품이지만',\n",
       "       '난 이 영화 재밌게 봤는데, 평점이 엄청 낮네...',\n",
       "       '곽한구 감독의 친구 따위보다 돌라 수작인데 어처구니 없을 정도로 평점이 낮네?',\n",
       "       '평점이 너무 낮네.. 평점올릴려고 10점찍는다.홍보를 잘못한거 같다.이건 액션이 아니라 분위기 끝내주는 느와르 영화다. 아쉬운 부분도 있었지만 콜린파렐의 존재감과 분위기는 끝내줬다. 한 7~8점을 줘도된다.',\n",
       "       '할매요원ㅋ 평점이 너무낮네 왠만한 첩보영화보다 스릴있고 재밌었다.', '평점이 너무 낮네. 9점은 넘어야지.',\n",
       "       '8점은 무난히 넘을것 같은데 생각보다 평점이낮네 어렷을때봣던 추억의영화임 미군vs고질라를 잘 표현한것같음 글고 주인공들이 아기고질라들과의 사투씬은 아직도 기억이날정도로 임팩트 잇엇음',\n",
       "       '영화 진짜 꿀잼인데 평점이 생각보다 낮네...',\n",
       "       '박시연 베드신 스킵해서 볼려했는데 재밌어서 다 봐버렸다.. 근데 평점이 낮네? 좀 많이 영화를 알면 재미없는가? 여튼 나같은 단순한 사람에겐 재밌었다.',\n",
       "       '이정도 코믹이면꽤괜찮은편이다평점이 넘 낮네역시네이버평점은 믿을게 못돼', '생각보다 평점이 낮네 엄청 웃기던데 ㅋ',\n",
       "       '솔직히 평점이 너무 낮네....메시지가 아닌 야한걸 기대하고 본사람이 많았나',\n",
       "       '재밌게 봤는데.. 평점이 너무 낮네!!', '재미있게 봤는데..평점은 낮네ㅋㅋ 좀 올려줘야징~교훈:인생살이 새옹지마',\n",
       "       '평점 너무 낮네....', '평점이 너무 낮네 올려야지 ㅇㅇ',\n",
       "       '초등학생때 부터 미친듯이 사랑했던영화. 평점 상상이상으로 낮네... 마지막이 너무나도 찡했어..!',\n",
       "       '재미잇던데.... 점수가 너무낮네...', '로봇이 인간보다 낮네 인간은 하등하고 잔인한 유인원에 불과하죠'],\n",
       "      dtype=object)"
      ]
     },
     "execution_count": 72,
     "metadata": {},
     "output_type": "execute_result"
    }
   ],
   "source": [
    "text_train[l]"
   ]
  },
  {
   "cell_type": "code",
   "execution_count": 81,
   "metadata": {},
   "outputs": [
    {
     "data": {
      "text/plain": [
       "21644"
      ]
     },
     "execution_count": 81,
     "metadata": {},
     "output_type": "execute_result"
    }
   ],
   "source": [
    "vect.vocabulary_['오유']"
   ]
  },
  {
   "cell_type": "code",
   "execution_count": 82,
   "metadata": {
    "scrolled": true
   },
   "outputs": [
    {
     "data": {
      "text/plain": [
       "[2839,\n",
       " 3636,\n",
       " 6347,\n",
       " 18279,\n",
       " 28537,\n",
       " 32367,\n",
       " 33340,\n",
       " 34877,\n",
       " 42058,\n",
       " 42653,\n",
       " 43950,\n",
       " 47794,\n",
       " 48044,\n",
       " 53190,\n",
       " 53373,\n",
       " 56054,\n",
       " 59663,\n",
       " 64261,\n",
       " 65599,\n",
       " 66140,\n",
       " 71693,\n",
       " 81008,\n",
       " 81168,\n",
       " 91199,\n",
       " 96530,\n",
       " 99052,\n",
       " 101430,\n",
       " 102815,\n",
       " 111102,\n",
       " 116955,\n",
       " 117561,\n",
       " 127190,\n",
       " 127694,\n",
       " 136909,\n",
       " 138355,\n",
       " 139021,\n",
       " 140468,\n",
       " 144667,\n",
       " 146299]"
      ]
     },
     "execution_count": 82,
     "metadata": {},
     "output_type": "execute_result"
    }
   ],
   "source": [
    "l = []\n",
    "for i in range(150000):\n",
    "    if X_train[i,21644]>0: l.append(i)\n",
    "        \n",
    "l"
   ]
  },
  {
   "cell_type": "code",
   "execution_count": 83,
   "metadata": {},
   "outputs": [
    {
     "data": {
      "text/plain": [
       "array(['오유에서 왔당께~이딴걸 왜 돈주고 볼까?', '일베에서 왔는데 오유님들 너무하시네요',\n",
       "       '오유에서 왔습니다. 슈퍼즈니어OOO!에험', '오유에서 왔습니다 엣헴 엣헴',\n",
       "       '오유에서 왔습니다. G-DRUG, 데쓰엉, 섹리 화이팅!', '오유에서 왓수다', '오유에서 왓삼',\n",
       "       '으리!!!!! 오유 화이팅!!', '오유보다는 재밌네요', '오유에서 왔어요~ ^^♡',\n",
       "       '걍 볼만해요 솔까 오유에 꽤 못미쳐요 ㅋㅋ..ㅋ..ㅋ..', '오유에서 왔습니다',\n",
       "       '오유짱 오늘의유머가 짱 짱짱 1점땅크 나가신다 부릉부릉 헤헤 부대열중쉬어',\n",
       "       '일베 오유 OO들땜에깍는다 김보성나온영화는', '오유가 갑이제~', '오유 굳ㅋ',\n",
       "       '오유에서 왔습니다. 꼭 보고싶어요', '오유에서 왔어요', '오유 회식남 흥해라!!!',\n",
       "       '오유에서 왔음. 어험...', '오유에서왓쪄용', '오유에서 왔어요~^^', '오유쵝오', '오유 화이팅~',\n",
       "       '일베충들 오유사칭하면서 별점 깎아내리는 클라스', '한번 보면 빠져나올 수 없는 뮤지컬.. 오유 사랑합니다!!',\n",
       "       '일베 오유 OOO들 10주면 너희는 인간을 포기했다 ㅄ색히들', '진짜 오유분들..ㅠㅠ 자제좀 해주세요....',\n",
       "       '오유에서 왔습니다. 에헴에헴',\n",
       "       '내가 뮤지컬이란 분야에 애정과 관심을 갖게 해준 공연.라민시에라하들리 앤드류님 다 스릉합니다ㅜㅜ 오유 흥해라!',\n",
       "       '오유에서 성지순례왔슴돠^^', '오유에서왔는데 진짜답없음;', '오유에서 왔써예',\n",
       "       '오유에서 왔는데 괜찮게 봤습니다 고로', '오유에서왔습니다', '오유에서 왔습니다 엣헴 저런 선동영화는 OUT',\n",
       "       '오유분들 이 불건전한 영화의 평점을 내립시다!!', '오유에서 왔습니다! 오유 화이팅!', '오유에서옴 에헴에헴'],\n",
       "      dtype=object)"
      ]
     },
     "execution_count": 83,
     "metadata": {},
     "output_type": "execute_result"
    }
   ],
   "source": [
    "text_train[l]"
   ]
  },
  {
   "cell_type": "markdown",
   "metadata": {},
   "source": [
    "- TfidfVectorizer (모든 데이터 사용)"
   ]
  },
  {
   "cell_type": "code",
   "execution_count": 32,
   "metadata": {},
   "outputs": [],
   "source": [
    "from sklearn.linear_model import LogisticRegression\n",
    "from sklearn.model_selection import cross_val_score\n",
    "\n",
    "tfidf = TfidfVectorizer(tokenizer=twitter_tag.morphs, min_df=3)\n",
    "X_train = tfidf.fit_transform(text_train)\n",
    "X_test = tfidf.transform(text_test)\n",
    "fn = tfidf.get_feature_names()\n",
    "np.save('naver_movie.npy', [X_train, X_test])\n",
    "np.save('naver_movie_fn.npy', fn)\n",
    "\n",
    "#X_train, X_test = np.load('naver_movie.npy')\n",
    "#fn = np.load('naver_movie_fn.npy')"
   ]
  },
  {
   "cell_type": "code",
   "execution_count": 30,
   "metadata": {},
   "outputs": [
    {
     "data": {
      "text/plain": [
       "0.85182"
      ]
     },
     "execution_count": 30,
     "metadata": {},
     "output_type": "execute_result"
    }
   ],
   "source": [
    "model = LogisticRegression(C=1)\n",
    "model.fit(X_train, y_train)\n",
    "score = model.score(X_test, y_test)\n",
    "score"
   ]
  },
  {
   "cell_type": "code",
   "execution_count": 31,
   "metadata": {},
   "outputs": [
    {
     "data": {
      "text/plain": [
       "0.84672"
      ]
     },
     "execution_count": 31,
     "metadata": {},
     "output_type": "execute_result"
    }
   ],
   "source": [
    "from sklearn.naive_bayes import BernoulliNB\n",
    "\n",
    "nb = BernoulliNB()\n",
    "nb.fit(X_train, y_train)\n",
    "score = nb.score(X_test, y_test)\n",
    "score"
   ]
  }
 ],
 "metadata": {
  "kernelspec": {
   "display_name": "Python 3",
   "language": "python",
   "name": "python3"
  },
  "language_info": {
   "codemirror_mode": {
    "name": "ipython",
    "version": 3
   },
   "file_extension": ".py",
   "mimetype": "text/x-python",
   "name": "python",
   "nbconvert_exporter": "python",
   "pygments_lexer": "ipython3",
   "version": "3.6.4"
  }
 },
 "nbformat": 4,
 "nbformat_minor": 2
}
