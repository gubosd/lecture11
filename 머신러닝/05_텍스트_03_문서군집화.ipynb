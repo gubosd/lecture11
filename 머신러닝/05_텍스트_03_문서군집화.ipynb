{
 "cells": [
  {
   "cell_type": "markdown",
   "metadata": {},
   "source": [
    "### 파이썬 머신러닝\n",
    "## 텍스트 데이터 다루기\n",
    "---\n",
    "## IMDb 리뷰 - 문서 군집화 (토픽 모델링)"
   ]
  },
  {
   "cell_type": "markdown",
   "metadata": {},
   "source": [
    "- 토픽 모델링 : 비지도 학습으로 문서를 하나 또는 그 이상의 토픽으로 할당하는 작업\n",
    "- LDA (잠재 디리클레 할당, Latent Dirichlet Allocation) : PCA와 유사하게 그룹지어지는 문서들이 가지는 단어들의 성분을 구한다"
   ]
  },
  {
   "cell_type": "code",
   "execution_count": 1,
   "metadata": {},
   "outputs": [],
   "source": [
    "import numpy as np\n",
    "import pandas as pd\n",
    "import matplotlib.pyplot as plt"
   ]
  },
  {
   "cell_type": "code",
   "execution_count": 2,
   "metadata": {},
   "outputs": [],
   "source": [
    "imdb_train, imdb_test = np.load('imdb.npy')\n",
    "\n",
    "text_train = [s.decode().replace('<br />', '') for s in imdb_train.data]\n",
    "y_train = imdb_train.target"
   ]
  },
  {
   "cell_type": "markdown",
   "metadata": {},
   "source": [
    "- 15% 미만의 문서에서 나타나는 단어 중 가장 많이 출현하는 단어 10,000개를 선정한다"
   ]
  },
  {
   "cell_type": "code",
   "execution_count": 3,
   "metadata": {},
   "outputs": [],
   "source": [
    "from sklearn.feature_extraction.text import CountVectorizer\n",
    "\n",
    "vect = CountVectorizer(max_features=10000, max_df=0.15)"
   ]
  },
  {
   "cell_type": "code",
   "execution_count": 4,
   "metadata": {},
   "outputs": [],
   "source": [
    "X = vect.fit_transform(text_train)"
   ]
  },
  {
   "cell_type": "code",
   "execution_count": 8,
   "metadata": {},
   "outputs": [
    {
     "data": {
      "text/plain": [
       "array(['00', 'bikini', 'consider', 'elegance', 'gram', 'karloff',\n",
       "       'muscular', 'prone', 'shakespearean', 'thelma'], dtype='<U17')"
      ]
     },
     "execution_count": 8,
     "metadata": {},
     "output_type": "execute_result"
    }
   ],
   "source": [
    "fn = np.array(vect.get_feature_names())\n",
    "fn[::1000]"
   ]
  },
  {
   "cell_type": "code",
   "execution_count": 6,
   "metadata": {},
   "outputs": [
    {
     "data": {
      "text/plain": [
       "(25000, 10000)"
      ]
     },
     "execution_count": 6,
     "metadata": {},
     "output_type": "execute_result"
    }
   ],
   "source": [
    "X.shape"
   ]
  },
  {
   "cell_type": "code",
   "execution_count": 7,
   "metadata": {},
   "outputs": [
    {
     "data": {
      "text/plain": [
       "array([['thing', 'now', 'real', 'years', 'doesn', 'actors', 'another',\n",
       "        'before', 'though']], dtype='<U17')"
      ]
     },
     "execution_count": 7,
     "metadata": {},
     "output_type": "execute_result"
    }
   ],
   "source": [
    "fn[np.argsort((X>0).sum(axis=0))[0,:-10:-1]]"
   ]
  },
  {
   "cell_type": "code",
   "execution_count": 8,
   "metadata": {},
   "outputs": [
    {
     "data": {
      "text/plain": [
       "array([['zenia', 'hackenstein', 'khouri', 'hagar', 'darkman',\n",
       "        'kriemhild', 'ae', 'sarne', 'newcombe', 'floriane']], dtype='<U17')"
      ]
     },
     "execution_count": 8,
     "metadata": {},
     "output_type": "execute_result"
    }
   ],
   "source": [
    "fn[np.argsort((X>0).sum(axis=0))[0,:10]]"
   ]
  },
  {
   "cell_type": "code",
   "execution_count": 9,
   "metadata": {},
   "outputs": [
    {
     "data": {
      "text/plain": [
       "array([['din', 'lin', 'beth', 'owl', 'therapist', 'manga', 'soles',\n",
       "        'nanny', 'thorn', 'canon']], dtype='<U17')"
      ]
     },
     "execution_count": 9,
     "metadata": {},
     "output_type": "execute_result"
    }
   ],
   "source": [
    "fn[np.argsort((X>0).sum(axis=0))[0,500:510]]"
   ]
  },
  {
   "cell_type": "markdown",
   "metadata": {},
   "source": [
    "- LDA 를 이용하여 주된 토픽 10개를 선정하고, X 를 해당 좌표로 변환한다."
   ]
  },
  {
   "cell_type": "code",
   "execution_count": 2,
   "metadata": {},
   "outputs": [],
   "source": [
    "imdb_train, imdb_test = np.load('imdb.npy')\n",
    "\n",
    "text_train = [s.decode().replace('<br />', '') for s in imdb_train.data]\n",
    "y_train = imdb_train.target"
   ]
  },
  {
   "cell_type": "code",
   "execution_count": 3,
   "metadata": {},
   "outputs": [],
   "source": [
    "from sklearn.feature_extraction.text import CountVectorizer\n",
    "\n",
    "vect = CountVectorizer(max_features=10000, max_df=0.15)"
   ]
  },
  {
   "cell_type": "code",
   "execution_count": 4,
   "metadata": {},
   "outputs": [],
   "source": [
    "X = vect.fit_transform(text_train)"
   ]
  },
  {
   "cell_type": "code",
   "execution_count": 5,
   "metadata": {},
   "outputs": [],
   "source": [
    "from sklearn.decomposition import LatentDirichletAllocation\n",
    "\n",
    "lda = LatentDirichletAllocation(n_components=10, learning_method='batch',\n",
    "                                max_iter=25, random_state=2019)\n",
    "topics = lda.fit_transform(X)"
   ]
  },
  {
   "cell_type": "markdown",
   "metadata": {},
   "source": [
    "- lda.components_ 를 이용하여 토픽 10개 각각의 중요한 단어들을 출력하시오"
   ]
  },
  {
   "cell_type": "code",
   "execution_count": 10,
   "metadata": {},
   "outputs": [
    {
     "data": {
      "text/plain": [
       "numpy.ndarray"
      ]
     },
     "execution_count": 10,
     "metadata": {},
     "output_type": "execute_result"
    }
   ],
   "source": [
    "type(lda.components_)"
   ]
  },
  {
   "cell_type": "code",
   "execution_count": 11,
   "metadata": {},
   "outputs": [
    {
     "data": {
      "text/plain": [
       "(10, 10000)"
      ]
     },
     "execution_count": 11,
     "metadata": {},
     "output_type": "execute_result"
    }
   ],
   "source": [
    "lda.components_.shape"
   ]
  },
  {
   "cell_type": "code",
   "execution_count": 13,
   "metadata": {},
   "outputs": [
    {
     "data": {
      "text/plain": [
       "array([[7608, 6596, 4928, ..., 1403, 3792, 9946],\n",
       "       [2902, 9958, 9565, ..., 3457, 7736,  872],\n",
       "       [ 236, 2646, 9896, ..., 9374, 9532, 2761],\n",
       "       ...,\n",
       "       [3386, 9902, 9474, ..., 6048, 9374, 4113],\n",
       "       [4425, 2975, 3973, ..., 4850,  769, 3807],\n",
       "       [9875, 4439, 9811, ..., 1001, 5155, 9969]], dtype=int64)"
      ]
     },
     "execution_count": 13,
     "metadata": {},
     "output_type": "execute_result"
    }
   ],
   "source": [
    "best = np.argsort(lda.components_, axis=1)[:,::-1]\n",
    "best"
   ]
  },
  {
   "cell_type": "code",
   "execution_count": 17,
   "metadata": {},
   "outputs": [
    {
     "name": "stdout",
     "output_type": "stream",
     "text": [
      ">> 0\n",
      "['role' 'performance' 'john' 'cast' 'played' 'plays' 'actor' 'robert'\n",
      " 'young' 'performances']\n",
      ">> 1\n",
      "['dvd' 'years' 'video' 'saw' 'tv' 'now' 'remember' 'am' 'again' 'since']\n",
      ">> 2\n",
      "['actors' 'director' 'work' 'interesting' 'though' 'quite' 'script'\n",
      " 'doesn' 'however' 'didn']\n",
      ">> 3\n",
      "['worst' 'thing' 'guy' 'nothing' 'didn' 'stupid' 'minutes' 'funny'\n",
      " 'actually' 'want']\n",
      ">> 4\n",
      "['war' 'world' 'us' 'american' 'between' 'both' 'history' 'own' 'yet'\n",
      " 'work']\n",
      ">> 5\n",
      "['show' 'series' 'episode' 'action' 'episodes' 'tv' 'game' 'season' 'new'\n",
      " 'original']\n",
      ">> 6\n",
      "['funny' 'show' 'comedy' 'music' 'musical' 'song' 'old' 'songs' 'fun'\n",
      " 'wonderful']\n",
      ">> 7\n",
      "['family' 'world' 'us' 'kids' 'children' 'real' 'book' 'our' 'things'\n",
      " 'old']\n",
      ">> 8\n",
      "['horror' 'effects' 'gore' 'special' 'blood' 'scary' 'pretty' 'budget'\n",
      " 'zombie' 'killer']\n",
      ">> 9\n",
      "['woman' 'house' 'wife' 'girl' 'sex' 'gets' 'young' 'husband' 'women'\n",
      " 'seems']\n"
     ]
    }
   ],
   "source": [
    "for i in range(10):\n",
    "    print('>>', i)\n",
    "    print(fn[best[i,:10]])"
   ]
  },
  {
   "cell_type": "code",
   "execution_count": null,
   "metadata": {},
   "outputs": [],
   "source": []
  },
  {
   "cell_type": "code",
   "execution_count": null,
   "metadata": {},
   "outputs": [],
   "source": []
  },
  {
   "cell_type": "code",
   "execution_count": 15,
   "metadata": {},
   "outputs": [],
   "source": [
    "np.save('imdb_lda.npy', [lda.components_, topics])\n",
    "#lda_components_, topics = np.load('imdb_lda.npy')"
   ]
  },
  {
   "cell_type": "code",
   "execution_count": 17,
   "metadata": {},
   "outputs": [
    {
     "data": {
      "text/plain": [
       "((10, 10000), (25000, 10))"
      ]
     },
     "execution_count": 17,
     "metadata": {},
     "output_type": "execute_result"
    }
   ],
   "source": [
    "lda_components_.shape, topics.shape"
   ]
  },
  {
   "cell_type": "code",
   "execution_count": 35,
   "metadata": {
    "scrolled": false
   },
   "outputs": [
    {
     "name": "stdout",
     "output_type": "stream",
     "text": [
      "topic: 0\n",
      "['role' 'performance' 'john' 'cast' 'played' 'plays' 'actor' 'robert'\n",
      " 'young' 'performances']\n",
      "\n",
      "\n",
      "topic: 1\n",
      "['dvd' 'years' 'video' 'saw' 'tv' 'now' 'remember' 'am' 'again' 'since']\n",
      "\n",
      "\n",
      "topic: 2\n",
      "['actors' 'director' 'work' 'interesting' 'though' 'quite' 'script'\n",
      " 'doesn' 'however' 'didn']\n",
      "\n",
      "\n",
      "topic: 3\n",
      "['worst' 'thing' 'guy' 'nothing' 'didn' 'stupid' 'minutes' 'funny'\n",
      " 'actually' 'want']\n",
      "\n",
      "\n",
      "topic: 4\n",
      "['war' 'world' 'us' 'american' 'between' 'both' 'history' 'own' 'yet'\n",
      " 'work']\n",
      "\n",
      "\n",
      "topic: 5\n",
      "['show' 'series' 'episode' 'action' 'episodes' 'tv' 'game' 'season' 'new'\n",
      " 'original']\n",
      "\n",
      "\n",
      "topic: 6\n",
      "['funny' 'show' 'comedy' 'music' 'musical' 'song' 'old' 'songs' 'fun'\n",
      " 'wonderful']\n",
      "\n",
      "\n",
      "topic: 7\n",
      "['family' 'world' 'us' 'kids' 'children' 'real' 'book' 'our' 'things'\n",
      " 'old']\n",
      "\n",
      "\n",
      "topic: 8\n",
      "['horror' 'effects' 'gore' 'special' 'blood' 'scary' 'pretty' 'budget'\n",
      " 'zombie' 'killer']\n",
      "\n",
      "\n",
      "topic: 9\n",
      "['woman' 'house' 'wife' 'girl' 'sex' 'gets' 'young' 'husband' 'women'\n",
      " 'seems']\n",
      "\n",
      "\n"
     ]
    }
   ],
   "source": [
    "#sorting = np.argsort(lda_components_,axis=1)[:,::-1]\n",
    "sorting = np.argsort(lda.components_,axis=1)[:,::-1]\n",
    "fn = np.array(fn)\n",
    "\n",
    "for i in range(len(lda_components_)):\n",
    "    print('topic: %d' % i)\n",
    "    print(fn[sorting[i]][:10]) # fn[sorting[i,:10]]\n",
    "    print('\\n')"
   ]
  },
  {
   "cell_type": "code",
   "execution_count": null,
   "metadata": {},
   "outputs": [],
   "source": []
  },
  {
   "cell_type": "code",
   "execution_count": 6,
   "metadata": {},
   "outputs": [],
   "source": [
    "from sklearn.decomposition import LatentDirichletAllocation\n",
    "\n",
    "lda2 = LatentDirichletAllocation(n_components=10, learning_method='batch',\n",
    "                                max_iter=25, random_state=2020)\n",
    "topics2 = lda2.fit_transform(X)"
   ]
  },
  {
   "cell_type": "code",
   "execution_count": 18,
   "metadata": {},
   "outputs": [
    {
     "data": {
      "text/plain": [
       "array([[9958, 7778, 2902, ..., 1037, 5932, 7716],\n",
       "       [4425, 2975, 5053, ...,  467, 3807,  769],\n",
       "       [ 230, 2646, 7122, ..., 9987, 4118, 2761],\n",
       "       ...,\n",
       "       [3909, 9875, 3386, ..., 9986, 3875, 6517],\n",
       "       [6002, 6003, 8327, ..., 1786, 4108, 1045],\n",
       "       [6596, 7608, 1470, ..., 8899, 7996, 9616]], dtype=int64)"
      ]
     },
     "execution_count": 18,
     "metadata": {},
     "output_type": "execute_result"
    }
   ],
   "source": [
    "best2 = np.argsort(lda2.components_, axis=1)[:,::-1]\n",
    "best2"
   ]
  },
  {
   "cell_type": "code",
   "execution_count": 19,
   "metadata": {},
   "outputs": [
    {
     "name": "stdout",
     "output_type": "stream",
     "text": [
      ">> 0\n",
      "['years' 'saw' 'dvd' 'now' 'old' 'again' 'remember' 'tv' 'watched' 'am']\n",
      ">> 1\n",
      "['horror' 'effects' 'killer' 'budget' 'gore' 'pretty' 'blood' 'low'\n",
      " 'scary' 'dead']\n",
      ">> 2\n",
      "['action' 'director' 'quite' 'work' 'however' 'style' 'though'\n",
      " 'interesting' 'seems' 'rather']\n",
      ">> 3\n",
      "['show' 'comedy' 'funny' 'episode' 'series' 'cast' 'tv' 'shows' 'fun'\n",
      " 'family']\n",
      ">> 4\n",
      "['didn' 'thing' 'nothing' 'actors' 'worst' 'actually' 'thought' 'want'\n",
      " 'funny' '10']\n",
      ">> 5\n",
      "['series' 'original' 'book' 'version' 'animation' 'episode' 'disney'\n",
      " 'show' 'new' 'star']\n",
      ">> 6\n",
      "['world' 'war' 'us' 'our' 'american' 'real' 'own' 'may' 'between' 'human']\n",
      ">> 7\n",
      "['girl' 'woman' 'family' 'gets' 'father' 'around' 'down' 'guy' 'doesn'\n",
      " 'young']\n",
      ">> 8\n",
      "['music' 'musical' 'song' 'dance' 'songs' 'dancing' 'singing' 'kelly'\n",
      " 'number' 'role']\n",
      ">> 9\n",
      "['performance' 'role' 'cast' 'john' 'plays' 'actor' 'played' 'young'\n",
      " 'robert' 'director']\n"
     ]
    }
   ],
   "source": [
    "for i in range(10):\n",
    "    print('>>', i)\n",
    "    print(fn[best2[i,:10]])"
   ]
  },
  {
   "cell_type": "code",
   "execution_count": null,
   "metadata": {},
   "outputs": [],
   "source": []
  }
 ],
 "metadata": {
  "kernelspec": {
   "display_name": "Python 3",
   "language": "python",
   "name": "python3"
  },
  "language_info": {
   "codemirror_mode": {
    "name": "ipython",
    "version": 3
   },
   "file_extension": ".py",
   "mimetype": "text/x-python",
   "name": "python",
   "nbconvert_exporter": "python",
   "pygments_lexer": "ipython3",
   "version": "3.6.4"
  }
 },
 "nbformat": 4,
 "nbformat_minor": 1
}
