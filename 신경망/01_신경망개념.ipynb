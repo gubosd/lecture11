{
 "cells": [
  {
   "cell_type": "markdown",
   "metadata": {},
   "source": [
    "## 신경망 개요\n",
    "# 신경망 개념"
   ]
  },
  {
   "cell_type": "markdown",
   "metadata": {},
   "source": [
    "<img src='https://icdn6.digitaltrends.com/image/artificial_neural_network_1-640x640.jpg' /><br>\n",
    "(출처: https://www.digitaltrends.com/cool-tech/what-is-an-artificial-neural-network/)"
   ]
  },
  {
   "cell_type": "markdown",
   "metadata": {},
   "source": [
    "### 머신러닝 개념\n",
    "<img src='머신러닝개념.jpg' /><br>\n",
    "- **출력값과 목표값의 차이**를 **최소화**하는 것이 목표이다.\n",
    "- 관련 용어 : 비용(cost), 손실(loss), 에러(error)\n",
    "- 비용함수(Cost function) : 출력값과 목표값의 차이를 수치화\n",
    "- 즉, 비용함수를 정의하고 이를 최소화하려고 한다."
   ]
  },
  {
   "cell_type": "markdown",
   "metadata": {},
   "source": [
    "### 비용함수 종류\n",
    "- MSE(Mean Squared Error) : 회귀에 주로 사용\n",
    "- MAE(Mean Absolute Error) : 상동\n",
    "- Binary Cross Entropy : 이진 분류에 사용 (클래스가 2개)\n",
    "- Cross Entropy : 다중 분류에 사용 (클래스가 3개 이상)"
   ]
  },
  {
   "cell_type": "markdown",
   "metadata": {},
   "source": [
    "### MSE\n",
    "$$ MSE = \\frac{1}{N} \\cdot \\sum_{i=0}^{N-1} (y_i - \\hat{y_i})^2 $$"
   ]
  },
  {
   "cell_type": "markdown",
   "metadata": {},
   "source": [
    "### 예제1\n",
    "- 입력값 x = [1,2,3]\n",
    "- 목표값 y = [3,5,7]\n",
    "- 입력값이 주어졌을 때 어떻게 출력값을 예측할까?\n",
    "> - $ \\hat{y} = w \\cdot x + b $ 이라고 가정하고, w 와 b 값을 찾는다.\n",
    "> - 여기서 w 를 **가중치**, b 를 **절편(편향값)** 이라고 한다.\n",
    "> - 이 문제에서 w=2, b=1 임을 알 수 있다."
   ]
  },
  {
   "cell_type": "markdown",
   "metadata": {},
   "source": [
    "### 예제2\n",
    "- 입력값 x = [1,2,3]\n",
    "- 목표값 y = [3,5,9]\n",
    "- 이 경우는 어떻게 예측할까?\n",
    "> - 위와 마찬가지로 $ \\hat{y} = w \\cdot x + b $ 이라고 가정한다.\n",
    "> - 하지만 딱 맞아떨어지는 w 와 b 값을 찾지 못한다.\n",
    "> - 예측값 = 2*x + 1 이라고 놓아 보자.\n",
    "> - 그러면, 예측값 = [3,5,7] 이 된다."
   ]
  },
  {
   "cell_type": "code",
   "execution_count": 1,
   "metadata": {},
   "outputs": [],
   "source": [
    "import numpy as np\n",
    "import pandas as pd\n",
    "import matplotlib.pyplot as plt"
   ]
  },
  {
   "cell_type": "code",
   "execution_count": 6,
   "metadata": {},
   "outputs": [],
   "source": [
    "x = np.array([1,2,3])\n",
    "y = np.array([3,5,9])"
   ]
  },
  {
   "cell_type": "code",
   "execution_count": 8,
   "metadata": {},
   "outputs": [
    {
     "data": {
      "text/plain": [
       "array([3, 5, 7])"
      ]
     },
     "metadata": {},
     "output_type": "display_data"
    }
   ],
   "source": [
    "w = 2\n",
    "b = 1\n",
    "pred_y = w*x + b\n",
    "display(pred_y)"
   ]
  },
  {
   "cell_type": "code",
   "execution_count": 9,
   "metadata": {},
   "outputs": [
    {
     "data": {
      "text/plain": [
       "array([0, 0, 2])"
      ]
     },
     "execution_count": 9,
     "metadata": {},
     "output_type": "execute_result"
    }
   ],
   "source": [
    "### Error\n",
    "delta_y = y - pred_y\n",
    "delta_y"
   ]
  },
  {
   "cell_type": "code",
   "execution_count": 10,
   "metadata": {},
   "outputs": [
    {
     "data": {
      "text/plain": [
       "1.3333333333333333"
      ]
     },
     "execution_count": 10,
     "metadata": {},
     "output_type": "execute_result"
    }
   ],
   "source": [
    "mse = np.sum(delta_y**2)/len(y)\n",
    "mse"
   ]
  },
  {
   "cell_type": "markdown",
   "metadata": {},
   "source": [
    "### 예제3\n",
    "- 비용함수인 MSE 값이 1.33 이 나왔다\n",
    "- 이 값을 최소화하여야 한다\n",
    "- 비용함수는 w 와 b 에 따라 달라짐을 볼 수 있다 (비용함수는 w와 b의 함수임)\n",
    "- w 와 b 의 값을 어떻게 조정할까?"
   ]
  },
  {
   "cell_type": "markdown",
   "metadata": {},
   "source": [
    "> 먼저, w 를 조금 증가시켜 보자"
   ]
  },
  {
   "cell_type": "code",
   "execution_count": 11,
   "metadata": {},
   "outputs": [
    {
     "data": {
      "text/plain": [
       "array([3.1, 5.2, 7.3])"
      ]
     },
     "metadata": {},
     "output_type": "display_data"
    }
   ],
   "source": [
    "w = 2.1\n",
    "b = 1\n",
    "pred_y = w*x + b\n",
    "display(pred_y)"
   ]
  },
  {
   "cell_type": "code",
   "execution_count": 12,
   "metadata": {},
   "outputs": [
    {
     "data": {
      "text/plain": [
       "array([-0.1, -0.2,  1.7])"
      ]
     },
     "execution_count": 12,
     "metadata": {},
     "output_type": "execute_result"
    }
   ],
   "source": [
    "### Error\n",
    "delta_y = y - pred_y\n",
    "delta_y"
   ]
  },
  {
   "cell_type": "code",
   "execution_count": 13,
   "metadata": {},
   "outputs": [
    {
     "data": {
      "text/plain": [
       "0.9799999999999992"
      ]
     },
     "execution_count": 13,
     "metadata": {},
     "output_type": "execute_result"
    }
   ],
   "source": [
    "mse = np.sum(delta_y**2)/len(y)\n",
    "mse"
   ]
  },
  {
   "cell_type": "markdown",
   "metadata": {},
   "source": [
    "> w 를 조금 감소시켜 보자"
   ]
  },
  {
   "cell_type": "code",
   "execution_count": 17,
   "metadata": {},
   "outputs": [
    {
     "data": {
      "text/plain": [
       "array([2.9, 4.8, 6.7])"
      ]
     },
     "metadata": {},
     "output_type": "display_data"
    }
   ],
   "source": [
    "w = 1.9\n",
    "b = 1\n",
    "pred_y = w*x + b\n",
    "display(pred_y)"
   ]
  },
  {
   "cell_type": "code",
   "execution_count": 18,
   "metadata": {},
   "outputs": [
    {
     "data": {
      "text/plain": [
       "array([0.1, 0.2, 2.3])"
      ]
     },
     "execution_count": 18,
     "metadata": {},
     "output_type": "execute_result"
    }
   ],
   "source": [
    "### Error\n",
    "delta_y = y - pred_y\n",
    "delta_y"
   ]
  },
  {
   "cell_type": "code",
   "execution_count": 19,
   "metadata": {},
   "outputs": [
    {
     "data": {
      "text/plain": [
       "1.7800000000000011"
      ]
     },
     "execution_count": 19,
     "metadata": {},
     "output_type": "execute_result"
    }
   ],
   "source": [
    "mse = np.sum(delta_y**2)/len(y)\n",
    "mse"
   ]
  },
  {
   "cell_type": "markdown",
   "metadata": {},
   "source": [
    "> 마찬가지로 b 를 조정해 보자"
   ]
  },
  {
   "cell_type": "code",
   "execution_count": 20,
   "metadata": {},
   "outputs": [
    {
     "data": {
      "text/plain": [
       "array([3.1, 5.1, 7.1])"
      ]
     },
     "metadata": {},
     "output_type": "display_data"
    }
   ],
   "source": [
    "w = 2\n",
    "b = 1.1\n",
    "pred_y = w*x + b\n",
    "display(pred_y)"
   ]
  },
  {
   "cell_type": "code",
   "execution_count": 21,
   "metadata": {},
   "outputs": [
    {
     "data": {
      "text/plain": [
       "array([-0.1, -0.1,  1.9])"
      ]
     },
     "execution_count": 21,
     "metadata": {},
     "output_type": "execute_result"
    }
   ],
   "source": [
    "### Error\n",
    "delta_y = y - pred_y\n",
    "delta_y"
   ]
  },
  {
   "cell_type": "code",
   "execution_count": 22,
   "metadata": {},
   "outputs": [
    {
     "data": {
      "text/plain": [
       "1.2100000000000004"
      ]
     },
     "execution_count": 22,
     "metadata": {},
     "output_type": "execute_result"
    }
   ],
   "source": [
    "mse = np.sum(delta_y**2)/len(y)\n",
    "mse"
   ]
  },
  {
   "cell_type": "code",
   "execution_count": 23,
   "metadata": {},
   "outputs": [
    {
     "data": {
      "text/plain": [
       "array([2.9, 4.9, 6.9])"
      ]
     },
     "metadata": {},
     "output_type": "display_data"
    }
   ],
   "source": [
    "w = 2\n",
    "b = 0.9\n",
    "pred_y = w*x + b\n",
    "display(pred_y)"
   ]
  },
  {
   "cell_type": "code",
   "execution_count": 24,
   "metadata": {},
   "outputs": [
    {
     "data": {
      "text/plain": [
       "array([0.1, 0.1, 2.1])"
      ]
     },
     "execution_count": 24,
     "metadata": {},
     "output_type": "execute_result"
    }
   ],
   "source": [
    "### Error\n",
    "delta_y = y - pred_y\n",
    "delta_y"
   ]
  },
  {
   "cell_type": "code",
   "execution_count": 25,
   "metadata": {},
   "outputs": [
    {
     "data": {
      "text/plain": [
       "1.476666666666666"
      ]
     },
     "execution_count": 25,
     "metadata": {},
     "output_type": "execute_result"
    }
   ],
   "source": [
    "mse = np.sum(delta_y**2)/len(y)\n",
    "mse"
   ]
  },
  {
   "cell_type": "markdown",
   "metadata": {},
   "source": [
    "- 결과적으로 w 와 b 모두 조금씩 증가시키면 MSE 값이 작아짐을 알 수 있다\n",
    "- 이런 과정을 계속 반복하면 w 와 b 의 근사값을 구할 수 있다"
   ]
  },
  {
   "cell_type": "markdown",
   "metadata": {},
   "source": [
    "### 경사하강법 적용\n",
    "- 위와 같이, 비용함수를 줄여나가기 위해 w 와 b 를 반복해서 조정하는 방법이 경사하강법이다"
   ]
  },
  {
   "cell_type": "code",
   "execution_count": 68,
   "metadata": {},
   "outputs": [],
   "source": [
    "x = np.array([1,2,3])\n",
    "y = np.array([3,5,9])"
   ]
  },
  {
   "cell_type": "code",
   "execution_count": 69,
   "metadata": {},
   "outputs": [
    {
     "name": "stdout",
     "output_type": "stream",
     "text": [
      "00000> 2.10000, 1.10000, 0.89667\n",
      "00001> 2.20000, 1.20000, 0.65333\n",
      "00002> 2.30000, 1.30000, 0.60333\n",
      "00003> 2.30000, 1.20000, 0.56667\n",
      "00004> 2.30000, 1.10000, 0.55000\n",
      "00005> 2.40000, 1.10000, 0.51667\n",
      "00006> 2.40000, 1.00000, 0.48000\n",
      "00007> 2.40000, 0.90000, 0.46333\n",
      "00008> 2.50000, 0.90000, 0.44333\n",
      "00009> 2.50000, 0.80000, 0.40667\n",
      "00010> 2.50000, 0.70000, 0.39000\n",
      "00011> 2.60000, 0.70000, 0.38333\n",
      "00012> 2.60000, 0.60000, 0.34667\n",
      "00013> 2.60000, 0.50000, 0.33000\n"
     ]
    }
   ],
   "source": [
    "### 초기값 설정\n",
    "w = 2\n",
    "b = 1\n",
    "pred_y = w*x + b\n",
    "delta_y = y - pred_y\n",
    "mse = np.sum(delta_y**2)/len(y)\n",
    "mse_log = [mse]\n",
    "\n",
    "for i in range(100):\n",
    "    new_w = w\n",
    "    new_b = b\n",
    "    \n",
    "    mse_1 = np.sum((y-((w+0.1)*x+b))**2)/len(y)\n",
    "    mse_2 = np.sum((y-((w-0.1)*x+b))**2)/len(y)\n",
    "    mse_3 = np.sum((y-(w*x+(b+0.1)))**2)/len(y)\n",
    "    mse_4 = np.sum((y-(w*x+(b-0.1)))**2)/len(y)\n",
    "    t_mse = np.array([mse_1, mse_2, mse_3, mse_4])\n",
    "    \n",
    "    if mse < np.min(t_mse): break\n",
    "    \n",
    "    if mse_1<=mse_2 and mse_1<mse:\n",
    "        new_w = w+0.1\n",
    "    elif mse_1>mse_2 and mse_2<mse:\n",
    "        new_w = w-0.1\n",
    "        \n",
    "    if mse_3<=mse_4 and mse_3<mse:\n",
    "        new_b = b+0.1\n",
    "    elif mse_3>mse_4 and mse_4<mse:\n",
    "        new_b = b-0.1\n",
    "        \n",
    "    w = new_w\n",
    "    b = new_b\n",
    "    mse = np.sum((y-(w*x+b))**2)/len(y)\n",
    "    mse_log.append(mse)\n",
    "    print('%05d> %.5f, %.5f, %.5f' % (i, w, b, mse))"
   ]
  },
  {
   "cell_type": "code",
   "execution_count": 54,
   "metadata": {},
   "outputs": [
    {
     "data": {
      "text/plain": [
       "[<matplotlib.lines.Line2D at 0x1a5f54cd208>]"
      ]
     },
     "execution_count": 54,
     "metadata": {},
     "output_type": "execute_result"
    },
    {
     "data": {
      "image/png": "[encoded data removed]",
      "text/plain": [
       "<Figure size 432x288 with 1 Axes>"
      ]
     },
     "metadata": {},
     "output_type": "display_data"
    }
   ],
   "source": [
    "plt.scatter(x, y, c='k')\n",
    "plt.plot([0,3], [b, w*3+b])"
   ]
  },
  {
   "cell_type": "code",
   "execution_count": 70,
   "metadata": {},
   "outputs": [
    {
     "data": {
      "text/plain": [
       "[<matplotlib.lines.Line2D at 0x1a5f55b22b0>]"
      ]
     },
     "execution_count": 70,
     "metadata": {},
     "output_type": "execute_result"
    },
    {
     "data": {
      "image/png": "[encoded data removed]",
      "text/plain": [
       "<Figure size 432x288 with 1 Axes>"
      ]
     },
     "metadata": {},
     "output_type": "display_data"
    }
   ],
   "source": [
    "plt.plot(mse_log)"
   ]
  },
  {
   "cell_type": "markdown",
   "metadata": {},
   "source": [
    "- 값을 미세하게 조정해 보자"
   ]
  },
  {
   "cell_type": "code",
   "execution_count": 71,
   "metadata": {},
   "outputs": [
    {
     "name": "stdout",
     "output_type": "stream",
     "text": [
      "01774> 2.99600, -0.32500, 0.22223\n"
     ]
    }
   ],
   "source": [
    "### 초기값 설정\n",
    "w = 2\n",
    "b = 1\n",
    "pred_y = w*x + b\n",
    "delta_y = y - pred_y\n",
    "mse = np.sum(delta_y**2)/len(y)\n",
    "mse_log = [mse]\n",
    "\n",
    "delta=0.001\n",
    "\n",
    "for i in range(10000):\n",
    "    new_w = w\n",
    "    new_b = b\n",
    "    \n",
    "    mse_1 = np.sum((y-((w+delta)*x+b))**2)/len(y)\n",
    "    mse_2 = np.sum((y-((w-delta)*x+b))**2)/len(y)\n",
    "    mse_3 = np.sum((y-(w*x+(b+delta)))**2)/len(y)\n",
    "    mse_4 = np.sum((y-(w*x+(b-delta)))**2)/len(y)\n",
    "    t_mse = np.array([mse_1, mse_2, mse_3, mse_4])\n",
    "    \n",
    "    if mse < np.min(t_mse): break\n",
    "    \n",
    "    if mse_1<=mse_2 and mse_1<mse:\n",
    "        new_w = w+delta\n",
    "    elif mse_1>mse_2 and mse_2<mse:\n",
    "        new_w = w-delta\n",
    "        \n",
    "    if mse_3<=mse_4 and mse_3<mse:\n",
    "        new_b = b+delta\n",
    "    elif mse_3>mse_4 and mse_4<mse:\n",
    "        new_b = b-delta\n",
    "        \n",
    "    w = new_w\n",
    "    b = new_b\n",
    "    mse = np.sum((y-(w*x+b))**2)/len(y)\n",
    "    mse_log.append(mse)\n",
    "    \n",
    "print('%05d> %.5f, %.5f, %.5f' % (i, w, b, mse))"
   ]
  },
  {
   "cell_type": "code",
   "execution_count": 56,
   "metadata": {},
   "outputs": [
    {
     "data": {
      "text/plain": [
       "[<matplotlib.lines.Line2D at 0x1a5f545ca58>]"
      ]
     },
     "execution_count": 56,
     "metadata": {},
     "output_type": "execute_result"
    },
    {
     "data": {
      "image/png": "[encoded data removed]",
      "text/plain": [
       "<Figure size 432x288 with 1 Axes>"
      ]
     },
     "metadata": {},
     "output_type": "display_data"
    }
   ],
   "source": [
    "plt.scatter(x, y, c='k')\n",
    "plt.plot([0,3], [b, w*3+b])"
   ]
  },
  {
   "cell_type": "code",
   "execution_count": 72,
   "metadata": {},
   "outputs": [
    {
     "data": {
      "text/plain": [
       "[<matplotlib.lines.Line2D at 0x1a5f5610c50>]"
      ]
     },
     "execution_count": 72,
     "metadata": {},
     "output_type": "execute_result"
    },
    {
     "data": {
      "image/png": "[encoded data removed]",
      "text/plain": [
       "<Figure size 432x288 with 1 Axes>"
      ]
     },
     "metadata": {},
     "output_type": "display_data"
    }
   ],
   "source": [
    "plt.plot(mse_log)"
   ]
  },
  {
   "cell_type": "markdown",
   "metadata": {},
   "source": [
    "- 선형회귀 결과와 비교"
   ]
  },
  {
   "cell_type": "code",
   "execution_count": 33,
   "metadata": {},
   "outputs": [],
   "source": [
    "from sklearn.linear_model import LinearRegression"
   ]
  },
  {
   "cell_type": "code",
   "execution_count": 35,
   "metadata": {},
   "outputs": [
    {
     "data": {
      "text/plain": [
       "LinearRegression(copy_X=True, fit_intercept=True, n_jobs=1, normalize=False)"
      ]
     },
     "execution_count": 35,
     "metadata": {},
     "output_type": "execute_result"
    }
   ],
   "source": [
    "model = LinearRegression()\n",
    "model.fit(x.reshape(-1,1), y)"
   ]
  },
  {
   "cell_type": "code",
   "execution_count": 37,
   "metadata": {},
   "outputs": [
    {
     "data": {
      "text/plain": [
       "(array([3.]), -0.33333333333333215)"
      ]
     },
     "execution_count": 37,
     "metadata": {},
     "output_type": "execute_result"
    }
   ],
   "source": [
    "model.coef_, model.intercept_"
   ]
  },
  {
   "cell_type": "code",
   "execution_count": 41,
   "metadata": {},
   "outputs": [
    {
     "data": {
      "text/plain": [
       "[<matplotlib.lines.Line2D at 0x1a5f3185550>]"
      ]
     },
     "execution_count": 41,
     "metadata": {},
     "output_type": "execute_result"
    },
    {
     "data": {
      "image/png": "[encoded data removed]",
      "text/plain": [
       "<Figure size 432x288 with 1 Axes>"
      ]
     },
     "metadata": {},
     "output_type": "display_data"
    }
   ],
   "source": [
    "plt.scatter(x, y, c='k')\n",
    "plt.plot([0,3], [model.intercept_, model.coef_[0]*3+model.intercept_])"
   ]
  },
  {
   "cell_type": "markdown",
   "metadata": {},
   "source": [
    "### 입력값의 속성이 여러개일 때\n",
    "<img src='https://miro.medium.com/max/1280/1*n9_4oGTvkmve9ZM07kkQXw.png' />\n",
    "(출처: https://becominghuman.ai/from-perceptron-to-deep-neural-nets-504b8ff616e)"
   ]
  },
  {
   "cell_type": "markdown",
   "metadata": {},
   "source": [
    "- 앞에서 x=[1,2,3] 과 같이 한 항목이 숫자 하나였다.\n",
    "- 키와 몸무게를 가지고 나이를 예측하는 문제를 생각해 보자.\n",
    "- 그러면 입력값은 (키, 몸무게) 이고, 결과값은 나이 가 된다.\n",
    "> - X = [[170,68], [162,53], [182,77]]\n",
    "> - y = [22, 28, 31]\n",
    "> - 키를 x1, 몸무게를 x2 라고 하자. (각각을 속성이라 한다.)\n",
    "> - 예측값 = w1 \\* x1 + w2 \\* x2 + b\n",
    "- 이와 같이 속성이 두개이므로, 가중치도 w1, w2 두개가 된다.\n",
    "\n",
    "<img src='도표02.jpg' />"
   ]
  },
  {
   "cell_type": "code",
   "execution_count": 57,
   "metadata": {},
   "outputs": [],
   "source": [
    "X = np.array([[170,68], [162,53], [182,77]])\n",
    "y = np.array([22,28,31])"
   ]
  },
  {
   "cell_type": "code",
   "execution_count": 59,
   "metadata": {},
   "outputs": [
    {
     "data": {
      "text/plain": [
       "array([30.9, 27.1, 33.9])"
      ]
     },
     "execution_count": 59,
     "metadata": {},
     "output_type": "execute_result"
    }
   ],
   "source": [
    "w = [0.1, 0.2]\n",
    "b = 0.3\n",
    "\n",
    "pred_y = np.sum(X*w, axis=1) + b\n",
    "pred_y"
   ]
  },
  {
   "cell_type": "code",
   "execution_count": 60,
   "metadata": {},
   "outputs": [
    {
     "data": {
      "text/plain": [
       "29.476666666666677"
      ]
     },
     "execution_count": 60,
     "metadata": {},
     "output_type": "execute_result"
    }
   ],
   "source": [
    "mse = np.sum((y-pred_y)**2)/len(y)\n",
    "mse"
   ]
  },
  {
   "cell_type": "markdown",
   "metadata": {},
   "source": [
    "- 행렬식을 사용해 보자"
   ]
  },
  {
   "cell_type": "code",
   "execution_count": 61,
   "metadata": {},
   "outputs": [
    {
     "data": {
      "text/plain": [
       "29.476666666666677"
      ]
     },
     "execution_count": 61,
     "metadata": {},
     "output_type": "execute_result"
    }
   ],
   "source": [
    "pred_y = X@w + b\n",
    "mse = np.sum((y-pred_y)**2)/len(y)\n",
    "mse"
   ]
  },
  {
   "cell_type": "markdown",
   "metadata": {},
   "source": [
    "- 인자값을 변경해 보자"
   ]
  },
  {
   "cell_type": "code",
   "execution_count": 62,
   "metadata": {},
   "outputs": [
    {
     "data": {
      "text/plain": [
       "45.05226666666662"
      ]
     },
     "execution_count": 62,
     "metadata": {},
     "output_type": "execute_result"
    }
   ],
   "source": [
    "w = [0.1+0.01, 0.2]\n",
    "b = 0.3\n",
    "\n",
    "pred_y = np.sum(X*w, axis=1) + b\n",
    "mse = np.sum((y-pred_y)**2)/len(y)\n",
    "mse"
   ]
  },
  {
   "cell_type": "code",
   "execution_count": 63,
   "metadata": {},
   "outputs": [
    {
     "data": {
      "text/plain": [
       "19.78560000000002"
      ]
     },
     "execution_count": 63,
     "metadata": {},
     "output_type": "execute_result"
    }
   ],
   "source": [
    "w = [0.1-0.01, 0.2]\n",
    "b = 0.3\n",
    "\n",
    "pred_y = np.sum(X*w, axis=1) + b\n",
    "mse = np.sum((y-pred_y)**2)/len(y)\n",
    "mse"
   ]
  },
  {
   "cell_type": "code",
   "execution_count": 65,
   "metadata": {},
   "outputs": [
    {
     "data": {
      "text/plain": [
       "29.549433333333344"
      ]
     },
     "execution_count": 65,
     "metadata": {},
     "output_type": "execute_result"
    }
   ],
   "source": [
    "w = [0.1, 0.2]\n",
    "b = 0.3 + 0.01\n",
    "\n",
    "pred_y = np.sum(X*w, axis=1) + b\n",
    "mse = np.sum((y-pred_y)**2)/len(y)\n",
    "mse"
   ]
  },
  {
   "cell_type": "code",
   "execution_count": 66,
   "metadata": {},
   "outputs": [
    {
     "data": {
      "text/plain": [
       "29.40410000000001"
      ]
     },
     "execution_count": 66,
     "metadata": {},
     "output_type": "execute_result"
    }
   ],
   "source": [
    "w = [0.1, 0.2]\n",
    "b = 0.3 - 0.01\n",
    "\n",
    "pred_y = np.sum(X*w, axis=1) + b\n",
    "mse = np.sum((y-pred_y)**2)/len(y)\n",
    "mse"
   ]
  },
  {
   "cell_type": "markdown",
   "metadata": {},
   "source": [
    "### 분류 문제에 적용\n",
    "- 입력값은 그대로 사용하되, 결과값을 청소년(0), 어른(1) 을 판별하는 문제로 바꾸어 보자.\n",
    "> - X = [[170,68], [162,53], [182,77]]\n",
    "> - y = [0, 0, 1]\n",
    "- 목표값이 0 또는 1이므로, 시그모이드 함수를 적용하는 것이 좋아 보인다.\n",
    "\n",
    "<img src='도표03.jpg' />"
   ]
  },
  {
   "cell_type": "code",
   "execution_count": 73,
   "metadata": {},
   "outputs": [],
   "source": [
    "def sigmoid(t):\n",
    "    return 1/(1+np.exp(-t))"
   ]
  },
  {
   "cell_type": "code",
   "execution_count": 74,
   "metadata": {},
   "outputs": [
    {
     "data": {
      "text/plain": [
       "Text(0,0.5,'output value')"
      ]
     },
     "execution_count": 74,
     "metadata": {},
     "output_type": "execute_result"
    },
    {
     "data": {
      "image/png": "[encoded data removed]",
      "text/plain": [
       "<Figure size 432x288 with 1 Axes>"
      ]
     },
     "metadata": {},
     "output_type": "display_data"
    }
   ],
   "source": [
    "plt.plot(np.arange(-10,10,0.1), sigmoid(np.arange(-10,10,0.1)))\n",
    "plt.vlines([0], 0, 1, linestyles=':')\n",
    "plt.title('sigmoid function')\n",
    "plt.xlabel('input value')\n",
    "plt.ylabel('output value')"
   ]
  },
  {
   "cell_type": "code",
   "execution_count": 75,
   "metadata": {},
   "outputs": [],
   "source": [
    "X = np.array([[170,68],\n",
    "              [162,53],\n",
    "              [182,77]])\n",
    "y = np.array([0,0,1])"
   ]
  },
  {
   "cell_type": "code",
   "execution_count": 76,
   "metadata": {},
   "outputs": [],
   "source": [
    "w = [0.1, 0.2] # [w1, w2] 의 초기값 설정\n",
    "b = 0.3"
   ]
  },
  {
   "cell_type": "code",
   "execution_count": 80,
   "metadata": {},
   "outputs": [
    {
     "name": "stdout",
     "output_type": "stream",
     "text": [
      "[30.9 27.1 33.9]\n"
     ]
    }
   ],
   "source": [
    "중간예측값 = X@w + b\n",
    "print(중간예측값)"
   ]
  },
  {
   "cell_type": "code",
   "execution_count": 81,
   "metadata": {},
   "outputs": [
    {
     "name": "stdout",
     "output_type": "stream",
     "text": [
      "[1. 1. 1.]\n"
     ]
    }
   ],
   "source": [
    "예측값 = sigmoid(중간예측값)\n",
    "print(예측값)"
   ]
  },
  {
   "cell_type": "code",
   "execution_count": 82,
   "metadata": {},
   "outputs": [
    {
     "name": "stdout",
     "output_type": "stream",
     "text": [
      "0.6666666666655076\n"
     ]
    }
   ],
   "source": [
    "mse = np.square(y - 예측값).mean()\n",
    "print(mse)"
   ]
  },
  {
   "cell_type": "markdown",
   "metadata": {},
   "source": [
    "- 로지스틱회귀 적용"
   ]
  },
  {
   "cell_type": "code",
   "execution_count": 83,
   "metadata": {},
   "outputs": [],
   "source": [
    "from sklearn.linear_model import LogisticRegression"
   ]
  },
  {
   "cell_type": "code",
   "execution_count": 98,
   "metadata": {},
   "outputs": [
    {
     "data": {
      "text/plain": [
       "LogisticRegression(C=1.0, class_weight=None, dual=False, fit_intercept=True,\n",
       "          intercept_scaling=1, max_iter=100, multi_class='ovr', n_jobs=1,\n",
       "          penalty='l2', random_state=None, solver='liblinear', tol=0.0001,\n",
       "          verbose=0, warm_start=False)"
      ]
     },
     "execution_count": 98,
     "metadata": {},
     "output_type": "execute_result"
    }
   ],
   "source": [
    "model = LogisticRegression()\n",
    "model.fit(X, y)"
   ]
  },
  {
   "cell_type": "code",
   "execution_count": 99,
   "metadata": {},
   "outputs": [
    {
     "data": {
      "text/plain": [
       "(array([[-0.28302345,  0.68791342]]), array([-0.01422816]))"
      ]
     },
     "execution_count": 99,
     "metadata": {},
     "output_type": "execute_result"
    }
   ],
   "source": [
    "model.coef_, model.intercept_"
   ]
  },
  {
   "cell_type": "code",
   "execution_count": 100,
   "metadata": {},
   "outputs": [
    {
     "data": {
      "text/plain": [
       "[<matplotlib.lines.Line2D at 0x1a5f68a4208>]"
      ]
     },
     "execution_count": 100,
     "metadata": {},
     "output_type": "execute_result"
    },
    {
     "data": {
      "image/png": "[encoded data removed]",
      "text/plain": [
       "<Figure size 432x288 with 1 Axes>"
      ]
     },
     "metadata": {},
     "output_type": "display_data"
    }
   ],
   "source": [
    "plt.scatter(X[:,0], X[:,1], c=y)\n",
    "rng = np.array([160,185])\n",
    "plt.plot(rng, -(rng*model.coef_[0,0]+model.intercept_[0])/model.coef_[0,1])"
   ]
  },
  {
   "cell_type": "markdown",
   "metadata": {},
   "source": [
    "- 위에서 구한 w 와 b 값으로 mse 를 구해보자"
   ]
  },
  {
   "cell_type": "code",
   "execution_count": 101,
   "metadata": {},
   "outputs": [],
   "source": [
    "w = [-0.28, 0.69] # [w1, w2] 의 초기값 설정\n",
    "b = -0.01"
   ]
  },
  {
   "cell_type": "code",
   "execution_count": 102,
   "metadata": {},
   "outputs": [
    {
     "name": "stdout",
     "output_type": "stream",
     "text": [
      "[-0.69 -8.8   2.16]\n"
     ]
    }
   ],
   "source": [
    "중간예측값 = X@w + b\n",
    "print(중간예측값)"
   ]
  },
  {
   "cell_type": "code",
   "execution_count": 103,
   "metadata": {},
   "outputs": [
    {
     "name": "stdout",
     "output_type": "stream",
     "text": [
      "[0.334 0.    0.897]\n"
     ]
    }
   ],
   "source": [
    "예측값 = sigmoid(중간예측값)\n",
    "print(np.round(예측값,3))"
   ]
  },
  {
   "cell_type": "code",
   "execution_count": 104,
   "metadata": {},
   "outputs": [
    {
     "name": "stdout",
     "output_type": "stream",
     "text": [
      "0.04075659003300163\n"
     ]
    }
   ],
   "source": [
    "mse = np.square(y - 예측값).mean()\n",
    "print(mse)"
   ]
  },
  {
   "cell_type": "markdown",
   "metadata": {},
   "source": [
    "- 정규화 적용"
   ]
  },
  {
   "cell_type": "code",
   "execution_count": 105,
   "metadata": {},
   "outputs": [
    {
     "data": {
      "text/plain": [
       "array([[-0.16222142,  0.20203051],\n",
       "       [-1.13554995, -1.31319831],\n",
       "       [ 1.29777137,  1.1111678 ]])"
      ]
     },
     "execution_count": 105,
     "metadata": {},
     "output_type": "execute_result"
    }
   ],
   "source": [
    "X_norm = (X-X.mean(axis=0))/X.std(axis=0)\n",
    "X_norm"
   ]
  },
  {
   "cell_type": "code",
   "execution_count": 106,
   "metadata": {},
   "outputs": [
    {
     "data": {
      "text/plain": [
       "LogisticRegression(C=1.0, class_weight=None, dual=False, fit_intercept=True,\n",
       "          intercept_scaling=1, max_iter=100, multi_class='ovr', n_jobs=1,\n",
       "          penalty='l2', random_state=None, solver='liblinear', tol=0.0001,\n",
       "          verbose=0, warm_start=False)"
      ]
     },
     "execution_count": 106,
     "metadata": {},
     "output_type": "execute_result"
    }
   ],
   "source": [
    "model = LogisticRegression()\n",
    "model.fit(X_norm, y)"
   ]
  },
  {
   "cell_type": "code",
   "execution_count": 107,
   "metadata": {},
   "outputs": [
    {
     "data": {
      "text/plain": [
       "(array([[0.6153933 , 0.44151608]]), array([-0.31445891]))"
      ]
     },
     "execution_count": 107,
     "metadata": {},
     "output_type": "execute_result"
    }
   ],
   "source": [
    "model.coef_, model.intercept_"
   ]
  },
  {
   "cell_type": "code",
   "execution_count": 110,
   "metadata": {},
   "outputs": [
    {
     "data": {
      "text/plain": [
       "[<matplotlib.lines.Line2D at 0x1a5f69bd898>]"
      ]
     },
     "execution_count": 110,
     "metadata": {},
     "output_type": "execute_result"
    },
    {
     "data": {
      "image/png": "[encoded data removed]",
      "text/plain": [
       "<Figure size 432x288 with 1 Axes>"
      ]
     },
     "metadata": {},
     "output_type": "display_data"
    }
   ],
   "source": [
    "plt.scatter(X_norm[:,0], X_norm[:,1], c=y)\n",
    "rng = np.array([-2,2])\n",
    "plt.plot(rng, -(rng*model.coef_[0,0]+model.intercept_[0])/model.coef_[0,1])"
   ]
  },
  {
   "cell_type": "markdown",
   "metadata": {},
   "source": [
    "### 이진 크로스 엔트로피 (Binary Cross Entropy)\n",
    "$$ cost = -\\frac{1}{N} \\cdot \\sum_{i=0}^{N-1} [y_i \\log(\\hat{y_i}) + (1-y_i) \\log(1-\\hat{y_i})] $$"
   ]
  },
  {
   "cell_type": "code",
   "execution_count": 43,
   "metadata": {},
   "outputs": [
    {
     "data": {
      "text/plain": [
       "<matplotlib.collections.LineCollection at 0x1f5e73a9e10>"
      ]
     },
     "execution_count": 43,
     "metadata": {},
     "output_type": "execute_result"
    },
    {
     "data": {
      "image/png": "[encoded data removed]",
      "text/plain": [
       "<matplotlib.figure.Figure at 0x1f5e73a9d68>"
      ]
     },
     "metadata": {},
     "output_type": "display_data"
    }
   ],
   "source": [
    "x = np.arange(0.01, 5, 0.01)\n",
    "y = -np.log(x)\n",
    "\n",
    "plt.plot(x, y)\n",
    "plt.hlines([0], 0, 5, linestyles=\":\")"
   ]
  },
  {
   "cell_type": "code",
   "execution_count": 111,
   "metadata": {},
   "outputs": [],
   "source": [
    "X = np.array([[170,68],\n",
    "              [162,53],\n",
    "              [182,77]])\n",
    "y = np.array([0,0,1])"
   ]
  },
  {
   "cell_type": "code",
   "execution_count": 112,
   "metadata": {},
   "outputs": [],
   "source": [
    "w = [0.1, 0.2] # [w1, w2] 의 초기값 설정\n",
    "b = 0.3"
   ]
  },
  {
   "cell_type": "code",
   "execution_count": 113,
   "metadata": {},
   "outputs": [
    {
     "name": "stdout",
     "output_type": "stream",
     "text": [
      "[30.9 27.1 33.9]\n"
     ]
    }
   ],
   "source": [
    "중간예측값 = X@w + b\n",
    "print(중간예측값)"
   ]
  },
  {
   "cell_type": "code",
   "execution_count": 114,
   "metadata": {},
   "outputs": [
    {
     "name": "stdout",
     "output_type": "stream",
     "text": [
      "[1. 1. 1.]\n"
     ]
    }
   ],
   "source": [
    "예측값 = sigmoid(중간예측값)\n",
    "print(예측값)"
   ]
  },
  {
   "cell_type": "code",
   "execution_count": 116,
   "metadata": {},
   "outputs": [
    {
     "name": "stdout",
     "output_type": "stream",
     "text": [
      "19.334002171940686\n"
     ]
    }
   ],
   "source": [
    "cost = -np.mean(y*np.log(예측값) + (1-y)*np.log(1-예측값))\n",
    "print(cost)"
   ]
  },
  {
   "cell_type": "code",
   "execution_count": null,
   "metadata": {},
   "outputs": [],
   "source": []
  },
  {
   "cell_type": "code",
   "execution_count": 125,
   "metadata": {},
   "outputs": [],
   "source": [
    "w = [-0.28302345, 0.68791342]\n",
    "b = -0.01422816"
   ]
  },
  {
   "cell_type": "code",
   "execution_count": 126,
   "metadata": {},
   "outputs": [
    {
     "name": "stdout",
     "output_type": "stream",
     "text": [
      "[-1.3501021  -9.4046158   1.44483728]\n"
     ]
    }
   ],
   "source": [
    "중간예측값 = X@w + b\n",
    "print(중간예측값)"
   ]
  },
  {
   "cell_type": "code",
   "execution_count": 127,
   "metadata": {},
   "outputs": [
    {
     "name": "stdout",
     "output_type": "stream",
     "text": [
      "[2.05853680e-01 8.23363279e-05 8.09202614e-01]\n"
     ]
    }
   ],
   "source": [
    "예측값 = sigmoid(중간예측값)\n",
    "print(예측값)"
   ]
  },
  {
   "cell_type": "code",
   "execution_count": 128,
   "metadata": {},
   "outputs": [
    {
     "name": "stdout",
     "output_type": "stream",
     "text": [
      "0.14742527844183936\n"
     ]
    }
   ],
   "source": [
    "cost = -np.mean(y*np.log(예측값) + (1-y)*np.log(1-예측값))\n",
    "print(cost)"
   ]
  }
 ],
 "metadata": {
  "kernelspec": {
   "display_name": "Python 3",
   "language": "python",
   "name": "python3"
  },
  "language_info": {
   "codemirror_mode": {
    "name": "ipython",
    "version": 3
   },
   "file_extension": ".py",
   "mimetype": "text/x-python",
   "name": "python",
   "nbconvert_exporter": "python",
   "pygments_lexer": "ipython3",
   "version": "3.6.4"
  }
 },
 "nbformat": 4,
 "nbformat_minor": 2
}
