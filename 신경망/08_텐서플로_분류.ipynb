{
 "cells": [
  {
   "cell_type": "markdown",
   "metadata": {},
   "source": [
    "## 신경망 개요\n",
    "# 텐서플로 분류(Classification)"
   ]
  },
  {
   "cell_type": "code",
   "execution_count": 1,
   "metadata": {},
   "outputs": [],
   "source": [
    "import numpy as np\n",
    "import pandas as pd\n",
    "import matplotlib.pyplot as plt"
   ]
  },
  {
   "cell_type": "code",
   "execution_count": 2,
   "metadata": {},
   "outputs": [
    {
     "name": "stderr",
     "output_type": "stream",
     "text": [
      "C:\\Anaconda3\\lib\\site-packages\\h5py\\__init__.py:36: FutureWarning: Conversion of the second argument of issubdtype from `float` to `np.floating` is deprecated. In future, it will be treated as `np.float64 == np.dtype(float).type`.\n",
      "  from ._conv import register_converters as _register_converters\n"
     ]
    }
   ],
   "source": [
    "import tensorflow as tf"
   ]
  },
  {
   "cell_type": "code",
   "execution_count": 3,
   "metadata": {},
   "outputs": [
    {
     "data": {
      "text/plain": [
       "'1.12.0'"
      ]
     },
     "execution_count": 3,
     "metadata": {},
     "output_type": "execute_result"
    }
   ],
   "source": [
    "tf.__version__"
   ]
  },
  {
   "cell_type": "code",
   "execution_count": 4,
   "metadata": {},
   "outputs": [],
   "source": [
    "sess = tf.InteractiveSession()"
   ]
  },
  {
   "cell_type": "markdown",
   "metadata": {},
   "source": [
    "### 이진 분류 (iris)\n",
    "- 입력값 : sepal_length, petal_length\n",
    "- 목표값 : setosa(0), versicolor(1)"
   ]
  },
  {
   "cell_type": "code",
   "execution_count": 6,
   "metadata": {},
   "outputs": [],
   "source": [
    "from sklearn.datasets import load_iris"
   ]
  },
  {
   "cell_type": "code",
   "execution_count": 7,
   "metadata": {},
   "outputs": [],
   "source": [
    "iris = load_iris()"
   ]
  },
  {
   "cell_type": "markdown",
   "metadata": {},
   "source": [
    "- 활성화함수: sigmoid\n",
    "- 비용함수 : binary cross entropy"
   ]
  },
  {
   "cell_type": "code",
   "execution_count": 60,
   "metadata": {},
   "outputs": [
    {
     "name": "stdout",
     "output_type": "stream",
     "text": [
      "0 0.6719518\n",
      "1000 0.11375226\n",
      "2000 0.061552092\n",
      "3000 0.042748023\n",
      "4000 0.033024933\n",
      "5000 0.027059358\n",
      "6000 0.0230124\n",
      "7000 0.020078981\n",
      "8000 0.017850418\n",
      "9000 0.016096953\n",
      "10000 0.01467925\n",
      "11000 0.013507993\n",
      "12000 0.01252303\n",
      "13000 0.011682458\n",
      "14000 0.010956125\n",
      "15000 0.010321847\n",
      "16000 0.009762806\n",
      "17000 0.00926609\n",
      "18000 0.008821682\n",
      "19000 0.008421485\n",
      "19999 0.008059413\n"
     ]
    }
   ],
   "source": [
    "X = tf.constant(iris.data[:100,[0,2]], dtype=tf.float32)\n",
    "y = tf.constant(iris.target[:100].reshape(-1,1), dtype=tf.float32) # one-hot-encoding\n",
    "\n",
    "w = tf.Variable(tf.random.normal([2,1], 0, 0.1))\n",
    "b = tf.Variable(tf.random.normal([], 0, 0.1))\n",
    "\n",
    "pred_y = tf.nn.sigmoid(X@w + b)\n",
    "entropy = -tf.reduce_mean(y*tf.log(pred_y) + (1-y)*tf.log(1-pred_y))\n",
    "\n",
    "optimizer = tf.train.GradientDescentOptimizer(learning_rate=0.01)\n",
    "train_op = optimizer.minimize(entropy)\n",
    "\n",
    "costs = []\n",
    "tf.global_variables_initializer().run()\n",
    "\n",
    "for i in range(20000):\n",
    "    entropy_val, _ = sess.run([entropy, train_op])\n",
    "    costs.append(entropy_val)\n",
    "    if i%1000==0: print(i, entropy_val)\n",
    "        \n",
    "print(i, entropy_val)"
   ]
  },
  {
   "cell_type": "code",
   "execution_count": 61,
   "metadata": {},
   "outputs": [
    {
     "data": {
      "text/plain": [
       "[<matplotlib.lines.Line2D at 0x28bab55c828>]"
      ]
     },
     "execution_count": 61,
     "metadata": {},
     "output_type": "execute_result"
    },
    {
     "data": {
      "image/png": "[encoded data removed]",
      "text/plain": [
       "<Figure size 432x288 with 1 Axes>"
      ]
     },
     "metadata": {},
     "output_type": "display_data"
    }
   ],
   "source": [
    "plt.plot(costs[:1000])"
   ]
  },
  {
   "cell_type": "code",
   "execution_count": 67,
   "metadata": {
    "scrolled": true
   },
   "outputs": [
    {
     "data": {
      "text/plain": [
       "array([[0],\n",
       "       [0],\n",
       "       [0],\n",
       "       [0],\n",
       "       [0],\n",
       "       [0],\n",
       "       [0],\n",
       "       [0],\n",
       "       [0],\n",
       "       [0],\n",
       "       [0],\n",
       "       [0],\n",
       "       [0],\n",
       "       [0],\n",
       "       [0],\n",
       "       [0],\n",
       "       [0],\n",
       "       [0],\n",
       "       [0],\n",
       "       [0],\n",
       "       [0],\n",
       "       [0],\n",
       "       [0],\n",
       "       [0],\n",
       "       [0],\n",
       "       [0],\n",
       "       [0],\n",
       "       [0],\n",
       "       [0],\n",
       "       [0],\n",
       "       [0],\n",
       "       [0],\n",
       "       [0],\n",
       "       [0],\n",
       "       [0],\n",
       "       [0],\n",
       "       [0],\n",
       "       [0],\n",
       "       [0],\n",
       "       [0],\n",
       "       [0],\n",
       "       [0],\n",
       "       [0],\n",
       "       [0],\n",
       "       [0],\n",
       "       [0],\n",
       "       [0],\n",
       "       [0],\n",
       "       [0],\n",
       "       [0],\n",
       "       [1],\n",
       "       [1],\n",
       "       [1],\n",
       "       [1],\n",
       "       [1],\n",
       "       [1],\n",
       "       [1],\n",
       "       [1],\n",
       "       [1],\n",
       "       [1],\n",
       "       [1],\n",
       "       [1],\n",
       "       [1],\n",
       "       [1],\n",
       "       [1],\n",
       "       [1],\n",
       "       [1],\n",
       "       [1],\n",
       "       [1],\n",
       "       [1],\n",
       "       [1],\n",
       "       [1],\n",
       "       [1],\n",
       "       [1],\n",
       "       [1],\n",
       "       [1],\n",
       "       [1],\n",
       "       [1],\n",
       "       [1],\n",
       "       [1],\n",
       "       [1],\n",
       "       [1],\n",
       "       [1],\n",
       "       [1],\n",
       "       [1],\n",
       "       [1],\n",
       "       [1],\n",
       "       [1],\n",
       "       [1],\n",
       "       [1],\n",
       "       [1],\n",
       "       [1],\n",
       "       [1],\n",
       "       [1],\n",
       "       [1],\n",
       "       [1],\n",
       "       [1],\n",
       "       [1],\n",
       "       [1],\n",
       "       [1]])"
      ]
     },
     "execution_count": 67,
     "metadata": {},
     "output_type": "execute_result"
    }
   ],
   "source": [
    "pred_y_val = tf.cast(pred_y>0.5, dtype=tf.int32).eval()\n",
    "pred_y_val"
   ]
  },
  {
   "cell_type": "code",
   "execution_count": 70,
   "metadata": {},
   "outputs": [
    {
     "data": {
      "text/plain": [
       "1.0"
      ]
     },
     "execution_count": 70,
     "metadata": {},
     "output_type": "execute_result"
    }
   ],
   "source": [
    "(pred_y_val.ravel() == iris.target[:100]).mean()"
   ]
  },
  {
   "cell_type": "code",
   "execution_count": 73,
   "metadata": {},
   "outputs": [
    {
     "data": {
      "text/plain": [
       "1.0"
      ]
     },
     "execution_count": 73,
     "metadata": {},
     "output_type": "execute_result"
    }
   ],
   "source": [
    "(pred_y_val == iris.target[:100].reshape(-1,1)).mean()"
   ]
  },
  {
   "cell_type": "markdown",
   "metadata": {},
   "source": [
    "- 출력층 노드 : 클래스 갯수만큼 생성\n",
    "- 활성화함수 : sotfmax\n",
    "- 비용함수 : cross entropy"
   ]
  },
  {
   "cell_type": "code",
   "execution_count": 8,
   "metadata": {},
   "outputs": [
    {
     "name": "stdout",
     "output_type": "stream",
     "text": [
      "0 0.7418177\n",
      "1000 0.061824787\n",
      "2000 0.033101384\n",
      "3000 0.023052936\n",
      "4000 0.01787795\n",
      "5000 0.014700377\n",
      "6000 0.012540335\n",
      "7000 0.010970881\n",
      "8000 0.009775722\n",
      "9000 0.008833187\n",
      "9999 0.008070231\n"
     ]
    }
   ],
   "source": [
    "X = tf.constant(iris.data[:100,[0,2]], dtype=tf.float32)\n",
    "y = tf.constant(np.eye(2)[iris.target[:100]], dtype=tf.float32) # one-hot-encoding\n",
    "\n",
    "w = tf.Variable(tf.random.normal([2,2], 0, 0.1))\n",
    "b = tf.Variable(tf.random.normal([2], 0, 0.1))\n",
    "\n",
    "pred_y = X@w + b\n",
    "entropy = tf.reduce_mean(tf.nn.softmax_cross_entropy_with_logits_v2(labels = y,\n",
    "                                        logits = pred_y))\n",
    "\n",
    "optimizer = tf.train.GradientDescentOptimizer(learning_rate=0.01)\n",
    "train_op = optimizer.minimize(entropy)\n",
    "\n",
    "costs = []\n",
    "tf.global_variables_initializer().run()\n",
    "\n",
    "for i in range(10000):\n",
    "    entropy_val, _ = sess.run([entropy, train_op])\n",
    "    costs.append(entropy_val)\n",
    "    if i%1000==0: print(i, entropy_val)\n",
    "        \n",
    "print(i, entropy_val)"
   ]
  },
  {
   "cell_type": "code",
   "execution_count": 10,
   "metadata": {},
   "outputs": [
    {
     "data": {
      "text/plain": [
       "[<matplotlib.lines.Line2D at 0x1d09c4d63c8>]"
      ]
     },
     "execution_count": 10,
     "metadata": {},
     "output_type": "execute_result"
    },
    {
     "data": {
      "image/png": "[encoded data removed]",
      "text/plain": [
       "<matplotlib.figure.Figure at 0x1d09618fb00>"
      ]
     },
     "metadata": {},
     "output_type": "display_data"
    }
   ],
   "source": [
    "plt.plot(costs)"
   ]
  },
  {
   "cell_type": "code",
   "execution_count": 13,
   "metadata": {},
   "outputs": [
    {
     "data": {
      "text/plain": [
       "array([0, 0, 0, 0, 0, 0, 0, 0, 0, 0, 0, 0, 0, 0, 0, 0, 0, 0, 0, 0, 0, 0,\n",
       "       0, 0, 0, 0, 0, 0, 0, 0, 0, 0, 0, 0, 0, 0, 0, 0, 0, 0, 0, 0, 0, 0,\n",
       "       0, 0, 0, 0, 0, 0, 1, 1, 1, 1, 1, 1, 1, 1, 1, 1, 1, 1, 1, 1, 1, 1,\n",
       "       1, 1, 1, 1, 1, 1, 1, 1, 1, 1, 1, 1, 1, 1, 1, 1, 1, 1, 1, 1, 1, 1,\n",
       "       1, 1, 1, 1, 1, 1, 1, 1, 1, 1, 1, 1], dtype=int64)"
      ]
     },
     "execution_count": 13,
     "metadata": {},
     "output_type": "execute_result"
    }
   ],
   "source": [
    "pred_y_val = pred_y.eval().argmax(axis=1)\n",
    "pred_y_val"
   ]
  },
  {
   "cell_type": "code",
   "execution_count": 21,
   "metadata": {},
   "outputs": [
    {
     "data": {
      "text/plain": [
       "array([0, 0, 0, 0, 0, 0, 0, 0, 0, 0, 0, 0, 0, 0, 0, 0, 0, 0, 0, 0, 0, 0,\n",
       "       0, 0, 0, 0, 0, 0, 0, 0, 0, 0, 0, 0, 0, 0, 0, 0, 0, 0, 0, 0, 0, 0,\n",
       "       0, 0, 0, 0, 0, 0, 1, 1, 1, 1, 1, 1, 1, 1, 1, 1, 1, 1, 1, 1, 1, 1,\n",
       "       1, 1, 1, 1, 1, 1, 1, 1, 1, 1, 1, 1, 1, 1, 1, 1, 1, 1, 1, 1, 1, 1,\n",
       "       1, 1, 1, 1, 1, 1, 1, 1, 1, 1, 1, 1])"
      ]
     },
     "execution_count": 21,
     "metadata": {},
     "output_type": "execute_result"
    }
   ],
   "source": [
    "iris.target[:100]"
   ]
  },
  {
   "cell_type": "code",
   "execution_count": 14,
   "metadata": {},
   "outputs": [
    {
     "data": {
      "text/plain": [
       "1.0"
      ]
     },
     "execution_count": 14,
     "metadata": {},
     "output_type": "execute_result"
    }
   ],
   "source": [
    "(pred_y_val == iris.target[:100]).mean()"
   ]
  },
  {
   "cell_type": "code",
   "execution_count": 20,
   "metadata": {},
   "outputs": [],
   "source": [
    "from sklearn.linear_model import LogisticRegression"
   ]
  },
  {
   "cell_type": "code",
   "execution_count": 32,
   "metadata": {},
   "outputs": [
    {
     "data": {
      "text/plain": [
       "LogisticRegression(C=1.0, class_weight=None, dual=False, fit_intercept=True,\n",
       "          intercept_scaling=1, max_iter=100, multi_class='ovr', n_jobs=1,\n",
       "          penalty='l2', random_state=None, solver='liblinear', tol=0.0001,\n",
       "          verbose=0, warm_start=False)"
      ]
     },
     "execution_count": 32,
     "metadata": {},
     "output_type": "execute_result"
    }
   ],
   "source": [
    "model = LogisticRegression()\n",
    "model.fit(iris.data[:100,[0,2]], iris.target[:100])"
   ]
  },
  {
   "cell_type": "code",
   "execution_count": 34,
   "metadata": {},
   "outputs": [
    {
     "data": {
      "text/plain": [
       "1.0"
      ]
     },
     "execution_count": 34,
     "metadata": {},
     "output_type": "execute_result"
    }
   ],
   "source": [
    "model.score(iris.data[:100,[0,2]], iris.target[:100])"
   ]
  },
  {
   "cell_type": "code",
   "execution_count": 35,
   "metadata": {},
   "outputs": [
    {
     "data": {
      "text/plain": [
       "(array([[-1.40943548,  2.98712545]]), array([-0.54940999]))"
      ]
     },
     "execution_count": 35,
     "metadata": {},
     "output_type": "execute_result"
    }
   ],
   "source": [
    "model.coef_, model.intercept_"
   ]
  },
  {
   "cell_type": "code",
   "execution_count": 36,
   "metadata": {},
   "outputs": [
    {
     "data": {
      "text/plain": [
       "(array([[ 1.0984415, -1.1366781],\n",
       "        [-2.4144557,  2.3967621]], dtype=float32),\n",
       " array([ 0.50747734, -0.50701463], dtype=float32))"
      ]
     },
     "execution_count": 36,
     "metadata": {},
     "output_type": "execute_result"
    }
   ],
   "source": [
    "w.eval(), b.eval()"
   ]
  },
  {
   "cell_type": "markdown",
   "metadata": {},
   "source": [
    "### 다중 분류 (속성 2개)\n",
    "- 품종 3개 모두 사용\n",
    "- 속성은 2개로 제한"
   ]
  },
  {
   "cell_type": "code",
   "execution_count": 38,
   "metadata": {
    "scrolled": true
   },
   "outputs": [
    {
     "name": "stdout",
     "output_type": "stream",
     "text": [
      "0 1.1331406\n",
      "1000 0.43622026\n",
      "2000 0.3526747\n",
      "3000 0.30618033\n",
      "4000 0.27541906\n",
      "5000 0.25347504\n",
      "6000 0.23703186\n",
      "7000 0.22425173\n",
      "8000 0.21402931\n",
      "9000 0.20566072\n",
      "10000 0.19867685\n",
      "11000 0.1927538\n",
      "12000 0.18766075\n",
      "13000 0.18322921\n",
      "14000 0.17933291\n",
      "15000 0.17587583\n",
      "16000 0.17278354\n",
      "17000 0.16999738\n",
      "18000 0.16747092\n",
      "19000 0.16516638\n",
      "20000 0.16305308\n",
      "21000 0.16110583\n",
      "22000 0.15930367\n",
      "23000 0.15762898\n",
      "24000 0.15606692\n",
      "25000 0.15460496\n",
      "26000 0.1532321\n",
      "27000 0.15193936\n",
      "28000 0.15071858\n",
      "29000 0.14956297\n",
      "29999 0.14846727\n"
     ]
    }
   ],
   "source": [
    "X = tf.constant(iris.data[:,[0,2]], dtype=tf.float32)\n",
    "y = tf.constant(np.eye(3)[iris.target], dtype=tf.float32) # one-hot-encoding\n",
    "\n",
    "w = tf.Variable(tf.random.normal([2,3], 0, 0.1))\n",
    "b = tf.Variable(tf.random.normal([3], 0, 0.1))\n",
    "\n",
    "pred_y = X@w + b\n",
    "entropy = tf.reduce_mean(tf.nn.softmax_cross_entropy_with_logits_v2(labels = y, logits = pred_y))\n",
    "\n",
    "optimizer = tf.train.GradientDescentOptimizer(learning_rate=0.01)\n",
    "train_op = optimizer.minimize(entropy)\n",
    "\n",
    "costs = []\n",
    "tf.global_variables_initializer().run()\n",
    "\n",
    "for i in range(30000):\n",
    "    entropy_val, _ = sess.run([entropy, train_op])\n",
    "    costs.append(entropy_val)\n",
    "    if i%1000==0: print(i, entropy_val)\n",
    "        \n",
    "print(i, entropy_val)"
   ]
  },
  {
   "cell_type": "code",
   "execution_count": 39,
   "metadata": {},
   "outputs": [
    {
     "data": {
      "text/plain": [
       "[<matplotlib.lines.Line2D at 0x1d09dd2f208>]"
      ]
     },
     "execution_count": 39,
     "metadata": {},
     "output_type": "execute_result"
    },
    {
     "data": {
      "image/png": "[encoded data removed]",
      "text/plain": [
       "<matplotlib.figure.Figure at 0x1d09cb393c8>"
      ]
     },
     "metadata": {},
     "output_type": "display_data"
    }
   ],
   "source": [
    "plt.plot(costs)"
   ]
  },
  {
   "cell_type": "code",
   "execution_count": 40,
   "metadata": {},
   "outputs": [
    {
     "data": {
      "text/plain": [
       "array([[ 8.62240887e+00,  3.20914602e+00, -1.25461597e+01],\n",
       "       [ 8.05106926e+00,  3.12505770e+00, -1.18731022e+01],\n",
       "       [ 7.98537731e+00,  3.08522344e+00, -1.17318287e+01],\n",
       "       [ 6.68841076e+00,  2.95467114e+00, -1.03317280e+01],\n",
       "       [ 8.33673954e+00,  3.16710186e+00, -1.22096310e+01],\n",
       "       [ 7.96247339e+00,  3.20251608e+00, -1.19603910e+01],\n",
       "       [ 7.19405937e+00,  2.99892521e+00, -1.08635130e+01],\n",
       "       [ 7.83109093e+00,  3.12284780e+00, -1.16778460e+01],\n",
       "       [ 6.62271976e+00,  2.91483688e+00, -1.01904554e+01],\n",
       "       [ 7.54542065e+00,  3.08080363e+00, -1.13413172e+01],\n",
       "       [ 8.97377110e+00,  3.29102445e+00, -1.30239630e+01],\n",
       "       [ 6.75410223e+00,  2.99450541e+00, -1.04730024e+01],\n",
       "       [ 7.76539993e+00,  3.08301377e+00, -1.15365734e+01],\n",
       "       [ 7.85399580e+00,  3.00555515e+00, -1.14492826e+01],\n",
       "       [ 1.16333961e+01,  3.59196329e+00, -1.59654379e+01],\n",
       "       [ 9.83078003e+00,  3.41715693e+00, -1.40335512e+01],\n",
       "       [ 9.98506927e+00,  3.37953258e+00, -1.40875340e+01],\n",
       "       [ 8.62240887e+00,  3.20914602e+00, -1.25461597e+01],\n",
       "       [ 8.81948280e+00,  3.32864857e+00, -1.29699793e+01],\n",
       "       [ 8.11676025e+00,  3.16489196e+00, -1.20143747e+01],\n",
       "       [ 7.96247339e+00,  3.20251608e+00, -1.19603910e+01],\n",
       "       [ 8.11676025e+00,  3.16489196e+00, -1.20143747e+01],\n",
       "       [ 9.21665382e+00,  3.17594171e+00, -1.29906549e+01],\n",
       "       [ 7.10546255e+00,  3.07638359e+00, -1.09508028e+01],\n",
       "       [ 5.23715734e+00,  2.86174321e+00, -8.87764645e+00],\n",
       "       [ 7.32544184e+00,  3.07859373e+00, -1.11460600e+01],\n",
       "       [ 7.32544184e+00,  3.07859373e+00, -1.11460600e+01],\n",
       "       [ 8.40243053e+00,  3.20693612e+00, -1.23509035e+01],\n",
       "       [ 8.90807915e+00,  3.25119019e+00, -1.28826885e+01],\n",
       "       [ 6.46843100e+00,  2.95246124e+00, -1.01364717e+01],\n",
       "       [ 6.75410223e+00,  2.99450541e+00, -1.04730024e+01],\n",
       "       [ 8.97377110e+00,  3.29102445e+00, -1.30239630e+01],\n",
       "       [ 8.40243053e+00,  3.20693612e+00, -1.23509035e+01],\n",
       "       [ 9.76508904e+00,  3.37732267e+00, -1.38922768e+01],\n",
       "       [ 7.54542065e+00,  3.08080363e+00, -1.13413172e+01],\n",
       "       [ 9.34803581e+00,  3.25560999e+00, -1.32732019e+01],\n",
       "       [ 1.02707386e+01,  3.42157674e+00, -1.44240627e+01],\n",
       "       [ 7.54542065e+00,  3.08080363e+00, -1.13413172e+01],\n",
       "       [ 7.12836838e+00,  2.95909119e+00, -1.07222414e+01],\n",
       "       [ 8.11676025e+00,  3.16489196e+00, -1.20143747e+01],\n",
       "       [ 8.84238815e+00,  3.21135592e+00, -1.27414169e+01],\n",
       "       [ 7.41403770e+00,  3.00113535e+00, -1.10587702e+01],\n",
       "       [ 7.12836838e+00,  2.95909119e+00, -1.07222414e+01],\n",
       "       [ 7.32544184e+00,  3.07859373e+00, -1.11460600e+01],\n",
       "       [ 6.09416628e+00,  2.98787546e+00, -9.88723278e+00],\n",
       "       [ 7.76539993e+00,  3.08301377e+00, -1.15365734e+01],\n",
       "       [ 7.61111116e+00,  3.12063789e+00, -1.14825888e+01],\n",
       "       [ 7.19405937e+00,  2.99892521e+00, -1.08635130e+01],\n",
       "       [ 8.68810081e+00,  3.24898028e+00, -1.26874342e+01],\n",
       "       [ 8.33673954e+00,  3.16710186e+00, -1.22096310e+01],\n",
       "       [-2.63626146e+00,  2.54759908e+00, -1.39129734e+00],\n",
       "       [-3.33898401e+00,  2.38384247e+00, -4.35690880e-01],\n",
       "       [-3.93322992e+00,  2.41704679e+00,  8.80336761e-03],\n",
       "       [-3.38177252e+00,  2.22671556e+00, -6.58540726e-02],\n",
       "       [-3.55896235e+00,  2.38163257e+00, -2.40437508e-01],\n",
       "       [-5.33867502e+00,  2.08953333e+00,  1.92001438e+00],\n",
       "       [-4.63595057e+00,  2.25329018e+00,  9.64407921e-01],\n",
       "       [-1.55625296e+00,  2.28422952e+00, -1.76917744e+00],\n",
       "       [-3.27329302e+00,  2.42367649e+00, -5.76966286e-01],\n",
       "       [-3.73313475e+00,  2.14483738e+00,  4.11950111e-01],\n",
       "       [-2.28187990e+00,  2.23776531e+00, -1.04213619e+00],\n",
       "       [-3.25038767e+00,  2.30638409e+00, -3.48402977e-01],\n",
       "       [-1.95342302e+00,  2.43693638e+00, -1.74850178e+00],\n",
       "       [-5.20729303e+00,  2.16920185e+00,  1.63746738e+00],\n",
       "       [-1.07350779e+00,  2.44577646e+00, -2.52952671e+00],\n",
       "       [-1.97632837e+00,  2.55422878e+00, -1.97706509e+00],\n",
       "       [-5.62434435e+00,  2.04748917e+00,  2.25654316e+00],\n",
       "       [-3.03040934e+00,  2.30859423e+00, -5.43660164e-01],\n",
       "       [-3.91032457e+00,  2.29975414e+00,  2.37368584e-01],\n",
       "       [-2.59045458e+00,  2.31301403e+00, -9.34168816e-01],\n",
       "       [-6.28428125e+00,  2.04085922e+00,  2.84231281e+00],\n",
       "       [-1.66775370e+00,  2.47898054e+00, -2.08503056e+00],\n",
       "       [-5.64724779e+00,  2.16478181e+00,  2.02797985e+00],\n",
       "       [-5.20729303e+00,  2.16920185e+00,  1.63746738e+00],\n",
       "       [-2.32768869e+00,  2.47235060e+00, -1.49926090e+00],\n",
       "       [-2.26199770e+00,  2.51218462e+00, -1.64053631e+00],\n",
       "       [-3.71325159e+00,  2.41925669e+00, -1.86451912e-01],\n",
       "       [-5.01021814e+00,  2.28870416e+00,  1.21364880e+00],\n",
       "       [-4.48166513e+00,  2.21566582e+00,  9.10426140e-01],\n",
       "       [-2.82190800e-01,  2.53207445e+00, -3.39784145e+00],\n",
       "       [-2.37047529e+00,  2.31522393e+00, -1.12942600e+00],\n",
       "       [-1.86482763e+00,  2.35947800e+00, -1.66121006e+00],\n",
       "       [-2.01911402e+00,  2.39710236e+00, -1.60722828e+00],\n",
       "       [-7.51555681e+00,  1.95014119e+00,  4.10113811e+00],\n",
       "       [-6.19568396e+00,  1.96340096e+00,  2.92960262e+00],\n",
       "       [-4.48166513e+00,  2.21566582e+00,  9.10426140e-01],\n",
       "       [-3.49327326e+00,  2.42146659e+00, -3.81709099e-01],\n",
       "       [-3.11900568e+00,  2.38605261e+00, -6.30948067e-01],\n",
       "       [-3.60174990e+00,  2.22450590e+00,  1.29399300e-01],\n",
       "       [-3.38177252e+00,  2.22671556e+00, -6.58540726e-02],\n",
       "       [-5.40436697e+00,  2.04969931e+00,  2.06128788e+00],\n",
       "       [-4.70164347e+00,  2.21345592e+00,  1.10568142e+00],\n",
       "       [-2.52476168e+00,  2.35284805e+00, -1.07544422e+00],\n",
       "       [-1.27058268e+00,  2.32627368e+00, -2.10570621e+00],\n",
       "       [-4.10739756e+00,  2.18025160e+00,  6.61185265e-01],\n",
       "       [-3.82172823e+00,  2.22229576e+00,  3.24656487e-01],\n",
       "       [-3.82172823e+00,  2.22229576e+00,  3.24656487e-01],\n",
       "       [-2.89902925e+00,  2.38826227e+00, -8.26201439e-01],\n",
       "       [ 5.32032490e-01,  2.50108004e+00, -4.03759193e+00],\n",
       "       [-3.31608057e+00,  2.26655006e+00, -2.07129478e-01],\n",
       "       [-1.12093811e+01,  1.67798662e+00,  7.87761974e+00],\n",
       "       [-8.08689499e+00,  1.86605287e+00,  4.77419567e+00],\n",
       "       [-8.41837502e+00,  2.05859375e+00,  4.65360165e+00],\n",
       "       [-9.18678665e+00,  1.85500312e+00,  5.75047779e+00],\n",
       "       [-9.62674713e+00,  1.85058308e+00,  6.14099026e+00],\n",
       "       [-1.05295639e+01,  1.95903587e+00,  6.69345188e+00],\n",
       "       [-7.62403440e+00,  1.75318015e+00,  4.61224842e+00],\n",
       "       [-9.86962891e+00,  1.96566582e+00,  6.10768414e+00],\n",
       "       [-9.05540848e+00,  1.93467116e+00,  5.46793270e+00],\n",
       "       [-9.14400101e+00,  2.01212978e+00,  5.38064289e+00],\n",
       "       [-6.08720636e+00,  2.16036201e+00,  2.41849041e+00],\n",
       "       [-7.38417292e+00,  2.02980947e+00,  3.81859303e+00],\n",
       "       [-7.25279093e+00,  2.10947800e+00,  3.53604412e+00],\n",
       "       [-7.86691713e+00,  1.86826277e+00,  4.57894230e+00],\n",
       "       [-8.08689499e+00,  1.86605287e+00,  4.77419567e+00],\n",
       "       [-7.38417292e+00,  2.02980947e+00,  3.81859303e+00],\n",
       "       [-8.10980034e+00,  1.98334551e+00,  4.54563236e+00],\n",
       "       [-1.07495403e+01,  1.95682597e+00,  6.88870716e+00],\n",
       "       [-1.17608395e+01,  1.86831760e+00,  7.95227909e+00],\n",
       "       [-7.00990725e+00,  1.99439526e+00,  3.56935406e+00],\n",
       "       [-7.97841692e+00,  2.06301403e+00,  4.26308537e+00],\n",
       "       [-7.64693880e+00,  1.87047267e+00,  4.38368511e+00],\n",
       "       [-1.07495403e+01,  1.95682597e+00,  6.88870716e+00],\n",
       "       [-5.64724779e+00,  2.16478181e+00,  2.02797985e+00],\n",
       "       [-8.54975700e+00,  1.97892547e+00,  4.93614483e+00],\n",
       "       [-8.63835335e+00,  2.05638385e+00,  4.84885693e+00],\n",
       "       [-5.42727137e+00,  2.16699147e+00,  1.83272648e+00],\n",
       "       [-6.21859026e+00,  2.08069348e+00,  2.70103931e+00],\n",
       "       [-8.90111732e+00,  1.89704728e+00,  5.41394901e+00],\n",
       "       [-7.62705851e+00,  2.14489198e+00,  3.78528690e+00],\n",
       "       [-8.57266045e+00,  2.09621811e+00,  4.70758343e+00],\n",
       "       [-8.66125870e+00,  2.17367649e+00,  4.62029171e+00],\n",
       "       [-8.90111732e+00,  1.89704728e+00,  5.41394901e+00],\n",
       "       [-6.65854502e+00,  2.07627368e+00,  3.09154987e+00],\n",
       "       [-9.75812912e+00,  1.77091479e+00,  6.42353725e+00],\n",
       "       [-7.71565104e+00,  2.22235060e+00,  3.69799519e+00],\n",
       "       [-9.18678665e+00,  1.85500312e+00,  5.75047779e+00],\n",
       "       [-8.39546967e+00,  1.94130135e+00,  4.88216305e+00],\n",
       "       [-5.99861193e+00,  2.08290339e+00,  2.50578403e+00],\n",
       "       [-6.46147394e+00,  2.19577622e+00,  2.66773129e+00],\n",
       "       [-8.04410934e+00,  2.02317953e+00,  4.40436077e+00],\n",
       "       [-4.94452715e+00,  2.32853866e+00,  1.07237339e+00],\n",
       "       [-8.08689499e+00,  1.86605287e+00,  4.77419567e+00],\n",
       "       [-9.27538490e+00,  1.93246150e+00,  5.66318798e+00],\n",
       "       [-8.54975700e+00,  1.97892547e+00,  4.93614483e+00],\n",
       "       [-6.02151537e+00,  2.20019603e+00,  2.27721691e+00],\n",
       "       [-6.15289545e+00,  2.12052774e+00,  2.55976582e+00],\n",
       "       [-6.59285402e+00,  2.11610794e+00,  2.95027447e+00],\n",
       "       [-8.46116257e+00,  1.90146685e+00,  5.02343845e+00],\n",
       "       [-7.80122614e+00,  1.90809703e+00,  4.43766689e+00]], dtype=float32)"
      ]
     },
     "execution_count": 40,
     "metadata": {},
     "output_type": "execute_result"
    }
   ],
   "source": [
    "pred_y.eval()"
   ]
  },
  {
   "cell_type": "code",
   "execution_count": 41,
   "metadata": {},
   "outputs": [
    {
     "data": {
      "text/plain": [
       "0.9466666666666667"
      ]
     },
     "execution_count": 41,
     "metadata": {},
     "output_type": "execute_result"
    }
   ],
   "source": [
    "pred_y_val = pred_y.eval().argmax(axis=1)\n",
    "(pred_y_val==iris.target).mean()"
   ]
  },
  {
   "cell_type": "code",
   "execution_count": 42,
   "metadata": {},
   "outputs": [],
   "source": [
    "from sklearn.linear_model import LogisticRegression"
   ]
  },
  {
   "cell_type": "code",
   "execution_count": 43,
   "metadata": {},
   "outputs": [
    {
     "data": {
      "text/plain": [
       "LogisticRegression(C=1.0, class_weight=None, dual=False, fit_intercept=True,\n",
       "          intercept_scaling=1, max_iter=100, multi_class='ovr', n_jobs=1,\n",
       "          penalty='l2', random_state=None, solver='liblinear', tol=0.0001,\n",
       "          verbose=0, warm_start=False)"
      ]
     },
     "execution_count": 43,
     "metadata": {},
     "output_type": "execute_result"
    }
   ],
   "source": [
    "model = LogisticRegression()\n",
    "model.fit(iris.data[:,[0,2]], iris.target)"
   ]
  },
  {
   "cell_type": "code",
   "execution_count": 44,
   "metadata": {},
   "outputs": [
    {
     "data": {
      "text/plain": [
       "0.9266666666666666"
      ]
     },
     "execution_count": 44,
     "metadata": {},
     "output_type": "execute_result"
    }
   ],
   "source": [
    "model.score(iris.data[:,[0,2]], iris.target)"
   ]
  },
  {
   "cell_type": "code",
   "execution_count": 45,
   "metadata": {},
   "outputs": [
    {
     "data": {
      "text/plain": [
       "(array([[ 1.42009767, -3.0217716 ],\n",
       "        [-0.54116015,  0.50319206],\n",
       "        [-2.23750394,  3.20333361]]),\n",
       " array([ 0.55552089,  0.50958335, -1.61727257]))"
      ]
     },
     "execution_count": 45,
     "metadata": {},
     "output_type": "execute_result"
    }
   ],
   "source": [
    "model.coef_, model.intercept_"
   ]
  },
  {
   "cell_type": "code",
   "execution_count": 46,
   "metadata": {},
   "outputs": [
    {
     "data": {
      "text/plain": [
       "(array([[ 2.8566997 ,  0.42044154, -3.3652935 ],\n",
       "        [-5.056485  , -0.44254115,  5.317855  ]], dtype=float32),\n",
       " array([ 1.1323199,  1.6844518, -2.8281603], dtype=float32))"
      ]
     },
     "execution_count": 46,
     "metadata": {},
     "output_type": "execute_result"
    }
   ],
   "source": [
    "w.eval(), b.eval()"
   ]
  },
  {
   "cell_type": "markdown",
   "metadata": {},
   "source": [
    "### 플레이스홀더 적용"
   ]
  },
  {
   "cell_type": "code",
   "execution_count": 26,
   "metadata": {},
   "outputs": [
    {
     "name": "stdout",
     "output_type": "stream",
     "text": [
      "0 1.3331666\n",
      "1000 0.44178924\n",
      "2000 0.35521686\n",
      "3000 0.30760595\n",
      "4000 0.27626288\n",
      "5000 0.25397554\n",
      "6000 0.23731506\n",
      "7000 0.22439039\n",
      "8000 0.21406843\n",
      "9000 0.20562923\n",
      "9999 0.19860077\n"
     ]
    }
   ],
   "source": [
    "X = tf.placeholder(tf.float32, shape=[None,2])\n",
    "y = tf.placeholder(tf.float32, shape=[None,3])\n",
    "\n",
    "w = tf.Variable(tf.random.normal([2,3], 0, 0.1))\n",
    "b = tf.Variable(tf.random.normal([3], 0, 0.1))\n",
    "\n",
    "pred_y = X@w + b\n",
    "entropy = tf.reduce_mean(tf.nn.softmax_cross_entropy_with_logits_v2(labels = y, logits = pred_y))\n",
    "\n",
    "optimizer = tf.train.GradientDescentOptimizer(learning_rate=0.01)\n",
    "train_op = optimizer.minimize(entropy)\n",
    "\n",
    "costs = []\n",
    "tf.global_variables_initializer().run()\n",
    "\n",
    "for i in range(10000):\n",
    "    entropy_val, _ = sess.run([entropy, train_op],\n",
    "                              feed_dict={X: iris.data[:,[0,2]], y: np.eye(3)[iris.target]})\n",
    "    costs.append(entropy_val)\n",
    "    if i%1000==0: print(i, entropy_val)\n",
    "        \n",
    "print(i, entropy_val)"
   ]
  },
  {
   "cell_type": "markdown",
   "metadata": {},
   "source": [
    "### 학습/테스트 분리"
   ]
  },
  {
   "cell_type": "code",
   "execution_count": 47,
   "metadata": {},
   "outputs": [],
   "source": [
    "from sklearn.model_selection import train_test_split"
   ]
  },
  {
   "cell_type": "code",
   "execution_count": 48,
   "metadata": {},
   "outputs": [],
   "source": [
    "X_train, X_test, y_train, y_test = train_test_split(iris.data, iris.target)"
   ]
  },
  {
   "cell_type": "code",
   "execution_count": 87,
   "metadata": {},
   "outputs": [
    {
     "name": "stdout",
     "output_type": "stream",
     "text": [
      "0 1.6940281\n",
      "1000 0.34597176\n",
      "2000 0.26124102\n",
      "3000 0.21708047\n",
      "4000 0.18964826\n",
      "5000 0.17083964\n",
      "6000 0.15706618\n",
      "7000 0.1464949\n",
      "8000 0.13809204\n",
      "9000 0.13122977\n",
      "10000 0.12550426\n",
      "11000 0.1206433\n",
      "12000 0.11645664\n",
      "13000 0.112807035\n",
      "14000 0.10959274\n",
      "15000 0.10673667\n",
      "16000 0.10417939\n",
      "17000 0.10187398\n",
      "18000 0.099783234\n",
      "19000 0.09787706\n",
      "19999 0.09613245\n"
     ]
    }
   ],
   "source": [
    "X = tf.placeholder(tf.float32, shape=[None,4])\n",
    "y = tf.placeholder(tf.float32, shape=[None,3])\n",
    "\n",
    "w = tf.Variable(tf.random.normal([4,3], 0, 0.1))\n",
    "b = tf.Variable(tf.random.normal([3], 0, 0.1))\n",
    "\n",
    "pred_y = X@w + b\n",
    "entropy = tf.reduce_mean(tf.nn.softmax_cross_entropy_with_logits_v2(labels = y, logits = pred_y))\n",
    "\n",
    "optimizer = tf.train.GradientDescentOptimizer(learning_rate=0.01)\n",
    "train_op = optimizer.minimize(entropy)\n",
    "\n",
    "costs = []\n",
    "tf.global_variables_initializer().run()\n",
    "\n",
    "for i in range(20000):\n",
    "    entropy_val, _ = sess.run([entropy, train_op],\n",
    "                              feed_dict={X: X_train, y: np.eye(3)[y_train]})\n",
    "    costs.append(entropy_val)\n",
    "    if i%1000==0: print(i, entropy_val)\n",
    "        \n",
    "print(i, entropy_val)"
   ]
  },
  {
   "cell_type": "code",
   "execution_count": 50,
   "metadata": {},
   "outputs": [],
   "source": [
    "pred_y_train = pred_y.eval(feed_dict={X: X_train, y: np.eye(3)[y_train]})\n",
    "pred_y_test  = pred_y.eval(feed_dict={X: X_test, y: np.eye(3)[y_test]})"
   ]
  },
  {
   "cell_type": "code",
   "execution_count": 51,
   "metadata": {},
   "outputs": [
    {
     "data": {
      "text/plain": [
       "((112, 3), (38, 3))"
      ]
     },
     "execution_count": 51,
     "metadata": {},
     "output_type": "execute_result"
    }
   ],
   "source": [
    "pred_y_train.shape, pred_y_test.shape"
   ]
  },
  {
   "cell_type": "code",
   "execution_count": 52,
   "metadata": {},
   "outputs": [
    {
     "data": {
      "text/plain": [
       "0.9732142857142857"
      ]
     },
     "execution_count": 52,
     "metadata": {},
     "output_type": "execute_result"
    }
   ],
   "source": [
    "(pred_y_train.argmax(axis=1) == y_train).mean()"
   ]
  },
  {
   "cell_type": "code",
   "execution_count": 53,
   "metadata": {},
   "outputs": [
    {
     "data": {
      "text/plain": [
       "1.0"
      ]
     },
     "execution_count": 53,
     "metadata": {},
     "output_type": "execute_result"
    }
   ],
   "source": [
    "(pred_y_test.argmax(axis=1) == y_test).mean()"
   ]
  },
  {
   "cell_type": "markdown",
   "metadata": {},
   "source": [
    "- RMSPropOptimizer 적용"
   ]
  },
  {
   "cell_type": "code",
   "execution_count": 62,
   "metadata": {},
   "outputs": [
    {
     "name": "stdout",
     "output_type": "stream",
     "text": [
      "0 2.088291\n",
      "1000 0.06274543\n",
      "2000 0.050984748\n",
      "3000 0.04779652\n",
      "4000 0.046297472\n",
      "5000 0.045428\n",
      "6000 0.044870086\n",
      "7000 0.044491272\n",
      "8000 0.044224583\n",
      "9000 0.044031892\n",
      "10000 0.043889962\n",
      "11000 0.04378376\n",
      "12000 0.04370335\n",
      "13000 0.043641847\n",
      "14000 0.043594453\n",
      "15000 0.043557566\n",
      "16000 0.043528803\n",
      "17000 0.043506224\n",
      "18000 0.043488413\n",
      "19000 0.043474317\n",
      "19999 0.04345553\n"
     ]
    }
   ],
   "source": [
    "X = tf.placeholder(tf.float32, shape=[None,4])\n",
    "y = tf.placeholder(tf.float32, shape=[None,3])\n",
    "\n",
    "w = tf.Variable(tf.random.normal([4,3], 0, 0.1))\n",
    "b = tf.Variable(tf.random.normal([3], 0, 0.1))\n",
    "\n",
    "pred_y = X@w + b\n",
    "entropy = tf.reduce_mean(tf.nn.softmax_cross_entropy_with_logits_v2(labels = y, logits = pred_y))\n",
    "\n",
    "optimizer = tf.train.RMSPropOptimizer(learning_rate=0.01)\n",
    "train_op = optimizer.minimize(entropy)\n",
    "\n",
    "costs2 = []\n",
    "tf.global_variables_initializer().run()\n",
    "\n",
    "for i in range(20000):\n",
    "    entropy_val, _ = sess.run([entropy, train_op],\n",
    "                              feed_dict={X: X_train, y: np.eye(3)[y_train]})\n",
    "    costs2.append(entropy_val)\n",
    "    if i%1000==0: print(i, entropy_val)\n",
    "        \n",
    "print(i, entropy_val)"
   ]
  },
  {
   "cell_type": "code",
   "execution_count": 64,
   "metadata": {},
   "outputs": [
    {
     "data": {
      "text/plain": [
       "<matplotlib.legend.Legend at 0x1d09e2fada0>"
      ]
     },
     "execution_count": 64,
     "metadata": {},
     "output_type": "execute_result"
    },
    {
     "data": {
      "image/png": "[encoded data removed]",
      "text/plain": [
       "<matplotlib.figure.Figure at 0x1d09e19bcf8>"
      ]
     },
     "metadata": {},
     "output_type": "display_data"
    }
   ],
   "source": [
    "plt.plot(costs[:1000])\n",
    "plt.plot(costs2[:1000])\n",
    "plt.legend(['sgd', 'rmsprop'])"
   ]
  },
  {
   "cell_type": "code",
   "execution_count": 55,
   "metadata": {},
   "outputs": [],
   "source": [
    "pred_y_train = pred_y.eval(feed_dict={X: X_train, y: np.eye(3)[y_train]})\n",
    "pred_y_test  = pred_y.eval(feed_dict={X: X_test, y: np.eye(3)[y_test]})"
   ]
  },
  {
   "cell_type": "code",
   "execution_count": 56,
   "metadata": {},
   "outputs": [
    {
     "data": {
      "text/plain": [
       "((112, 3), (38, 3))"
      ]
     },
     "execution_count": 56,
     "metadata": {},
     "output_type": "execute_result"
    }
   ],
   "source": [
    "pred_y_train.shape, pred_y_test.shape"
   ]
  },
  {
   "cell_type": "code",
   "execution_count": 57,
   "metadata": {},
   "outputs": [
    {
     "data": {
      "text/plain": [
       "0.9821428571428571"
      ]
     },
     "execution_count": 57,
     "metadata": {},
     "output_type": "execute_result"
    }
   ],
   "source": [
    "(pred_y_train.argmax(axis=1) == y_train).mean()"
   ]
  },
  {
   "cell_type": "code",
   "execution_count": 58,
   "metadata": {},
   "outputs": [
    {
     "data": {
      "text/plain": [
       "1.0"
      ]
     },
     "execution_count": 58,
     "metadata": {},
     "output_type": "execute_result"
    }
   ],
   "source": [
    "(pred_y_test.argmax(axis=1) == y_test).mean()"
   ]
  },
  {
   "cell_type": "markdown",
   "metadata": {},
   "source": [
    "### 중간층 사용\n",
    "- 중간층 뉴런 10개\n",
    "- 중간층 활성화함수는 relu 또는 sigmoid"
   ]
  },
  {
   "cell_type": "code",
   "execution_count": 44,
   "metadata": {},
   "outputs": [],
   "source": [
    "X_train, X_test, y_train, y_test = train_test_split(iris.data, iris.target)"
   ]
  },
  {
   "cell_type": "code",
   "execution_count": 71,
   "metadata": {},
   "outputs": [
    {
     "name": "stdout",
     "output_type": "stream",
     "text": [
      "0 9.838471\n",
      "1000 0.29889578\n",
      "2000 0.14235799\n",
      "3000 0.09874572\n",
      "4000 0.08204736\n",
      "5000 0.07367972\n",
      "6000 0.068767235\n",
      "7000 0.06556055\n",
      "8000 0.063292325\n",
      "9000 0.061583247\n",
      "10000 0.06022855\n",
      "11000 0.059110943\n",
      "12000 0.058159683\n",
      "13000 0.057330232\n",
      "14000 0.05659371\n",
      "15000 0.05593052\n",
      "16000 0.055327058\n",
      "17000 0.054773416\n",
      "18000 0.05426234\n",
      "19000 0.053788237\n",
      "19999 0.053347044\n"
     ]
    }
   ],
   "source": [
    "X = tf.placeholder(tf.float32, shape=[None,4])\n",
    "y = tf.placeholder(tf.float32, shape=[None,3])\n",
    "\n",
    "w1 = tf.Variable(tf.random.normal([4,10]))\n",
    "b1 = tf.Variable(tf.random.normal([10]))\n",
    "y1 = tf.nn.relu(X@w1 + b1)\n",
    "\n",
    "w2 = tf.Variable(tf.random.normal([10,3]))\n",
    "b2 = tf.Variable(tf.random.normal([3]))\n",
    "pred_y = y1@w2 + b2\n",
    "\n",
    "entropy = tf.reduce_mean(tf.nn.softmax_cross_entropy_with_logits_v2(labels = y, logits = pred_y))\n",
    "\n",
    "optimizer = tf.train.GradientDescentOptimizer(learning_rate=0.01)\n",
    "train_op = optimizer.minimize(entropy)\n",
    "\n",
    "costs = []\n",
    "tf.global_variables_initializer().run()\n",
    "\n",
    "for i in range(20000):\n",
    "    entropy_val, _ = sess.run([entropy, train_op],\n",
    "                              feed_dict={X: X_train, y: np.eye(3)[y_train]})\n",
    "    costs.append(entropy_val)\n",
    "    if i%1000==0: print(i, entropy_val)\n",
    "        \n",
    "print(i, entropy_val)"
   ]
  },
  {
   "cell_type": "code",
   "execution_count": 72,
   "metadata": {},
   "outputs": [
    {
     "name": "stdout",
     "output_type": "stream",
     "text": [
      "0 3.4631712\n",
      "1000 0.59719056\n",
      "2000 0.42735103\n",
      "3000 0.33897394\n",
      "4000 0.2764888\n",
      "5000 0.22969283\n",
      "6000 0.19526942\n",
      "7000 0.1700882\n",
      "8000 0.1514859\n",
      "9000 0.13749467\n",
      "10000 0.12675022\n",
      "11000 0.11832513\n",
      "12000 0.11158784\n",
      "13000 0.10610257\n",
      "14000 0.1015638\n",
      "15000 0.09775324\n",
      "16000 0.094512224\n",
      "17000 0.09172321\n",
      "18000 0.08929799\n",
      "19000 0.08716909\n",
      "19999 0.085286126\n"
     ]
    }
   ],
   "source": [
    "X = tf.placeholder(tf.float32, shape=[None,4])\n",
    "y = tf.placeholder(tf.float32, shape=[None,3])\n",
    "\n",
    "w1 = tf.Variable(tf.random.normal([4,10]))\n",
    "b1 = tf.Variable(tf.random.normal([10]))\n",
    "y1 = tf.nn.sigmoid(X@w1 + b1)\n",
    "\n",
    "w2 = tf.Variable(tf.random.normal([10,3]))\n",
    "b2 = tf.Variable(tf.random.normal([3]))\n",
    "pred_y = y1@w2 + b2\n",
    "\n",
    "entropy = tf.reduce_mean(tf.nn.softmax_cross_entropy_with_logits_v2(labels = y, logits = pred_y))\n",
    "\n",
    "optimizer = tf.train.GradientDescentOptimizer(learning_rate=0.01)\n",
    "train_op = optimizer.minimize(entropy)\n",
    "\n",
    "costs2 = []\n",
    "tf.global_variables_initializer().run()\n",
    "\n",
    "for i in range(20000):\n",
    "    entropy_val, _ = sess.run([entropy, train_op],\n",
    "                              feed_dict={X: X_train, y: np.eye(3)[y_train]})\n",
    "    costs2.append(entropy_val)\n",
    "    if i%1000==0: print(i, entropy_val)\n",
    "        \n",
    "print(i, entropy_val)"
   ]
  },
  {
   "cell_type": "code",
   "execution_count": 75,
   "metadata": {},
   "outputs": [
    {
     "data": {
      "text/plain": [
       "<matplotlib.legend.Legend at 0x1d09fa26be0>"
      ]
     },
     "execution_count": 75,
     "metadata": {},
     "output_type": "execute_result"
    },
    {
     "data": {
      "image/png": "[encoded data removed]",
      "text/plain": [
       "<matplotlib.figure.Figure at 0x1d09f9d95c0>"
      ]
     },
     "metadata": {},
     "output_type": "display_data"
    }
   ],
   "source": [
    "plt.plot(costs[:50])\n",
    "plt.plot(costs2[:50])\n",
    "plt.legend(['relu', 'sigmoid'])"
   ]
  },
  {
   "cell_type": "code",
   "execution_count": 66,
   "metadata": {},
   "outputs": [
    {
     "data": {
      "text/plain": [
       "0.9821428571428571"
      ]
     },
     "execution_count": 66,
     "metadata": {},
     "output_type": "execute_result"
    }
   ],
   "source": [
    "pred_y_train = pred_y.eval(feed_dict={X: X_train, y: np.eye(3)[y_train]})\n",
    "(pred_y_train.argmax(axis=1) == y_train).mean()"
   ]
  },
  {
   "cell_type": "code",
   "execution_count": 67,
   "metadata": {},
   "outputs": [
    {
     "data": {
      "text/plain": [
       "1.0"
      ]
     },
     "execution_count": 67,
     "metadata": {},
     "output_type": "execute_result"
    }
   ],
   "source": [
    "pred_y_test  = pred_y.eval(feed_dict={X: X_test, y: np.eye(3)[y_test]})\n",
    "(pred_y_test.argmax(axis=1) == y_test).mean()"
   ]
  },
  {
   "cell_type": "markdown",
   "metadata": {},
   "source": [
    "- 중간층 뉴런갯수가 5=>10=>10=>5 가 되도록 4개층으로 구성"
   ]
  },
  {
   "cell_type": "code",
   "execution_count": 76,
   "metadata": {},
   "outputs": [
    {
     "name": "stdout",
     "output_type": "stream",
     "text": [
      "0 66.73725\n",
      "1000 0.21095045\n",
      "2000 0.11372528\n",
      "3000 0.084860325\n",
      "4000 0.07166528\n",
      "5000 0.06446146\n",
      "6000 0.06631708\n",
      "7000 0.06317768\n",
      "8000 0.061067093\n",
      "9000 0.059288535\n",
      "10000 0.057804417\n",
      "11000 0.056552768\n",
      "12000 0.055488426\n",
      "13000 0.054574747\n",
      "14000 0.05378099\n",
      "15000 0.053085975\n",
      "16000 0.052473836\n",
      "17000 0.05192926\n",
      "18000 0.05144143\n",
      "19000 0.051002257\n",
      "19999 0.049992613\n"
     ]
    }
   ],
   "source": [
    "X = tf.placeholder(tf.float32, shape=[None,4])\n",
    "y = tf.placeholder(tf.float32, shape=[None,3])\n",
    "\n",
    "w1 = tf.Variable(tf.random.normal([4,5]))\n",
    "b1 = tf.Variable(tf.random.normal([5]))\n",
    "y1 = tf.nn.relu(X@w1 + b1)\n",
    "\n",
    "w2 = tf.Variable(tf.random.normal([5,10]))\n",
    "b2 = tf.Variable(tf.random.normal([10]))\n",
    "y2 = tf.nn.relu(y1@w2 + b2)\n",
    "\n",
    "w3 = tf.Variable(tf.random.normal([10,10]))\n",
    "b3 = tf.Variable(tf.random.normal([10]))\n",
    "y3 = tf.nn.relu(y2@w3 + b3)\n",
    "\n",
    "w4 = tf.Variable(tf.random.normal([10,5]))\n",
    "b4 = tf.Variable(tf.random.normal([5]))\n",
    "y4 = tf.nn.relu(y3@w4 + b4)\n",
    "\n",
    "w5 = tf.Variable(tf.random.normal([5,3]))\n",
    "b5 = tf.Variable(tf.random.normal([3]))\n",
    "pred_y = y4@w5 + b5\n",
    "\n",
    "entropy = tf.reduce_mean(tf.nn.softmax_cross_entropy_with_logits_v2(labels = y, logits = pred_y))\n",
    "\n",
    "optimizer = tf.train.GradientDescentOptimizer(learning_rate=0.01)\n",
    "train_op = optimizer.minimize(entropy)\n",
    "\n",
    "costs3 = []\n",
    "tf.global_variables_initializer().run()\n",
    "\n",
    "for i in range(20000):\n",
    "    entropy_val, _ = sess.run([entropy, train_op],\n",
    "                              feed_dict={X: X_train, y: np.eye(3)[y_train]})\n",
    "    costs3.append(entropy_val)\n",
    "    if i%1000==0: print(i, entropy_val)\n",
    "        \n",
    "print(i, entropy_val)"
   ]
  },
  {
   "cell_type": "code",
   "execution_count": 77,
   "metadata": {},
   "outputs": [
    {
     "data": {
      "text/plain": [
       "0.9642857142857143"
      ]
     },
     "execution_count": 77,
     "metadata": {},
     "output_type": "execute_result"
    }
   ],
   "source": [
    "pred_y_train = pred_y.eval(feed_dict={X: X_train, y: np.eye(3)[y_train]})\n",
    "(pred_y_train.argmax(axis=1) == y_train).mean()"
   ]
  },
  {
   "cell_type": "code",
   "execution_count": 79,
   "metadata": {},
   "outputs": [
    {
     "data": {
      "text/plain": [
       "0.9736842105263158"
      ]
     },
     "execution_count": 79,
     "metadata": {},
     "output_type": "execute_result"
    }
   ],
   "source": [
    "pred_y_test  = pred_y.eval(feed_dict={X: X_test, y: np.eye(3)[y_test]})\n",
    "(pred_y_test.argmax(axis=1) == y_test).mean()"
   ]
  },
  {
   "cell_type": "code",
   "execution_count": 88,
   "metadata": {},
   "outputs": [
    {
     "data": {
      "text/plain": [
       "<matplotlib.legend.Legend at 0x1d09df7bc50>"
      ]
     },
     "execution_count": 88,
     "metadata": {},
     "output_type": "execute_result"
    },
    {
     "data": {
      "image/png": "[encoded data removed]",
      "text/plain": [
       "<matplotlib.figure.Figure at 0x1d09f9fecc0>"
      ]
     },
     "metadata": {},
     "output_type": "display_data"
    }
   ],
   "source": [
    "plt.plot(costs[:10000])\n",
    "plt.plot(costs2[:10000])\n",
    "plt.plot(costs3[:10000])\n",
    "plt.ylim(0,1)\n",
    "plt.legend(['relu', 'sigmoid', 'multi-layer'])"
   ]
  },
  {
   "cell_type": "code",
   "execution_count": 94,
   "metadata": {},
   "outputs": [
    {
     "data": {
      "text/plain": [
       "[<matplotlib.lines.Line2D at 0x1d0a24befd0>]"
      ]
     },
     "execution_count": 94,
     "metadata": {},
     "output_type": "execute_result"
    },
    {
     "data": {
      "image/png": "[encoded data removed]",
      "text/plain": [
       "<matplotlib.figure.Figure at 0x1d0a2315588>"
      ]
     },
     "metadata": {},
     "output_type": "display_data"
    }
   ],
   "source": [
    "plt.plot(range(5600,5700),costs3[5600:5700])"
   ]
  }
 ],
 "metadata": {
  "kernelspec": {
   "display_name": "Python 3",
   "language": "python",
   "name": "python3"
  },
  "language_info": {
   "codemirror_mode": {
    "name": "ipython",
    "version": 3
   },
   "file_extension": ".py",
   "mimetype": "text/x-python",
   "name": "python",
   "nbconvert_exporter": "python",
   "pygments_lexer": "ipython3",
   "version": "3.6.4"
  }
 },
 "nbformat": 4,
 "nbformat_minor": 2
}
