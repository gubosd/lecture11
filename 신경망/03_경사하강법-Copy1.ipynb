{
 "cells": [
  {
   "cell_type": "markdown",
   "metadata": {},
   "source": [
    "## 신경망 개요\n",
    "# 경사하강법 (Gradient Descent)"
   ]
  },
  {
   "cell_type": "markdown",
   "metadata": {},
   "source": [
    "<img src=\"도표04.jpg\" />"
   ]
  },
  {
   "cell_type": "markdown",
   "metadata": {},
   "source": [
    "- w 값을 줄일것인가 늘릴것인가?\n",
    "- 기울기를 알면 방향을 잡을 수 있다\n",
    "$$ w_{new} = w - learning\\_rate \\cdot slope(w,b) $$\n",
    "$$ slope(w,b) = {\\partial Loss(w,b) \\over \\partial w} $$"
   ]
  },
  {
   "cell_type": "code",
   "execution_count": 8,
   "metadata": {},
   "outputs": [],
   "source": [
    "import numpy as np\n",
    "import pandas as pd\n",
    "import matplotlib.pyplot as plt"
   ]
  },
  {
   "cell_type": "markdown",
   "metadata": {},
   "source": [
    "### 선형회귀 (속성이 1개일 때) 경사하강법\n",
    "- 중간층 없이, 입력층과 출력층만 있음\n",
    "- 활성화함수 없음\n",
    "- 비용함수는 MSE\n",
    "- w 와 b 는 한개씩"
   ]
  },
  {
   "cell_type": "markdown",
   "metadata": {},
   "source": [
    "$$ \\hat{y}_i = w \\cdot x_i + b \\\\\n",
    "Loss = {1 \\over N} \\sum_i (y_i - \\hat{y}_i)^2 \\\\\n",
    "= {1 \\over N} \\sum_i (y_i - (w \\cdot x_i + b))^2 $$"
   ]
  },
  {
   "cell_type": "markdown",
   "metadata": {},
   "source": [
    "$$ {\\partial Loss \\over \\partial w} = -{2 \\over N} \\sum_i (y_i - \\hat{y}_i) \\cdot x_i \\\\\n",
    "{\\partial Loss \\over \\partial b} = -{2 \\over N} \\sum_i (y_i - \\hat{y}_i) \\\\\n",
    "w_{new} = w - lr \\cdot {\\partial Loss \\over \\partial w}\n",
    "= w + lr \\cdot {2 \\over N} \\sum_i (y_i - \\hat{y}_i) \\cdot x_i \\\\\n",
    "b_{new} = b - lr \\cdot {\\partial Loss \\over \\partial b}\n",
    "= b + lr \\cdot {2 \\over N} \\sum_i (y_i - \\hat{y}_i) $$"
   ]
  },
  {
   "cell_type": "markdown",
   "metadata": {},
   "source": [
    "- iris 데이터에서 petal length 와 petal width 에 대해 선형회귀 적용"
   ]
  },
  {
   "cell_type": "code",
   "execution_count": 9,
   "metadata": {},
   "outputs": [],
   "source": [
    "from sklearn.datasets import load_iris\n",
    "\n",
    "iris = load_iris()"
   ]
  },
  {
   "cell_type": "code",
   "execution_count": 10,
   "metadata": {},
   "outputs": [],
   "source": [
    "x = iris.data[:,2]\n",
    "y = iris.data[:,3]"
   ]
  },
  {
   "cell_type": "code",
   "execution_count": 9,
   "metadata": {},
   "outputs": [],
   "source": [
    "w = np.random.randn()\n",
    "b = np.random.randn()\n",
    "lr = 0.01"
   ]
  },
  {
   "cell_type": "code",
   "execution_count": 10,
   "metadata": {},
   "outputs": [],
   "source": [
    "pred_y = x*w + b"
   ]
  },
  {
   "cell_type": "code",
   "execution_count": 12,
   "metadata": {},
   "outputs": [
    {
     "data": {
      "text/plain": [
       "75.3868108933482"
      ]
     },
     "execution_count": 12,
     "metadata": {},
     "output_type": "execute_result"
    }
   ],
   "source": [
    "mse = np.mean((y-pred_y)**2)\n",
    "mse"
   ]
  },
  {
   "cell_type": "code",
   "execution_count": null,
   "metadata": {},
   "outputs": [],
   "source": []
  },
  {
   "cell_type": "code",
   "execution_count": 13,
   "metadata": {},
   "outputs": [
    {
     "data": {
      "text/plain": [
       "-0.716689601780448"
      ]
     },
     "execution_count": 13,
     "metadata": {},
     "output_type": "execute_result"
    }
   ],
   "source": [
    "dw = lr*2/len(y)*np.sum((y-pred_y)*x)\n",
    "dw"
   ]
  },
  {
   "cell_type": "code",
   "execution_count": 14,
   "metadata": {},
   "outputs": [
    {
     "data": {
      "text/plain": [
       "-0.16388913182883127"
      ]
     },
     "execution_count": 14,
     "metadata": {},
     "output_type": "execute_result"
    }
   ],
   "source": [
    "db = lr*2/len(y)*np.sum(y-pred_y)\n",
    "db"
   ]
  },
  {
   "cell_type": "code",
   "execution_count": 15,
   "metadata": {},
   "outputs": [],
   "source": [
    "w = w + dw\n",
    "b = b + db"
   ]
  },
  {
   "cell_type": "code",
   "execution_count": 16,
   "metadata": {},
   "outputs": [],
   "source": [
    "pred_y = x*w + b"
   ]
  },
  {
   "cell_type": "code",
   "execution_count": 17,
   "metadata": {},
   "outputs": [
    {
     "data": {
      "text/plain": [
       "31.09122489163435"
      ]
     },
     "execution_count": 17,
     "metadata": {},
     "output_type": "execute_result"
    }
   ],
   "source": [
    "mse = np.mean((y-pred_y)**2)\n",
    "mse"
   ]
  },
  {
   "cell_type": "markdown",
   "metadata": {},
   "source": [
    "> 반복 적용"
   ]
  },
  {
   "cell_type": "code",
   "execution_count": 20,
   "metadata": {},
   "outputs": [
    {
     "name": "stdout",
     "output_type": "stream",
     "text": [
      "928 0.4164191221911922 -0.36651399943114227 0.042289946319484614\n"
     ]
    }
   ],
   "source": [
    "w = np.random.randn()/10\n",
    "b = np.random.randn()/10\n",
    "lr = 0.05\n",
    "\n",
    "pred_y = x*w + b\n",
    "mse = np.mean((y-pred_y)**2)\n",
    "costs = [mse]\n",
    "\n",
    "for i in range(3000):\n",
    "    pred_y = x*w + b\n",
    "    dw = lr*2/len(y)*np.sum((y-pred_y)*x)\n",
    "    db = lr*2/len(y)*np.sum(y-pred_y)\n",
    "    \n",
    "    w_new = w + dw\n",
    "    b_new = b + db\n",
    "    mse_new = np.mean((y-(x*w_new + b_new))**2)\n",
    "    if mse_new>=mse: break\n",
    "        \n",
    "    w = w_new\n",
    "    b = b_new\n",
    "    mse = mse_new\n",
    "    costs.append(mse)\n",
    "    \n",
    "print(i, w, b, mse)"
   ]
  },
  {
   "cell_type": "code",
   "execution_count": 21,
   "metadata": {},
   "outputs": [
    {
     "data": {
      "text/plain": [
       "[<matplotlib.lines.Line2D at 0x2413e260eb8>]"
      ]
     },
     "execution_count": 21,
     "metadata": {},
     "output_type": "execute_result"
    },
    {
     "data": {
      "image/png": "[encoded data removed]",
      "text/plain": [
       "<matplotlib.figure.Figure at 0x2413e39a390>"
      ]
     },
     "metadata": {},
     "output_type": "display_data"
    }
   ],
   "source": [
    "plt.plot(costs[:100])"
   ]
  },
  {
   "cell_type": "code",
   "execution_count": 3,
   "metadata": {},
   "outputs": [],
   "source": [
    "from sklearn.linear_model import LinearRegression"
   ]
  },
  {
   "cell_type": "code",
   "execution_count": 33,
   "metadata": {},
   "outputs": [
    {
     "data": {
      "text/plain": [
       "LinearRegression(copy_X=True, fit_intercept=True, n_jobs=1, normalize=False)"
      ]
     },
     "execution_count": 33,
     "metadata": {},
     "output_type": "execute_result"
    }
   ],
   "source": [
    "model = LinearRegression()\n",
    "model.fit(x.reshape(-1,1), y)"
   ]
  },
  {
   "cell_type": "code",
   "execution_count": 34,
   "metadata": {},
   "outputs": [
    {
     "data": {
      "text/plain": [
       "(array([0.41641913]), -0.3665140452167275)"
      ]
     },
     "execution_count": 34,
     "metadata": {},
     "output_type": "execute_result"
    }
   ],
   "source": [
    "model.coef_, model.intercept_"
   ]
  }
 ],
 "metadata": {
  "kernelspec": {
   "display_name": "Python 3",
   "language": "python",
   "name": "python3"
  },
  "language_info": {
   "codemirror_mode": {
    "name": "ipython",
    "version": 3
   },
   "file_extension": ".py",
   "mimetype": "text/x-python",
   "name": "python",
   "nbconvert_exporter": "python",
   "pygments_lexer": "ipython3",
   "version": "3.6.4"
  }
 },
 "nbformat": 4,
 "nbformat_minor": 2
}
