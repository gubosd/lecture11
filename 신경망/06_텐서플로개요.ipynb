{
 "cells": [
  {
   "cell_type": "markdown",
   "metadata": {},
   "source": [
    "## 신경망 개요\n",
    "# 텐서플로(Tensorflow) 개요"
   ]
  },
  {
   "cell_type": "markdown",
   "metadata": {},
   "source": [
    "### 텐서플로 설치\n",
    "- 아나콘다 프롬프트를 실행 (에러 발생시 관리자 권한으로 실행)\n",
    "- 아래 명령으로 1.12.0 버전 설치\n",
    "> pip install tensorflow==1.12.0\n",
    "- 필요시, 아래 명령으로 pip 업그레이드 후 텐서플로 설치\n",
    "> python -m pip install --upgrade pip"
   ]
  },
  {
   "cell_type": "code",
   "execution_count": 1,
   "metadata": {},
   "outputs": [
    {
     "name": "stderr",
     "output_type": "stream",
     "text": [
      "C:\\Anaconda3\\lib\\site-packages\\h5py\\__init__.py:36: FutureWarning: Conversion of the second argument of issubdtype from `float` to `np.floating` is deprecated. In future, it will be treated as `np.float64 == np.dtype(float).type`.\n",
      "  from ._conv import register_converters as _register_converters\n"
     ]
    }
   ],
   "source": [
    "import tensorflow as tf"
   ]
  },
  {
   "cell_type": "code",
   "execution_count": 2,
   "metadata": {},
   "outputs": [
    {
     "data": {
      "text/plain": [
       "'1.12.0'"
      ]
     },
     "execution_count": 2,
     "metadata": {},
     "output_type": "execute_result"
    }
   ],
   "source": [
    "tf.__version__"
   ]
  },
  {
   "cell_type": "markdown",
   "metadata": {},
   "source": [
    "### 텐서플로 실행 방식\n",
    "<img src=\"https://www.i2tutorials.com/wp-content/uploads/2019/09/computational-graph-in-TensorFlow-1-i2tutorials.png\" />\n",
    "(출처: https://www.i2tutorials.com/how-do-you-build-computational-graph-in-tensorflow/)"
   ]
  },
  {
   "cell_type": "markdown",
   "metadata": {},
   "source": [
    "- 텐서플로는 위의 그림과 같이 **계산 그래프**(computation graph) 방식을 사용한다\n",
    "- 먼저 그래프를 만들고(**구성 단계**) 이 그래프를 실행한다(**실행 단계**)\n",
    "- 그래프는 **노드**(node) 와 **엣지**(edge) 로 구성된다\n",
    "- 노드는 위 그림에서 네모나 동그라미로 표시되며, 상수나 변수, 연산에 해당한다 (tf.Operation)\n",
    "- 엣지는 화살표로 표시되며, 처리된 값을 의미한다 (tf.Tensor)"
   ]
  },
  {
   "cell_type": "markdown",
   "metadata": {},
   "source": [
    "### 텐서 정의\n",
    "- 상수(tf.constant)\n",
    "- 변수(tf.Variable)\n",
    "- 플레이스홀더(tf.placeholder)"
   ]
  },
  {
   "cell_type": "code",
   "execution_count": 3,
   "metadata": {},
   "outputs": [],
   "source": [
    "import numpy as np\n",
    "import pandas as pd\n",
    "import matplotlib.pyplot as plt"
   ]
  },
  {
   "cell_type": "markdown",
   "metadata": {},
   "source": [
    "### tf.constant()"
   ]
  },
  {
   "cell_type": "code",
   "execution_count": 5,
   "metadata": {},
   "outputs": [
    {
     "data": {
      "text/plain": [
       "(<tf.Tensor 'Const:0' shape=() dtype=int32>,\n",
       " <tf.Tensor 'Const_1:0' shape=() dtype=int32>)"
      ]
     },
     "execution_count": 5,
     "metadata": {},
     "output_type": "execute_result"
    }
   ],
   "source": [
    "a = tf.constant(2)\n",
    "b = tf.constant(3)\n",
    "\n",
    "a, b"
   ]
  },
  {
   "cell_type": "code",
   "execution_count": 6,
   "metadata": {},
   "outputs": [
    {
     "data": {
      "text/plain": [
       "<tf.Tensor 'mul:0' shape=() dtype=int32>"
      ]
     },
     "execution_count": 6,
     "metadata": {},
     "output_type": "execute_result"
    }
   ],
   "source": [
    "c = a*b\n",
    "c"
   ]
  },
  {
   "cell_type": "markdown",
   "metadata": {},
   "source": [
    "- 상수의 타입이 tf.Tensor 즉 텐서임에 주목하자\n",
    "- 상수들을 만들고 실행하더라도 연산이 실행되지 않는다\n",
    "- 위 코드는 단지 계산 그래프를 만들 뿐이다\n",
    "- 실제 값으로 출력하려면 세션(tf.Session) 을 이용해 실행단계를 거쳐야 한다"
   ]
  },
  {
   "cell_type": "code",
   "execution_count": 10,
   "metadata": {},
   "outputs": [
    {
     "data": {
      "text/plain": [
       "6"
      ]
     },
     "execution_count": 10,
     "metadata": {},
     "output_type": "execute_result"
    }
   ],
   "source": [
    "sess = tf.Session()\n",
    "sess.run(c)"
   ]
  },
  {
   "cell_type": "code",
   "execution_count": 11,
   "metadata": {},
   "outputs": [
    {
     "data": {
      "text/plain": [
       "[2, 3, 6]"
      ]
     },
     "execution_count": 11,
     "metadata": {},
     "output_type": "execute_result"
    }
   ],
   "source": [
    "sess.run([a,b,c])"
   ]
  },
  {
   "cell_type": "code",
   "execution_count": 12,
   "metadata": {},
   "outputs": [
    {
     "data": {
      "text/plain": [
       "list"
      ]
     },
     "execution_count": 12,
     "metadata": {},
     "output_type": "execute_result"
    }
   ],
   "source": [
    "type(sess.run([a,b,c]))"
   ]
  },
  {
   "cell_type": "code",
   "execution_count": 9,
   "metadata": {},
   "outputs": [],
   "source": [
    "sess.close()"
   ]
  },
  {
   "cell_type": "markdown",
   "metadata": {},
   "source": [
    "### tf.Variable()"
   ]
  },
  {
   "cell_type": "code",
   "execution_count": 11,
   "metadata": {},
   "outputs": [
    {
     "data": {
      "text/plain": [
       "(<tf.Tensor 'Const_3:0' shape=() dtype=int32>,\n",
       " <tf.Variable 'Variable_1:0' shape=() dtype=int32_ref>)"
      ]
     },
     "execution_count": 11,
     "metadata": {},
     "output_type": "execute_result"
    }
   ],
   "source": [
    "a = tf.constant(2)\n",
    "b = tf.Variable(3)\n",
    "\n",
    "a,b"
   ]
  },
  {
   "cell_type": "code",
   "execution_count": 12,
   "metadata": {},
   "outputs": [
    {
     "data": {
      "text/plain": [
       "<tf.Tensor 'mul_2:0' shape=() dtype=int32>"
      ]
     },
     "execution_count": 12,
     "metadata": {},
     "output_type": "execute_result"
    }
   ],
   "source": [
    "c = a*b\n",
    "c"
   ]
  },
  {
   "cell_type": "code",
   "execution_count": 13,
   "metadata": {},
   "outputs": [
    {
     "data": {
      "text/plain": [
       "6"
      ]
     },
     "execution_count": 13,
     "metadata": {},
     "output_type": "execute_result"
    }
   ],
   "source": [
    "sess = tf.Session()\n",
    "sess.run(b.initializer) # 변수는 초기화 필수!\n",
    "sess.run(c)"
   ]
  },
  {
   "cell_type": "code",
   "execution_count": 14,
   "metadata": {},
   "outputs": [
    {
     "data": {
      "text/plain": [
       "[2, 3, 6]"
      ]
     },
     "execution_count": 14,
     "metadata": {},
     "output_type": "execute_result"
    }
   ],
   "source": [
    "sess.run([a,b,c])"
   ]
  },
  {
   "cell_type": "code",
   "execution_count": 15,
   "metadata": {},
   "outputs": [],
   "source": [
    "sess.close()"
   ]
  },
  {
   "cell_type": "markdown",
   "metadata": {},
   "source": [
    "- 변수는 tf.Variable 타입이다 (텐서의 일종임)\n",
    "- 변수는 반드시 실행하기 전에 반드시 초기화해야 한다 (b.initializer)\n",
    "- 상수와 다르게 변수는 값을 재할당할 수 있다"
   ]
  },
  {
   "cell_type": "markdown",
   "metadata": {},
   "source": [
    "### tf.placeholder()"
   ]
  },
  {
   "cell_type": "code",
   "execution_count": 13,
   "metadata": {},
   "outputs": [
    {
     "data": {
      "text/plain": [
       "(<tf.Tensor 'Const_2:0' shape=() dtype=int32>,\n",
       " <tf.Tensor 'Placeholder:0' shape=<unknown> dtype=int32>)"
      ]
     },
     "execution_count": 13,
     "metadata": {},
     "output_type": "execute_result"
    }
   ],
   "source": [
    "a = tf.constant(2)\n",
    "b = tf.placeholder(tf.int32)\n",
    "\n",
    "a, b"
   ]
  },
  {
   "cell_type": "code",
   "execution_count": 14,
   "metadata": {},
   "outputs": [
    {
     "data": {
      "text/plain": [
       "<tf.Tensor 'mul_1:0' shape=<unknown> dtype=int32>"
      ]
     },
     "execution_count": 14,
     "metadata": {},
     "output_type": "execute_result"
    }
   ],
   "source": [
    "c = a*b\n",
    "c"
   ]
  },
  {
   "cell_type": "code",
   "execution_count": 17,
   "metadata": {},
   "outputs": [
    {
     "data": {
      "text/plain": [
       "array([[2],\n",
       "       [4],\n",
       "       [6]])"
      ]
     },
     "execution_count": 17,
     "metadata": {},
     "output_type": "execute_result"
    }
   ],
   "source": [
    "sess = tf.Session()\n",
    "sess.run(c, feed_dict={b:[[1.],[2.],[3.]]}) # 플레이스홀더는 실행할 때 값을 할당해 주어야 한다"
   ]
  },
  {
   "cell_type": "code",
   "execution_count": 21,
   "metadata": {},
   "outputs": [
    {
     "data": {
      "text/plain": [
       "[2, array(3), 6]"
      ]
     },
     "execution_count": 21,
     "metadata": {},
     "output_type": "execute_result"
    }
   ],
   "source": [
    "sess.run([a,b,c], feed_dict={b:3})"
   ]
  },
  {
   "cell_type": "code",
   "execution_count": 22,
   "metadata": {},
   "outputs": [],
   "source": [
    "sess.close()"
   ]
  },
  {
   "cell_type": "markdown",
   "metadata": {},
   "source": [
    "- 플레이스홀더는 shape 를 지정할 수 있다"
   ]
  },
  {
   "cell_type": "code",
   "execution_count": 28,
   "metadata": {},
   "outputs": [],
   "source": [
    "a = tf.constant(2)\n",
    "b = tf.placeholder(tf.int32, shape=(4,3))\n",
    "c = a*b"
   ]
  },
  {
   "cell_type": "code",
   "execution_count": 29,
   "metadata": {},
   "outputs": [
    {
     "data": {
      "text/plain": [
       "array([[ 0,  2,  4],\n",
       "       [ 6,  8, 10],\n",
       "       [12, 14, 16],\n",
       "       [18, 20, 22]])"
      ]
     },
     "execution_count": 29,
     "metadata": {},
     "output_type": "execute_result"
    }
   ],
   "source": [
    "sess = tf.Session()\n",
    "sess.run(c, feed_dict={b: np.arange(12).reshape(4,3)})"
   ]
  },
  {
   "cell_type": "code",
   "execution_count": 30,
   "metadata": {},
   "outputs": [
    {
     "data": {
      "text/plain": [
       "[2, array([[ 0,  1,  2],\n",
       "        [ 3,  4,  5],\n",
       "        [ 6,  7,  8],\n",
       "        [ 9, 10, 11]]), array([[ 0,  2,  4],\n",
       "        [ 6,  8, 10],\n",
       "        [12, 14, 16],\n",
       "        [18, 20, 22]])]"
      ]
     },
     "execution_count": 30,
     "metadata": {},
     "output_type": "execute_result"
    }
   ],
   "source": [
    "sess.run([a,b,c], feed_dict={b: np.arange(12).reshape(4,3)})"
   ]
  },
  {
   "cell_type": "code",
   "execution_count": 31,
   "metadata": {},
   "outputs": [],
   "source": [
    "sess.close()"
   ]
  },
  {
   "cell_type": "markdown",
   "metadata": {},
   "source": [
    "- 또한, 플레이스홀더는 임의의 shape 도 지정할 수 있다"
   ]
  },
  {
   "cell_type": "code",
   "execution_count": 32,
   "metadata": {},
   "outputs": [],
   "source": [
    "a = tf.constant(2)\n",
    "b = tf.placeholder(tf.int32, shape=(None,3)) # None 으로 행의 갯수를 임의로 지정\n",
    "c = a*b"
   ]
  },
  {
   "cell_type": "code",
   "execution_count": 33,
   "metadata": {},
   "outputs": [
    {
     "data": {
      "text/plain": [
       "array([[ 0,  2,  4],\n",
       "       [ 6,  8, 10],\n",
       "       [12, 14, 16]])"
      ]
     },
     "execution_count": 33,
     "metadata": {},
     "output_type": "execute_result"
    }
   ],
   "source": [
    "sess = tf.Session()\n",
    "sess.run(c, feed_dict={b: np.arange(9).reshape(3,3)})"
   ]
  },
  {
   "cell_type": "code",
   "execution_count": 34,
   "metadata": {},
   "outputs": [
    {
     "data": {
      "text/plain": [
       "[2, array([[ 0,  1,  2],\n",
       "        [ 3,  4,  5],\n",
       "        [ 6,  7,  8],\n",
       "        [ 9, 10, 11]]), array([[ 0,  2,  4],\n",
       "        [ 6,  8, 10],\n",
       "        [12, 14, 16],\n",
       "        [18, 20, 22]])]"
      ]
     },
     "execution_count": 34,
     "metadata": {},
     "output_type": "execute_result"
    }
   ],
   "source": [
    "sess.run([a,b,c], feed_dict={b: np.arange(12).reshape(4,3)})"
   ]
  },
  {
   "cell_type": "code",
   "execution_count": 35,
   "metadata": {},
   "outputs": [],
   "source": [
    "sess.close()"
   ]
  },
  {
   "cell_type": "markdown",
   "metadata": {},
   "source": [
    "### 주 활용예\n",
    "- 상수 : 학습률 등 고정된 값\n",
    "- 변수 : 가중치(w)와 절편(b)\n",
    "- 플레이스홀더 : 입력데이터(X)"
   ]
  },
  {
   "cell_type": "markdown",
   "metadata": {},
   "source": [
    "### tf.Session\n",
    "- 그래프를 일단 만든 후,  세션을 생성하여 그래프를 실행한다\n",
    "- sess.run() 의 실행결과는 스칼라이거나 넘파이 어레이이다\n",
    "- 작업이 끝나면, 반드시 sess.close() 로 닫아주어야 한다\n",
    "- 아래와 같이 with 문과 같이 사용할 수 있다"
   ]
  },
  {
   "cell_type": "code",
   "execution_count": 37,
   "metadata": {},
   "outputs": [
    {
     "name": "stdout",
     "output_type": "stream",
     "text": [
      "6\n"
     ]
    }
   ],
   "source": [
    "a = tf.constant(2)\n",
    "b = tf.Variable(3)\n",
    "c = a*b\n",
    "\n",
    "with tf.Session() as sess:\n",
    "    sess.run(b.initializer)\n",
    "    n = sess.run(c)\n",
    "    print(n)"
   ]
  },
  {
   "cell_type": "code",
   "execution_count": 38,
   "metadata": {},
   "outputs": [
    {
     "name": "stdout",
     "output_type": "stream",
     "text": [
      "6\n"
     ]
    }
   ],
   "source": [
    "a = tf.constant(2)\n",
    "b = tf.Variable(3)\n",
    "c = a*b\n",
    "\n",
    "with tf.Session() as sess:\n",
    "    b.initializer.run() # 오퍼레이션\n",
    "    n = c.eval() # 텐서\n",
    "    print(n)"
   ]
  },
  {
   "cell_type": "markdown",
   "metadata": {},
   "source": [
    "- with 문을 사용하면 sess.close() 를 실행하지 않아도 된다\n",
    "- 오퍼레이션(tf.Operation)이나 텐서(tf.Tensor)에 직접 run() 과 eval() 를 적용할 수 있다"
   ]
  },
  {
   "cell_type": "markdown",
   "metadata": {},
   "source": [
    "### tf.InteractiveSession\n",
    "- 위에서 배운 tf.Session 은 여러 개의 세션을 만들 수 있다\n",
    "- 반면에 tf.InteractiveSession 은 **기본 세션** 을 만들어 준다\n",
    "- 기본 세션에서는 어디서나 run(), eval() 을 적용할 수 있다\n",
    "- 주피터 노트북과 같이 인터렉티브한 테스트 환경에서는 주로 tf.InteractiveSession 을 사용한다"
   ]
  },
  {
   "cell_type": "code",
   "execution_count": 39,
   "metadata": {},
   "outputs": [
    {
     "data": {
      "text/plain": [
       "6"
      ]
     },
     "execution_count": 39,
     "metadata": {},
     "output_type": "execute_result"
    }
   ],
   "source": [
    "a = tf.constant(2)\n",
    "b = tf.Variable(3)\n",
    "c = a*b\n",
    "\n",
    "sess = tf.InteractiveSession()\n",
    "b.initializer.run() # 오퍼레이션\n",
    "c.eval() # 텐서"
   ]
  },
  {
   "cell_type": "code",
   "execution_count": 40,
   "metadata": {},
   "outputs": [],
   "source": [
    "sess.close() # 작업 종료후 실행"
   ]
  },
  {
   "cell_type": "markdown",
   "metadata": {},
   "source": [
    "### tf.matmul()"
   ]
  },
  {
   "cell_type": "code",
   "execution_count": 41,
   "metadata": {},
   "outputs": [],
   "source": [
    "sess = tf.InteractiveSession()"
   ]
  },
  {
   "cell_type": "code",
   "execution_count": 45,
   "metadata": {},
   "outputs": [
    {
     "data": {
      "text/plain": [
       "array([[11]])"
      ]
     },
     "execution_count": 45,
     "metadata": {},
     "output_type": "execute_result"
    }
   ],
   "source": [
    "tf.matmul([[1,2]], [[3],[4]]).eval()"
   ]
  },
  {
   "cell_type": "code",
   "execution_count": 50,
   "metadata": {},
   "outputs": [
    {
     "data": {
      "text/plain": [
       "array([[1, 2]])"
      ]
     },
     "execution_count": 50,
     "metadata": {},
     "output_type": "execute_result"
    }
   ],
   "source": [
    "a = tf.constant([[1],[2]])\n",
    "tf.transpose(a).eval()"
   ]
  },
  {
   "cell_type": "markdown",
   "metadata": {},
   "source": [
    "### 간단한 선형회귀"
   ]
  },
  {
   "cell_type": "code",
   "execution_count": 4,
   "metadata": {},
   "outputs": [],
   "source": [
    "X = tf.constant([1,2], dtype=tf.float32)\n",
    "y = tf.constant([3,5], dtype=tf.float32)"
   ]
  },
  {
   "cell_type": "code",
   "execution_count": 5,
   "metadata": {},
   "outputs": [],
   "source": [
    "w = tf.Variable(tf.random.normal([]))\n",
    "b = tf.Variable(tf.random.normal([]))"
   ]
  },
  {
   "cell_type": "code",
   "execution_count": 6,
   "metadata": {},
   "outputs": [
    {
     "data": {
      "text/plain": [
       "(<tf.Variable 'Variable:0' shape=() dtype=float32_ref>,\n",
       " <tf.Variable 'Variable_1:0' shape=() dtype=float32_ref>)"
      ]
     },
     "execution_count": 6,
     "metadata": {},
     "output_type": "execute_result"
    }
   ],
   "source": [
    "w, b"
   ]
  },
  {
   "cell_type": "code",
   "execution_count": 7,
   "metadata": {},
   "outputs": [],
   "source": [
    "pred_y = X*w + b\n",
    "mse = tf.reduce_mean(tf.square(y-pred_y)) # (y-pred_y)**2\n",
    "dw = 2*tf.reduce_mean((y-pred_y)*X)\n",
    "db = 2*tf.reduce_mean(y-pred_y)"
   ]
  },
  {
   "cell_type": "code",
   "execution_count": 8,
   "metadata": {},
   "outputs": [],
   "source": [
    "sess = tf.InteractiveSession()"
   ]
  },
  {
   "cell_type": "code",
   "execution_count": 9,
   "metadata": {},
   "outputs": [],
   "source": [
    "tf.global_variables_initializer().run()"
   ]
  },
  {
   "cell_type": "code",
   "execution_count": 10,
   "metadata": {},
   "outputs": [
    {
     "data": {
      "text/plain": [
       "9.3338175"
      ]
     },
     "execution_count": 10,
     "metadata": {},
     "output_type": "execute_result"
    }
   ],
   "source": [
    "dw.eval()"
   ]
  },
  {
   "cell_type": "code",
   "execution_count": 11,
   "metadata": {},
   "outputs": [
    {
     "data": {
      "text/plain": [
       "(0.71762, 0.026027491)"
      ]
     },
     "execution_count": 11,
     "metadata": {},
     "output_type": "execute_result"
    }
   ],
   "source": [
    "w.eval(), b.eval()"
   ]
  },
  {
   "cell_type": "code",
   "execution_count": 12,
   "metadata": {},
   "outputs": [
    {
     "data": {
      "text/plain": [
       "array([0.7436475, 1.4612675], dtype=float32)"
      ]
     },
     "execution_count": 12,
     "metadata": {},
     "output_type": "execute_result"
    }
   ],
   "source": [
    "pred_y.eval()"
   ]
  },
  {
   "cell_type": "code",
   "execution_count": 14,
   "metadata": {},
   "outputs": [
    {
     "data": {
      "text/plain": [
       "8.806877"
      ]
     },
     "execution_count": 14,
     "metadata": {},
     "output_type": "execute_result"
    }
   ],
   "source": [
    "mse.eval()"
   ]
  },
  {
   "cell_type": "code",
   "execution_count": 15,
   "metadata": {},
   "outputs": [
    {
     "data": {
      "text/plain": [
       "9.3338175"
      ]
     },
     "execution_count": 15,
     "metadata": {},
     "output_type": "execute_result"
    }
   ],
   "source": [
    "dw.eval()"
   ]
  },
  {
   "cell_type": "code",
   "execution_count": 16,
   "metadata": {},
   "outputs": [
    {
     "data": {
      "text/plain": [
       "5.795085"
      ]
     },
     "execution_count": 16,
     "metadata": {},
     "output_type": "execute_result"
    }
   ],
   "source": [
    "db.eval()"
   ]
  },
  {
   "cell_type": "code",
   "execution_count": 17,
   "metadata": {},
   "outputs": [
    {
     "data": {
      "text/plain": [
       "(0.7269538, 0.031794574)"
      ]
     },
     "execution_count": 17,
     "metadata": {},
     "output_type": "execute_result"
    }
   ],
   "source": [
    "learning_rate = 0.001\n",
    "\n",
    "tf.assign(w, w + learning_rate*dw).eval() # 변수의 값을 재할당\n",
    "tf.assign(b, b + learning_rate*db).eval()\n",
    "w.eval(), b.eval()"
   ]
  },
  {
   "cell_type": "markdown",
   "metadata": {},
   "source": [
    "- 전체 루틴"
   ]
  },
  {
   "cell_type": "code",
   "execution_count": null,
   "metadata": {},
   "outputs": [],
   "source": [
    "X = tf.constant([1,2], dtype=tf.float32)\n",
    "y = tf.constant([3,5], dtype=tf.float32)\n",
    "\n",
    "w = tf.Variable(tf.random.normal([]))\n",
    "b = tf.Variable(tf.random.normal([]))\n",
    "\n",
    "pred_y = w*X + b\n",
    "mse = tf.reduce_mean(tf.square(y-pred_y))\n",
    "dw = 2*tf.reduce_mean((y-pred_y)*X)\n",
    "db = 2*tf.reduce_mean(y-pred_y)\n",
    "\n",
    "learning_rate = 0.001\n",
    "\n",
    "op1 = tf.assign(w, w + learning_rate*dw)\n",
    "op2 = tf.assign(b, b + learning_rate*db)"
   ]
  },
  {
   "cell_type": "code",
   "execution_count": null,
   "metadata": {},
   "outputs": [],
   "source": [
    "sess = tf.InteractiveSession()\n",
    "tf.global_variables_initializer().run()"
   ]
  },
  {
   "cell_type": "code",
   "execution_count": 19,
   "metadata": {},
   "outputs": [
    {
     "name": "stdout",
     "output_type": "stream",
     "text": [
      "0.574429 1.6085103\n",
      "0.5797313 1.61157\n"
     ]
    },
    {
     "name": "stderr",
     "output_type": "stream",
     "text": [
      "C:\\Anaconda3\\lib\\site-packages\\tensorflow\\python\\client\\session.py:1702: UserWarning: An interactive session is already active. This can cause out-of-memory errors in some cases. You must explicitly call `InteractiveSession.close()` to release resources held by the other session(s).\n",
      "  warnings.warn('An interactive session is already active. This can '\n"
     ]
    }
   ],
   "source": [
    "print(w.eval(), b.eval())\n",
    "sess.run([op1, op2])\n",
    "print(w.eval(), b.eval())"
   ]
  },
  {
   "cell_type": "code",
   "execution_count": 178,
   "metadata": {},
   "outputs": [
    {
     "name": "stdout",
     "output_type": "stream",
     "text": [
      "1.0947008 1.8958972\n",
      "1.0965396 1.8968213\n"
     ]
    }
   ],
   "source": [
    "print(w.eval(), b.eval())\n",
    "sess.run([op1, op2])\n",
    "print(w.eval(), b.eval())"
   ]
  },
  {
   "cell_type": "markdown",
   "metadata": {},
   "source": [
    "- 반복문 적용"
   ]
  },
  {
   "cell_type": "code",
   "execution_count": 182,
   "metadata": {},
   "outputs": [],
   "source": [
    "X = tf.constant([1,2], dtype=tf.float32)\n",
    "y = tf.constant([3,5], dtype=tf.float32)\n",
    "\n",
    "w = tf.Variable(tf.random.normal([]))\n",
    "b = tf.Variable(tf.random.normal([]))\n",
    "\n",
    "pred_y = w*X + b\n",
    "mse = tf.reduce_mean(tf.square(y-pred_y))\n",
    "dw = 2*tf.reduce_mean((y-pred_y)*X)\n",
    "db = 2*tf.reduce_mean(y-pred_y)\n",
    "\n",
    "learning_rate = 0.001\n",
    "\n",
    "op1 = tf.assign(w, w + learning_rate*dw)\n",
    "op2 = tf.assign(b, b + learning_rate*db)"
   ]
  },
  {
   "cell_type": "code",
   "execution_count": 183,
   "metadata": {},
   "outputs": [
    {
     "name": "stderr",
     "output_type": "stream",
     "text": [
      "C:\\Anaconda3\\lib\\site-packages\\tensorflow\\python\\client\\session.py:1702: UserWarning: An interactive session is already active. This can cause out-of-memory errors in some cases. You must explicitly call `InteractiveSession.close()` to release resources held by the other session(s).\n",
      "  warnings.warn('An interactive session is already active. This can '\n"
     ]
    }
   ],
   "source": [
    "sess = tf.InteractiveSession()\n",
    "tf.global_variables_initializer().run()"
   ]
  },
  {
   "cell_type": "code",
   "execution_count": 187,
   "metadata": {
    "scrolled": true
   },
   "outputs": [
    {
     "name": "stdout",
     "output_type": "stream",
     "text": [
      "0 5.877614 0.7030074 0.60945225\n",
      "10 5.1233864 0.7772625 0.65474516\n",
      "20 4.466083 0.8465997 0.69699943\n",
      "30 3.8932486 0.9113457 0.7364171\n",
      "40 3.394026 0.9718059 0.7731868\n",
      "50 2.9589577 1.0282648 0.80748457\n",
      "60 2.579798 1.0809884 0.8394747\n",
      "70 2.2493613 1.1302252 0.86931056\n",
      "80 1.9613875 1.1762067 0.89713526\n",
      "90 1.7104187 1.2191492 0.92308277\n",
      "100 1.4916984 1.2592549 0.94727796\n",
      "110 1.3010845 1.2967119 0.96983707\n",
      "120 1.1349632 1.3316967 0.990869\n",
      "130 0.9901884 1.3643731 1.0104753\n",
      "140 0.8640146 1.3948951 1.0287509\n",
      "150 0.7540534 1.4234053 1.045784\n",
      "160 0.65822 1.4500377 1.0616575\n",
      "170 0.5747002 1.4749167 1.0764484\n",
      "180 0.5019096 1.4981595 1.0902286\n",
      "190 0.43847105 1.5198745 1.1030653\n",
      "200 0.38318193 1.5401629 1.1150213\n",
      "210 0.3349955 1.5591197 1.1261554\n",
      "220 0.29299775 1.5768337 1.136522\n",
      "230 0.25639427 1.5933874 1.1461724\n",
      "240 0.22449194 1.6088575 1.1551539\n",
      "250 0.19668639 1.6233164 1.1635112\n",
      "260 0.17245081 1.6368312 1.1712859\n",
      "270 0.1513271 1.6494642 1.1785165\n",
      "280 0.13291495 1.6612746 1.1852396\n",
      "290 0.11686597 1.6723166 1.1914887\n",
      "300 0.102876514 1.6826414 1.1972953\n",
      "310 0.090681784 1.6922969 1.202689\n",
      "320 0.08005144 1.701327 1.2076973\n",
      "330 0.070784 1.7097739 1.2123456\n",
      "340 0.062704556 1.7176759 1.2166579\n",
      "350 0.055660658 1.7250692 1.2206569\n",
      "360 0.04951899 1.7319877 1.2243632\n",
      "370 0.04416364 1.738463 1.2277966\n",
      "380 0.039493386 1.7445246 1.2309749\n",
      "390 0.035420574 1.7501997 1.2339152\n",
      "400 0.031868044 1.7555143 1.2366335\n",
      "410 0.02876935 1.7604917 1.2391443\n",
      "420 0.026066137 1.7651547 1.2414616\n",
      "430 0.02370724 1.7695245 1.2435985\n",
      "440 0.021648612 1.77362 1.2455667\n",
      "450 0.019851571 1.7774599 1.2473778\n",
      "460 0.018282713 1.7810607 1.2490422\n",
      "470 0.01691255 1.7844386 1.2505693\n",
      "480 0.015715573 1.7876084 1.2519687\n",
      "490 0.014669612 1.7905836 1.2532489\n",
      "500 0.013755316 1.7933773 1.2544178\n",
      "510 0.012955576 1.7960018 1.2554826\n",
      "520 0.012255853 1.798468 1.2564502\n",
      "530 0.011643189 1.8007863 1.2573274\n",
      "540 0.011106549 1.8029666 1.2581202\n",
      "550 0.010636063 1.8050181 1.2588342\n",
      "560 0.010223201 1.8069494 1.2594746\n",
      "570 0.009860693 1.8087683 1.2600465\n",
      "580 0.009541951 1.8104825 1.2605544\n",
      "590 0.009261379 1.812099 1.2610025\n",
      "600 0.009014131 1.8136239 1.2613951\n",
      "610 0.008795908 1.8150635 1.2617356\n",
      "620 0.008603001 1.8164232 1.2620277\n",
      "630 0.00843215 1.8177084 1.2622747\n",
      "640 0.00828057 1.8189242 1.2624795\n",
      "650 0.008145724 1.820075 1.262645\n",
      "660 0.008025449 1.8211653 1.2627738\n",
      "670 0.007917961 1.8221991 1.2628683\n",
      "680 0.007821618 1.8231798 1.262931\n",
      "690 0.0077349925 1.8241109 1.262964\n",
      "700 0.0076567736 1.8249962 1.2629693\n",
      "710 0.0075859632 1.8258384 1.2629486\n",
      "720 0.007521576 1.8266405 1.2629038\n",
      "730 0.0074627795 1.8274052 1.2628367\n",
      "740 0.007408942 1.8281345 1.2627487\n",
      "750 0.007359355 1.828831 1.2626412\n",
      "760 0.0073135546 1.8294967 1.2625154\n",
      "770 0.0072709844 1.8301339 1.2623729\n",
      "780 0.00723126 1.8307443 1.2622144\n",
      "790 0.0071940534 1.8313296 1.2620414\n",
      "800 0.0071590478 1.8318915 1.2618548\n",
      "810 0.0071259188 1.8324317 1.2616551\n",
      "820 0.007094439 1.8329517 1.2614436\n",
      "830 0.0070644603 1.8334523 1.2612214\n",
      "840 0.0070357732 1.8339353 1.260989\n",
      "850 0.0070082247 1.8344014 1.260747\n",
      "860 0.006981645 1.8348521 1.260496\n",
      "870 0.006955904 1.8352883 1.260237\n",
      "880 0.0069309706 1.8357108 1.2599702\n",
      "890 0.006906715 1.8361202 1.2596964\n",
      "900 0.006883052 1.8365178 1.2594159\n",
      "910 0.0068598636 1.8369046 1.2591292\n",
      "920 0.006837166 1.8372811 1.258837\n",
      "930 0.006814882 1.8376477 1.2585396\n",
      "940 0.0067929984 1.8380051 1.2582372\n",
      "950 0.006771436 1.838354 1.2579303\n",
      "960 0.0067501497 1.8386949 1.2576194\n",
      "970 0.006729109 1.8390284 1.2573044\n",
      "980 0.0067083165 1.8393546 1.256986\n",
      "990 0.0066877315 1.8396745 1.2566642\n",
      "999 0.006669351 1.8399569 1.256372\n"
     ]
    }
   ],
   "source": [
    "costs = []\n",
    "\n",
    "for i in range(1000):\n",
    "    sess.run([op1, op2])\n",
    "    mse_val, w_val, b_val = sess.run([mse, w, b])\n",
    "    costs.append(mse_val)\n",
    "    if i%10==0: print(i, mse_val, w_val, b_val)\n",
    "    \n",
    "print(i, mse_val, w_val, b_val)"
   ]
  },
  {
   "cell_type": "code",
   "execution_count": 188,
   "metadata": {},
   "outputs": [
    {
     "data": {
      "text/plain": [
       "[<matplotlib.lines.Line2D at 0x2986f1de1d0>]"
      ]
     },
     "execution_count": 188,
     "metadata": {},
     "output_type": "execute_result"
    },
    {
     "data": {
      "image/png": "[encoded data removed]",
      "text/plain": [
       "<matplotlib.figure.Figure at 0x2986f181208>"
      ]
     },
     "metadata": {},
     "output_type": "display_data"
    }
   ],
   "source": [
    "plt.plot(costs)"
   ]
  },
  {
   "cell_type": "code",
   "execution_count": 190,
   "metadata": {},
   "outputs": [
    {
     "data": {
      "text/plain": [
       "array([3., 5.], dtype=float32)"
      ]
     },
     "metadata": {},
     "output_type": "display_data"
    },
    {
     "data": {
      "text/plain": [
       "array([3.0963287, 4.936286 ], dtype=float32)"
      ]
     },
     "metadata": {},
     "output_type": "display_data"
    }
   ],
   "source": [
    "display(y.eval(), pred_y.eval())"
   ]
  },
  {
   "cell_type": "code",
   "execution_count": null,
   "metadata": {},
   "outputs": [],
   "source": []
  },
  {
   "cell_type": "markdown",
   "metadata": {},
   "source": [
    "- 옵티마이저 사용"
   ]
  },
  {
   "cell_type": "code",
   "execution_count": 196,
   "metadata": {},
   "outputs": [
    {
     "name": "stdout",
     "output_type": "stream",
     "text": [
      "0 0.26128083 2.1295753 0.2986032\n",
      "50 0.14690982 2.191027 0.34226298\n",
      "100 0.08919033 2.233876 0.37438452\n",
      "150 0.059952497 2.2635415 0.39831677\n",
      "200 0.045035966 2.283864 0.41643435\n",
      "250 0.03732164 2.2975678 0.43042082\n",
      "300 0.033231106 2.3065834 0.44147006\n",
      "350 0.030965155 2.3122807 0.45042863\n",
      "400 0.029619526 2.3156302 0.45789662\n",
      "450 0.0287395 2.3173206 0.4642997\n",
      "499 0.028107889 2.3178372 0.46983293\n"
     ]
    }
   ],
   "source": [
    "X = tf.constant([1,2], dtype=tf.float32)\n",
    "y = tf.constant([3,5], dtype=tf.float32)\n",
    "\n",
    "w = tf.Variable(tf.random.normal([]))\n",
    "b = tf.Variable(tf.random.normal([]))\n",
    "\n",
    "pred_y = w*X + b\n",
    "mse = tf.reduce_mean(tf.square(y-pred_y))\n",
    "\n",
    "optimizer = tf.train.GradientDescentOptimizer(learning_rate=0.001)\n",
    "train_op = optimizer.minimize(mse)\n",
    "\n",
    "costs = []\n",
    "tf.global_variables_initializer().run()\n",
    "\n",
    "for i in range(500):\n",
    "    sess.run(train_op)\n",
    "    mse_val = mse.eval()\n",
    "    costs.append(mse_val)\n",
    "    if i%50==0: print(i, mse_val, w.eval(), b.eval())\n",
    "        \n",
    "print(i, mse_val, w.eval(), b.eval())"
   ]
  },
  {
   "cell_type": "code",
   "execution_count": 197,
   "metadata": {},
   "outputs": [
    {
     "data": {
      "text/plain": [
       "[<matplotlib.lines.Line2D at 0x29870478c50>]"
      ]
     },
     "execution_count": 197,
     "metadata": {},
     "output_type": "execute_result"
    },
    {
     "data": {
      "image/png": "[encoded data removed]",
      "text/plain": [
       "<matplotlib.figure.Figure at 0x2987037fd30>"
      ]
     },
     "metadata": {},
     "output_type": "display_data"
    }
   ],
   "source": [
    "plt.plot(costs)"
   ]
  },
  {
   "cell_type": "code",
   "execution_count": 198,
   "metadata": {},
   "outputs": [
    {
     "data": {
      "text/plain": [
       "array([3., 5.], dtype=float32)"
      ]
     },
     "metadata": {},
     "output_type": "display_data"
    },
    {
     "data": {
      "text/plain": [
       "array([2.7876701, 5.1055074], dtype=float32)"
      ]
     },
     "metadata": {},
     "output_type": "display_data"
    }
   ],
   "source": [
    "display(y.eval(), pred_y.eval())"
   ]
  }
 ],
 "metadata": {
  "kernelspec": {
   "display_name": "Python 3",
   "language": "python",
   "name": "python3"
  },
  "language_info": {
   "codemirror_mode": {
    "name": "ipython",
    "version": 3
   },
   "file_extension": ".py",
   "mimetype": "text/x-python",
   "name": "python",
   "nbconvert_exporter": "python",
   "pygments_lexer": "ipython3",
   "version": "3.6.4"
  }
 },
 "nbformat": 4,
 "nbformat_minor": 2
}
