{
 "cells": [
  {
   "cell_type": "markdown",
   "metadata": {},
   "source": [
    "## 신경망 개요\n",
    "# 텐서플로-선형회귀"
   ]
  },
  {
   "cell_type": "code",
   "execution_count": 1,
   "metadata": {},
   "outputs": [],
   "source": [
    "import numpy as np\n",
    "import pandas as pd\n",
    "import matplotlib.pyplot as plt"
   ]
  },
  {
   "cell_type": "code",
   "execution_count": 2,
   "metadata": {},
   "outputs": [
    {
     "name": "stderr",
     "output_type": "stream",
     "text": [
      "C:\\Anaconda3\\lib\\site-packages\\h5py\\__init__.py:36: FutureWarning: Conversion of the second argument of issubdtype from `float` to `np.floating` is deprecated. In future, it will be treated as `np.float64 == np.dtype(float).type`.\n",
      "  from ._conv import register_converters as _register_converters\n"
     ]
    }
   ],
   "source": [
    "import tensorflow as tf"
   ]
  },
  {
   "cell_type": "code",
   "execution_count": 3,
   "metadata": {},
   "outputs": [
    {
     "data": {
      "text/plain": [
       "'1.12.0'"
      ]
     },
     "execution_count": 3,
     "metadata": {},
     "output_type": "execute_result"
    }
   ],
   "source": [
    "tf.__version__"
   ]
  },
  {
   "cell_type": "code",
   "execution_count": 4,
   "metadata": {},
   "outputs": [],
   "source": [
    "sess = tf.InteractiveSession()"
   ]
  },
  {
   "cell_type": "markdown",
   "metadata": {},
   "source": [
    "### 아이리스 데이터 적용\n",
    "- 입력값 : petal length\n",
    "- 목표값 : petal width"
   ]
  },
  {
   "cell_type": "code",
   "execution_count": 11,
   "metadata": {},
   "outputs": [],
   "source": [
    "from sklearn.datasets import load_iris"
   ]
  },
  {
   "cell_type": "code",
   "execution_count": 12,
   "metadata": {},
   "outputs": [],
   "source": [
    "iris = load_iris()"
   ]
  },
  {
   "cell_type": "code",
   "execution_count": 13,
   "metadata": {},
   "outputs": [
    {
     "name": "stdout",
     "output_type": "stream",
     "text": [
      "0 3.3202965 0.004323408 -0.47675267\n",
      "300 0.042297773 0.41787446 -0.3731151\n",
      "600 0.04229094 0.41693884 -0.36887124\n",
      "900 0.042290077 0.41660473 -0.36735582\n",
      "1200 0.04228997 0.41648543 -0.36681473\n",
      "1500 0.04228995 0.41644284 -0.3666216\n",
      "1800 0.042289954 0.4164276 -0.36655253\n",
      "2100 0.04228995 0.41642213 -0.3665276\n",
      "2400 0.04228995 0.41642022 -0.36651888\n",
      "2700 0.04228995 0.41642022 -0.36651888\n",
      "2999 0.04228995 0.41642022 -0.36651888\n"
     ]
    }
   ],
   "source": [
    "X = tf.constant(iris.data[:,2], dtype=tf.float32)\n",
    "y = tf.constant(iris.data[:,3], dtype=tf.float32)\n",
    "\n",
    "w = tf.Variable(tf.random.normal([]))\n",
    "b = tf.Variable(tf.random.normal([]))\n",
    "\n",
    "pred_y = w*X + b\n",
    "mse = tf.reduce_mean(tf.square(y-pred_y))\n",
    "\n",
    "optimizer = tf.train.GradientDescentOptimizer(learning_rate=0.01)\n",
    "train_op = optimizer.minimize(mse)\n",
    "\n",
    "costs = []\n",
    "tf.global_variables_initializer().run()\n",
    "\n",
    "for i in range(3000):\n",
    "    sess.run(train_op)\n",
    "    mse_val = mse.eval()\n",
    "    costs.append(mse_val)\n",
    "    if i%300==0: print(i, mse_val, w.eval(), b.eval())\n",
    "        \n",
    "print(i, mse_val, w.eval(), b.eval())"
   ]
  },
  {
   "cell_type": "code",
   "execution_count": 15,
   "metadata": {},
   "outputs": [
    {
     "data": {
      "text/plain": [
       "[<matplotlib.lines.Line2D at 0x1db9db25128>]"
      ]
     },
     "execution_count": 15,
     "metadata": {},
     "output_type": "execute_result"
    },
    {
     "data": {
      "image/png": "[encoded data removed]",
      "text/plain": [
       "<matplotlib.figure.Figure at 0x1db9dd7a7f0>"
      ]
     },
     "metadata": {},
     "output_type": "display_data"
    }
   ],
   "source": [
    "plt.plot(costs[:100])"
   ]
  },
  {
   "cell_type": "code",
   "execution_count": 16,
   "metadata": {},
   "outputs": [
    {
     "data": {
      "text/plain": [
       "(0.41642022, -0.36651888)"
      ]
     },
     "execution_count": 16,
     "metadata": {},
     "output_type": "execute_result"
    }
   ],
   "source": [
    "w.eval(), b.eval()"
   ]
  },
  {
   "cell_type": "code",
   "execution_count": 9,
   "metadata": {},
   "outputs": [],
   "source": [
    "from sklearn.linear_model import LinearRegression"
   ]
  },
  {
   "cell_type": "code",
   "execution_count": 10,
   "metadata": {},
   "outputs": [
    {
     "data": {
      "text/plain": [
       "LinearRegression(copy_X=True, fit_intercept=True, n_jobs=1, normalize=False)"
      ]
     },
     "execution_count": 10,
     "metadata": {},
     "output_type": "execute_result"
    }
   ],
   "source": [
    "model = LinearRegression()\n",
    "model.fit(iris.data[:,[2]], iris.data[:,3])"
   ]
  },
  {
   "cell_type": "code",
   "execution_count": 11,
   "metadata": {},
   "outputs": [
    {
     "data": {
      "text/plain": [
       "(array([0.41641913]), -0.3665140452167275)"
      ]
     },
     "execution_count": 11,
     "metadata": {},
     "output_type": "execute_result"
    }
   ],
   "source": [
    "model.coef_, model.intercept_"
   ]
  },
  {
   "cell_type": "markdown",
   "metadata": {},
   "source": [
    "- 입력값 : sepal_length, sepal_width, petal_length\n",
    "- 목표값 : petal_width"
   ]
  },
  {
   "cell_type": "code",
   "execution_count": 12,
   "metadata": {},
   "outputs": [
    {
     "name": "stdout",
     "output_type": "stream",
     "text": [
      "0 3.409863 [ 0.5237504  -0.278171    0.42638376] -0.84944487\n",
      "1000 0.041804906 [0.02315191 0.09568264 0.419405  ] -0.8086648\n",
      "2000 0.038030036 [-0.08782681  0.21301448  0.47803605] -0.73889834\n",
      "3000 0.037269585 [-0.12801963  0.24437423  0.497641  ] -0.6731657\n",
      "4000 0.03688329 [-0.14628835  0.25081566  0.5054088 ] -0.6148952\n",
      "5000 0.03661235 [-0.15719633  0.25029385  0.5094078 ] -0.56422806\n",
      "6000 0.036412798 [-0.16516599  0.24805416  0.5120575 ] -0.5204549\n",
      "7000 0.03626497 [-0.17160803  0.24559693  0.5141044 ] -0.4827201\n",
      "8000 0.036155377 [-0.17703144  0.24332534  0.5157982 ] -0.45021555\n",
      "9000 0.036074113 [-0.18166487  0.2413233   0.5172365 ] -0.4222234\n",
      "10000 0.03601387 [-0.18564342  0.23958574  0.5184685 ] -0.39811927\n",
      "11000 0.03596921 [-0.1890665   0.23808576  0.5195281 ] -0.37736353\n",
      "12000 0.035936084 [-0.19201277  0.23679301  0.52043945] -0.35949138\n",
      "13000 0.035911527 [-0.19454949  0.2356794   0.5212242 ] -0.34410208\n",
      "14000 0.035893325 [-0.19673401  0.23472068  0.52190024] -0.33085126\n",
      "15000 0.035879824 [-0.19861421  0.23389457  0.52248156] -0.31944123\n",
      "16000 0.035869814 [-0.20023409  0.23318349  0.52298325] -0.30961627\n",
      "17000 0.03586239 [-0.20162863  0.2325715   0.5234146 ] -0.3011565\n",
      "18000 0.035856884 [-0.20282912  0.23204392  0.52378595] -0.29387167\n",
      "19000 0.035852812 [-0.20386232  0.23158963  0.5241051 ] -0.28759944\n",
      "19999 0.035849787 [-0.20475285  0.23120032  0.52438086] -0.2822033\n"
     ]
    }
   ],
   "source": [
    "X = tf.constant(iris.data[:,:3], dtype=tf.float32)\n",
    "y = tf.constant(iris.data[:,[3]], dtype=tf.float32)\n",
    "\n",
    "w = tf.Variable(tf.random.normal([3,1]))\n",
    "b = tf.Variable(tf.random.normal([]))\n",
    "\n",
    "pred_y = X@w + b\n",
    "mse = tf.reduce_mean(tf.square(y-pred_y))\n",
    "optimizer = tf.train.GradientDescentOptimizer(learning_rate=0.01)\n",
    "train_op = optimizer.minimize(mse)\n",
    "\n",
    "costs = []\n",
    "tf.global_variables_initializer().run()\n",
    "\n",
    "for i in range(20000):\n",
    "    sess.run(train_op)\n",
    "    mse_val = mse.eval()\n",
    "    costs.append(mse_val)\n",
    "    if i%1000==0: print(i, mse_val, w.eval().ravel(), b.eval())\n",
    "        \n",
    "print(i, mse_val, w.eval().ravel(), b.eval())"
   ]
  },
  {
   "cell_type": "code",
   "execution_count": 13,
   "metadata": {},
   "outputs": [
    {
     "data": {
      "text/plain": [
       "[<matplotlib.lines.Line2D at 0x2204ef889e8>]"
      ]
     },
     "execution_count": 13,
     "metadata": {},
     "output_type": "execute_result"
    },
    {
     "data": {
      "image/png": "[encoded data removed]",
      "text/plain": [
       "<Figure size 432x288 with 1 Axes>"
      ]
     },
     "metadata": {},
     "output_type": "display_data"
    }
   ],
   "source": [
    "plt.plot(costs[:100])"
   ]
  },
  {
   "cell_type": "code",
   "execution_count": 14,
   "metadata": {},
   "outputs": [
    {
     "data": {
      "text/plain": [
       "LinearRegression(copy_X=True, fit_intercept=True, n_jobs=1, normalize=False)"
      ]
     },
     "execution_count": 14,
     "metadata": {},
     "output_type": "execute_result"
    }
   ],
   "source": [
    "model = LinearRegression()\n",
    "model.fit(iris.data[:,:3], iris.data[:,3])"
   ]
  },
  {
   "cell_type": "code",
   "execution_count": 15,
   "metadata": {},
   "outputs": [
    {
     "data": {
      "text/plain": [
       "(array([-0.21027133,  0.22877721,  0.52608818]), -0.2487235860244572)"
      ]
     },
     "execution_count": 15,
     "metadata": {},
     "output_type": "execute_result"
    }
   ],
   "source": [
    "model.coef_, model.intercept_"
   ]
  },
  {
   "cell_type": "markdown",
   "metadata": {},
   "source": [
    "### 중간층 사용\n",
    "- 중간층 뉴런 10개\n",
    "- 중간층 활성화함수는 relu (tf.nn.relu() 사용)"
   ]
  },
  {
   "cell_type": "code",
   "execution_count": 19,
   "metadata": {},
   "outputs": [
    {
     "name": "stdout",
     "output_type": "stream",
     "text": [
      "0 0.4178059\n",
      "1000 0.08331298\n",
      "2000 0.037338004\n",
      "3000 0.036182985\n",
      "4000 0.035589296\n",
      "5000 0.034951966\n",
      "6000 0.0348397\n",
      "7000 0.034606427\n",
      "8000 0.03424811\n",
      "9000 0.034237362\n",
      "10000 0.03411053\n",
      "11000 0.034033306\n",
      "12000 0.034008373\n",
      "13000 0.033997618\n",
      "14000 0.033989716\n",
      "15000 0.03394657\n",
      "16000 0.033934172\n",
      "17000 0.033923354\n",
      "18000 0.033913556\n",
      "19000 0.03390447\n",
      "19999 0.03389598\n"
     ]
    }
   ],
   "source": [
    "X = tf.constant(iris.data[:,:3], dtype=tf.float32)\n",
    "y = tf.constant(iris.data[:,[3]], dtype=tf.float32)\n",
    "\n",
    "w1 = tf.Variable(tf.random.normal([3,10]))\n",
    "b1 = tf.Variable(tf.random.normal([10]))\n",
    "y1 = tf.nn.relu(X@w1 + b1)\n",
    "\n",
    "w2 = tf.Variable(tf.random.normal([10,1]))\n",
    "b2 = tf.Variable(tf.random.normal([1]))\n",
    "pred_y = y1@w2 + b2\n",
    "\n",
    "mse = tf.reduce_mean(tf.square(y-pred_y))\n",
    "optimizer = tf.train.GradientDescentOptimizer(learning_rate=0.01)\n",
    "train_op = optimizer.minimize(mse)\n",
    "\n",
    "costs = []\n",
    "tf.global_variables_initializer().run()\n",
    "\n",
    "for i in range(20000):\n",
    "    sess.run(train_op)\n",
    "    mse_val = mse.eval()\n",
    "    costs.append(mse_val)\n",
    "    if i%1000==0: print(i, mse_val)\n",
    "        \n",
    "print(i, mse_val)"
   ]
  },
  {
   "cell_type": "code",
   "execution_count": 20,
   "metadata": {},
   "outputs": [
    {
     "data": {
      "text/plain": [
       "[<matplotlib.lines.Line2D at 0x22050286278>]"
      ]
     },
     "execution_count": 20,
     "metadata": {},
     "output_type": "execute_result"
    },
    {
     "data": {
      "image/png": "[encoded data removed]",
      "text/plain": [
       "<Figure size 432x288 with 1 Axes>"
      ]
     },
     "metadata": {},
     "output_type": "display_data"
    }
   ],
   "source": [
    "plt.plot(costs[:100])"
   ]
  },
  {
   "cell_type": "markdown",
   "metadata": {},
   "source": [
    "### 중간층 2개 사용\n",
    "- 중간층 뉴런 각각 5개씩\n",
    "- 중간층 활성화함수는 relu"
   ]
  },
  {
   "cell_type": "code",
   "execution_count": 17,
   "metadata": {
    "scrolled": false
   },
   "outputs": [
    {
     "name": "stdout",
     "output_type": "stream",
     "text": [
      "0 3.859957\n",
      "2000 0.036996946\n",
      "4000 0.036414977\n",
      "6000 0.036170088\n",
      "8000 0.03605276\n",
      "10000 0.035990782\n",
      "12000 0.035955068\n",
      "14000 0.035932627\n",
      "16000 0.035917394\n",
      "18000 0.03590622\n",
      "20000 0.035897616\n",
      "22000 0.03589065\n",
      "24000 0.03588481\n",
      "26000 0.035879757\n",
      "28000 0.03587536\n",
      "30000 0.035871547\n",
      "32000 0.035868157\n",
      "34000 0.035865173\n",
      "36000 0.03586252\n",
      "38000 0.035860136\n",
      "39999 0.035858028\n"
     ]
    }
   ],
   "source": [
    "X = tf.constant(iris.data[:,:3], dtype=tf.float32)\n",
    "y = tf.constant(iris.data[:,[3]], dtype=tf.float32)\n",
    "\n",
    "w1 = tf.Variable(tf.random.normal([3,5]))\n",
    "b1 = tf.Variable(tf.random.normal([5]))\n",
    "y1 = tf.nn.relu(X@w1 + b1)\n",
    "\n",
    "w2 = tf.Variable(tf.random.normal([5,5]))\n",
    "b2 = tf.Variable(tf.random.normal([5]))\n",
    "y2 = tf.nn.relu(y1@w2 + b2)\n",
    "\n",
    "w3 = tf.Variable(tf.random.normal([5,1]))\n",
    "b3 = tf.Variable(tf.random.normal([1]))\n",
    "pred_y = y2@w3 + b3\n",
    "\n",
    "mse = tf.reduce_mean(tf.square(y-pred_y))\n",
    "optimizer = tf.train.GradientDescentOptimizer(learning_rate=0.001)\n",
    "train_op = optimizer.minimize(mse)\n",
    "\n",
    "costs = []\n",
    "tf.global_variables_initializer().run()\n",
    "\n",
    "for i in range(40000):\n",
    "    sess.run(train_op)\n",
    "    mse_val = mse.eval()\n",
    "    costs.append(mse_val)\n",
    "    if i%2000==0: print(i, mse_val)\n",
    "        \n",
    "print(i, mse_val)"
   ]
  },
  {
   "cell_type": "markdown",
   "metadata": {},
   "source": [
    "### 플레이스홀더 사용\n",
    "- 입력값을 실행시 변경 가능"
   ]
  },
  {
   "cell_type": "code",
   "execution_count": 31,
   "metadata": {},
   "outputs": [
    {
     "name": "stdout",
     "output_type": "stream",
     "text": [
      "0 17.780626\n",
      "1000 0.070384726\n",
      "2000 0.06734839\n",
      "3000 0.06470116\n",
      "4000 0.062378064\n",
      "5000 0.06018357\n",
      "6000 0.058120035\n",
      "7000 0.05616834\n",
      "8000 0.05432219\n",
      "9000 0.052562986\n",
      "10000 0.050814807\n",
      "11000 0.04907027\n",
      "12000 0.047398213\n",
      "13000 0.04578906\n",
      "14000 0.0442507\n",
      "15000 0.042793453\n",
      "16000 0.041429486\n",
      "17000 0.040144145\n",
      "18000 0.038940504\n",
      "19000 0.03784235\n",
      "19999 0.03685613\n"
     ]
    }
   ],
   "source": [
    "X = tf.placeholder(tf.float32, shape=[None,3])\n",
    "y = tf.placeholder(tf.float32, shape=[None,1])\n",
    "\n",
    "w1 = tf.Variable(tf.random.normal([3,5]))\n",
    "b1 = tf.Variable(tf.random.normal([5]))\n",
    "y1 = tf.nn.relu(X@w1 + b1)\n",
    "\n",
    "w2 = tf.Variable(tf.random.normal([5,5]))\n",
    "b2 = tf.Variable(tf.random.normal([5]))\n",
    "y2 = tf.nn.relu(y1@w2 + b2)\n",
    "\n",
    "w3 = tf.Variable(tf.random.normal([5,1]))\n",
    "b3 = tf.Variable(tf.random.normal([1]))\n",
    "pred_y = y2@w3 + b3\n",
    "\n",
    "mse = tf.reduce_mean(tf.square(y-pred_y))\n",
    "optimizer = tf.train.GradientDescentOptimizer(learning_rate=0.001)\n",
    "train_op = optimizer.minimize(mse)\n",
    "\n",
    "costs = []\n",
    "tf.global_variables_initializer().run()\n",
    "\n",
    "for i in range(20000):\n",
    "    mse_val, _ = sess.run([mse, train_op], feed_dict={X: iris.data[:,:3],\n",
    "                                                      y: iris.data[:,[3]]})\n",
    "    costs.append(mse_val)\n",
    "    if i%1000==0: print(i, mse_val)\n",
    "        \n",
    "print(i, mse_val)"
   ]
  }
 ],
 "metadata": {
  "kernelspec": {
   "display_name": "Python 3",
   "language": "python",
   "name": "python3"
  },
  "language_info": {
   "codemirror_mode": {
    "name": "ipython",
    "version": 3
   },
   "file_extension": ".py",
   "mimetype": "text/x-python",
   "name": "python",
   "nbconvert_exporter": "python",
   "pygments_lexer": "ipython3",
   "version": "3.6.4"
  }
 },
 "nbformat": 4,
 "nbformat_minor": 2
}
