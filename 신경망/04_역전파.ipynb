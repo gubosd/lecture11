{
 "cells": [
  {
   "cell_type": "markdown",
   "metadata": {},
   "source": [
    "## 신경망 개요\n",
    "# 역전파 (Backpropagation)"
   ]
  },
  {
   "cell_type": "markdown",
   "metadata": {},
   "source": [
    "<img src=\"https://www.guru99.com/images/1/030819_0937_BackPropaga1.png\" />\n",
    "(출처: https://www.guru99.com/backpropogation-neural-network.html)<br><br>\n",
    "\n",
    "<img src=\"https://www.researchgate.net/profile/WL_Dunin-Barkowski/publication/284492823/figure/fig2/AS:299230729129986@1448353573610/Error-back-propagation-a-forward-propagation-of-signals-b-error-propagation-in-the.png\" />\n",
    "(출처: https://www.researchgate.net/figure/Error-back-propagation-a-forward-propagation-of-signals-b-error-propagation-in-the_fig2_284492823)<br><br>\n",
    "\n",
    "<img src=\"https://c.mql5.com/2/12/Fig6_Error_backpropagation.png\" />\n",
    "(출처: https://philosophy.hku.hk/joelau/?n=Main.BackPropagation)"
   ]
  },
  {
   "cell_type": "markdown",
   "metadata": {},
   "source": [
    "### 역전파 계산"
   ]
  },
  {
   "cell_type": "markdown",
   "metadata": {},
   "source": [
    "<img src='역전파.jpg' />"
   ]
  }
 ],
 "metadata": {
  "kernelspec": {
   "display_name": "Python 3",
   "language": "python",
   "name": "python3"
  },
  "language_info": {
   "codemirror_mode": {
    "name": "ipython",
    "version": 3
   },
   "file_extension": ".py",
   "mimetype": "text/x-python",
   "name": "python",
   "nbconvert_exporter": "python",
   "pygments_lexer": "ipython3",
   "version": "3.6.4"
  }
 },
 "nbformat": 4,
 "nbformat_minor": 2
}
