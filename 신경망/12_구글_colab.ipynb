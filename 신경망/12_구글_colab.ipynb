{
 "cells": [
  {
   "cell_type": "markdown",
   "metadata": {},
   "source": [
    "## 신경망 개요\n",
    "# 구글 colab"
   ]
  },
  {
   "cell_type": "markdown",
   "metadata": {},
   "source": [
    "### colab 개요\n",
    "- 홈페이지 : https://colab.research.google.com/\n",
    "- 구글 아이디로 로그인\n",
    "- 첫페이지 웰컴창의 우측하단 \"새노트\" 를 클릭\n",
    "- 노트북 파일은 구글 드라이브에 생성됨\n",
    "> - https://drive.google.com\n",
    "> - 내 드라이브 \\> Colab Notebooks \\> mytest.ipynb\n",
    "- \"런타임 \\> 런타임 유형변경 \\> GPU\" 를 지정해야 함\n",
    "> - 도움 사이트 : https://zzsza.github.io/data/2018/08/30/google-colab/\n",
    "> - GPU 로 변경시 노트북이 초기화된다"
   ]
  },
  {
   "cell_type": "markdown",
   "metadata": {},
   "source": [
    "### 파일 관리\n",
    "- colab 은 기본적으로 작업중 생성한 파일들을 노트북 종료시 삭제한다\n",
    "- 그래서, 구글 드라이브나 pc로 수시로 백업하여야 한다\n",
    "- colab 도움말(첫페이지)의 \"데이터 로드: 드라이브, 스프레드시트, Google Cloud Storage\" 링크 참조\n",
    "> https://colab.research.google.com/notebooks/intro.ipynb\n",
    "\n",
    "```\n",
    "- PC로 다운로드\n",
    "from google.colab import files\n",
    "files.download('example.txt')\n",
    "\n",
    "- colab 으로 업로드\n",
    "from google.colab import files\n",
    "\n",
    "uploaded = files.upload()\n",
    "\n",
    "for fn in uploaded.keys():\n",
    "  print('User uploaded file \"{name}\" with length {length} bytes'.format(\n",
    "      name=fn, length=len(uploaded[fn])))\n",
    "\t  \n",
    "- 구글 드라이브의 폴더/파일 연동\t  \n",
    "from google.colab import drive\n",
    "drive.mount('/content/drive')\n",
    "\n",
    "with open('/content/drive/My Drive/foo.txt', 'w') as f:\n",
    "  f.write('Hello Google Drive!')\n",
    "!cat /content/drive/My\\ Drive/foo.txt\n",
    "```"
   ]
  },
  {
   "cell_type": "code",
   "execution_count": null,
   "metadata": {},
   "outputs": [],
   "source": []
  }
 ],
 "metadata": {
  "kernelspec": {
   "display_name": "Python 3",
   "language": "python",
   "name": "python3"
  },
  "language_info": {
   "codemirror_mode": {
    "name": "ipython",
    "version": 3
   },
   "file_extension": ".py",
   "mimetype": "text/x-python",
   "name": "python",
   "nbconvert_exporter": "python",
   "pygments_lexer": "ipython3",
   "version": "3.6.4"
  }
 },
 "nbformat": 4,
 "nbformat_minor": 2
}
