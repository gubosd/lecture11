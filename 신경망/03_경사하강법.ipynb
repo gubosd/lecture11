{
 "cells": [
  {
   "cell_type": "markdown",
   "metadata": {},
   "source": [
    "## 신경망 개요\n",
    "# 경사하강법 (Gradient Descent)"
   ]
  },
  {
   "cell_type": "markdown",
   "metadata": {},
   "source": [
    "<img src=\"도표04.jpg\" />"
   ]
  },
  {
   "cell_type": "markdown",
   "metadata": {},
   "source": [
    "- w 값을 줄일것인가 늘릴것인가?\n",
    "- 기울기를 알면 방향을 잡을 수 있다\n",
    "$$ w_{new} = w - learning\\_rate \\cdot slope(w,b) $$\n",
    "$$ slope(w,b) = {\\partial Loss(w,b) \\over \\partial w} $$"
   ]
  },
  {
   "cell_type": "code",
   "execution_count": 1,
   "metadata": {},
   "outputs": [],
   "source": [
    "import numpy as np\n",
    "import pandas as pd\n",
    "import matplotlib.pyplot as plt"
   ]
  },
  {
   "cell_type": "markdown",
   "metadata": {},
   "source": [
    "### 선형회귀 (속성이 1개일 때) 경사하강법\n",
    "- 중간층 없이, 입력층과 출력층만 있음\n",
    "- 활성화함수 없음\n",
    "- 비용함수는 MSE\n",
    "- w 와 b 는 한개씩"
   ]
  },
  {
   "cell_type": "markdown",
   "metadata": {},
   "source": [
    "$$ \\hat{y}_i = w \\cdot x_i + b \\\\\n",
    "Loss = {1 \\over N} \\sum_i (y_i - \\hat{y}_i)^2 \\\\\n",
    "= {1 \\over N} \\sum_i (y_i - (w \\cdot x_i + b))^2 $$"
   ]
  },
  {
   "cell_type": "markdown",
   "metadata": {},
   "source": [
    "$$ {\\partial Loss \\over \\partial w} = -{2 \\over N} \\sum_i (y_i - \\hat{y}_i) \\cdot x_i \\\\\n",
    "{\\partial Loss \\over \\partial b} = -{2 \\over N} \\sum_i (y_i - \\hat{y}_i) \\\\\n",
    "w_{new} = w - lr \\cdot {\\partial Loss \\over \\partial w}\n",
    "= w + lr \\cdot {2 \\over N} \\sum_i (y_i - \\hat{y}_i) \\cdot x_i \\\\\n",
    "b_{new} = b - lr \\cdot {\\partial Loss \\over \\partial b}\n",
    "= b + lr \\cdot {2 \\over N} \\sum_i (y_i - \\hat{y}_i) $$"
   ]
  },
  {
   "cell_type": "markdown",
   "metadata": {},
   "source": [
    "- iris 데이터에서 petal length 와 petal width 에 대해 선형회귀 적용"
   ]
  },
  {
   "cell_type": "code",
   "execution_count": 2,
   "metadata": {},
   "outputs": [],
   "source": [
    "from sklearn.datasets import load_iris\n",
    "\n",
    "iris = load_iris()"
   ]
  },
  {
   "cell_type": "code",
   "execution_count": 10,
   "metadata": {},
   "outputs": [],
   "source": [
    "x = iris.data[:,2]\n",
    "y = iris.data[:,3]"
   ]
  },
  {
   "cell_type": "code",
   "execution_count": 9,
   "metadata": {},
   "outputs": [],
   "source": [
    "w = np.random.randn()\n",
    "b = np.random.randn()\n",
    "lr = 0.01"
   ]
  },
  {
   "cell_type": "code",
   "execution_count": 10,
   "metadata": {},
   "outputs": [],
   "source": [
    "pred_y = x*w + b"
   ]
  },
  {
   "cell_type": "code",
   "execution_count": 12,
   "metadata": {},
   "outputs": [
    {
     "data": {
      "text/plain": [
       "75.3868108933482"
      ]
     },
     "execution_count": 12,
     "metadata": {},
     "output_type": "execute_result"
    }
   ],
   "source": [
    "mse = np.mean((y-pred_y)**2)\n",
    "mse"
   ]
  },
  {
   "cell_type": "code",
   "execution_count": null,
   "metadata": {},
   "outputs": [],
   "source": []
  },
  {
   "cell_type": "code",
   "execution_count": 13,
   "metadata": {},
   "outputs": [
    {
     "data": {
      "text/plain": [
       "-0.716689601780448"
      ]
     },
     "execution_count": 13,
     "metadata": {},
     "output_type": "execute_result"
    }
   ],
   "source": [
    "dw = lr*2/len(y)*np.sum((y-pred_y)*x)\n",
    "dw"
   ]
  },
  {
   "cell_type": "code",
   "execution_count": 14,
   "metadata": {},
   "outputs": [
    {
     "data": {
      "text/plain": [
       "-0.16388913182883127"
      ]
     },
     "execution_count": 14,
     "metadata": {},
     "output_type": "execute_result"
    }
   ],
   "source": [
    "db = lr*2/len(y)*np.sum(y-pred_y)\n",
    "db"
   ]
  },
  {
   "cell_type": "code",
   "execution_count": 15,
   "metadata": {},
   "outputs": [],
   "source": [
    "w = w + dw\n",
    "b = b + db"
   ]
  },
  {
   "cell_type": "code",
   "execution_count": 16,
   "metadata": {},
   "outputs": [],
   "source": [
    "pred_y = x*w + b"
   ]
  },
  {
   "cell_type": "code",
   "execution_count": 17,
   "metadata": {},
   "outputs": [
    {
     "data": {
      "text/plain": [
       "31.09122489163435"
      ]
     },
     "execution_count": 17,
     "metadata": {},
     "output_type": "execute_result"
    }
   ],
   "source": [
    "mse = np.mean((y-pred_y)**2)\n",
    "mse"
   ]
  },
  {
   "cell_type": "markdown",
   "metadata": {},
   "source": [
    "> 반복 적용"
   ]
  },
  {
   "cell_type": "code",
   "execution_count": 20,
   "metadata": {},
   "outputs": [
    {
     "name": "stdout",
     "output_type": "stream",
     "text": [
      "928 0.4164191221911922 -0.36651399943114227 0.042289946319484614\n"
     ]
    }
   ],
   "source": [
    "w = np.random.randn()/10\n",
    "b = np.random.randn()/10\n",
    "lr = 0.05\n",
    "\n",
    "pred_y = x*w + b\n",
    "mse = np.mean((y-pred_y)**2)\n",
    "costs = [mse]\n",
    "\n",
    "for i in range(3000):\n",
    "    pred_y = x*w + b\n",
    "    dw = lr*2/len(y)*np.sum((y-pred_y)*x)\n",
    "    db = lr*2/len(y)*np.sum(y-pred_y)\n",
    "    \n",
    "    w_new = w + dw\n",
    "    b_new = b + db\n",
    "    mse_new = np.mean((y-(x*w_new + b_new))**2)\n",
    "    if mse_new>=mse: break\n",
    "        \n",
    "    w = w_new\n",
    "    b = b_new\n",
    "    mse = mse_new\n",
    "    costs.append(mse)\n",
    "    \n",
    "print(i, w, b, mse)"
   ]
  },
  {
   "cell_type": "code",
   "execution_count": 21,
   "metadata": {},
   "outputs": [
    {
     "data": {
      "text/plain": [
       "[<matplotlib.lines.Line2D at 0x2413e260eb8>]"
      ]
     },
     "execution_count": 21,
     "metadata": {},
     "output_type": "execute_result"
    },
    {
     "data": {
      "image/png": "[encoded data removed]",
      "text/plain": [
       "<matplotlib.figure.Figure at 0x2413e39a390>"
      ]
     },
     "metadata": {},
     "output_type": "display_data"
    }
   ],
   "source": [
    "plt.plot(costs[:100])"
   ]
  },
  {
   "cell_type": "code",
   "execution_count": 3,
   "metadata": {},
   "outputs": [],
   "source": [
    "from sklearn.linear_model import LinearRegression"
   ]
  },
  {
   "cell_type": "code",
   "execution_count": 33,
   "metadata": {},
   "outputs": [
    {
     "data": {
      "text/plain": [
       "LinearRegression(copy_X=True, fit_intercept=True, n_jobs=1, normalize=False)"
      ]
     },
     "execution_count": 33,
     "metadata": {},
     "output_type": "execute_result"
    }
   ],
   "source": [
    "model = LinearRegression()\n",
    "model.fit(x.reshape(-1,1), y)"
   ]
  },
  {
   "cell_type": "code",
   "execution_count": 34,
   "metadata": {},
   "outputs": [
    {
     "data": {
      "text/plain": [
       "(array([0.41641913]), -0.3665140452167275)"
      ]
     },
     "execution_count": 34,
     "metadata": {},
     "output_type": "execute_result"
    }
   ],
   "source": [
    "model.coef_, model.intercept_"
   ]
  },
  {
   "cell_type": "markdown",
   "metadata": {},
   "source": [
    "### 선형회귀 일반해"
   ]
  },
  {
   "cell_type": "markdown",
   "metadata": {},
   "source": [
    "$$ \\hat{y}_i = \\sum_j (w_j \\cdot x_{ij}) + b \\\\\n",
    "Loss_i = (y_i - \\hat{y}_i)^2 \\\\\n",
    " = (y_i - \\sum_j (w_j \\cdot x_{ij}) - b)^2 \\\\\n",
    "Loss = {1 \\over N} \\sum_i (y_i - \\sum_j (w_j \\cdot x_{ij}) - b)^2 $$"
   ]
  },
  {
   "cell_type": "markdown",
   "metadata": {},
   "source": [
    "$$ {\\partial Loss \\over \\partial w_j} = -{2 \\over N} \\sum_i (y_i - \\hat{y}_i) \\cdot x_{ij} \\\\\n",
    "{\\partial Loss \\over \\partial b} = -{2 \\over N} \\sum_i (y_i - \\hat{y}_i) \\\\\n",
    "w_j = w_j - lr \\cdot {\\partial Loss \\over \\partial w_j}\n",
    "= w_j + lr \\cdot {2 \\over N} \\sum_i (y_i - \\hat{y}_i) \\cdot x_{ij} \\\\\n",
    "b = b - lr \\cdot {\\partial Loss \\over \\partial b}\n",
    "= b + lr \\cdot {2 \\over N} \\sum_i (y_i - \\hat{y}_i) $$"
   ]
  },
  {
   "cell_type": "code",
   "execution_count": 3,
   "metadata": {},
   "outputs": [],
   "source": [
    "X = iris.data[:,:3]\n",
    "y = iris.data[:,3]"
   ]
  },
  {
   "cell_type": "code",
   "execution_count": 39,
   "metadata": {},
   "outputs": [],
   "source": [
    "w = np.random.randn(3)\n",
    "b = np.random.randn()\n",
    "lr = 0.01"
   ]
  },
  {
   "cell_type": "code",
   "execution_count": 44,
   "metadata": {},
   "outputs": [
    {
     "data": {
      "text/plain": [
       "(150,)"
      ]
     },
     "execution_count": 44,
     "metadata": {},
     "output_type": "execute_result"
    }
   ],
   "source": [
    "pred_y = (X*w).sum(axis=1) + b\n",
    "pred_y.shape"
   ]
  },
  {
   "cell_type": "code",
   "execution_count": 47,
   "metadata": {},
   "outputs": [
    {
     "data": {
      "text/plain": [
       "(150,)"
      ]
     },
     "execution_count": 47,
     "metadata": {},
     "output_type": "execute_result"
    }
   ],
   "source": [
    "pred_y = X@w + b\n",
    "pred_y.shape"
   ]
  },
  {
   "cell_type": "code",
   "execution_count": 48,
   "metadata": {},
   "outputs": [
    {
     "data": {
      "text/plain": [
       "36.35783717675397"
      ]
     },
     "execution_count": 48,
     "metadata": {},
     "output_type": "execute_result"
    }
   ],
   "source": [
    "mse = np.mean((y-pred_y)**2)\n",
    "mse"
   ]
  },
  {
   "cell_type": "code",
   "execution_count": null,
   "metadata": {},
   "outputs": [],
   "source": []
  },
  {
   "cell_type": "code",
   "execution_count": 50,
   "metadata": {},
   "outputs": [
    {
     "data": {
      "text/plain": [
       "array([0.71098584, 0.36432653, 0.47519617])"
      ]
     },
     "execution_count": 50,
     "metadata": {},
     "output_type": "execute_result"
    }
   ],
   "source": [
    "dw = lr*2/len(y)*np.sum((y-pred_y).reshape(-1,1)*X, axis=0)\n",
    "dw"
   ]
  },
  {
   "cell_type": "code",
   "execution_count": 51,
   "metadata": {},
   "outputs": [
    {
     "data": {
      "text/plain": [
       "0.11928653535432138"
      ]
     },
     "execution_count": 51,
     "metadata": {},
     "output_type": "execute_result"
    }
   ],
   "source": [
    "db = lr*2/len(y)*np.sum(y-pred_y)\n",
    "db"
   ]
  },
  {
   "cell_type": "code",
   "execution_count": 52,
   "metadata": {},
   "outputs": [],
   "source": [
    "w = w + dw\n",
    "b = b + db"
   ]
  },
  {
   "cell_type": "code",
   "execution_count": 54,
   "metadata": {},
   "outputs": [],
   "source": [
    "pred_y = X@w + b"
   ]
  },
  {
   "cell_type": "code",
   "execution_count": 55,
   "metadata": {},
   "outputs": [
    {
     "data": {
      "text/plain": [
       "1.7675265894797012"
      ]
     },
     "execution_count": 55,
     "metadata": {},
     "output_type": "execute_result"
    }
   ],
   "source": [
    "mse = np.mean((y-pred_y)**2)\n",
    "mse"
   ]
  },
  {
   "cell_type": "markdown",
   "metadata": {},
   "source": [
    "> 반복 적용"
   ]
  },
  {
   "cell_type": "code",
   "execution_count": 15,
   "metadata": {},
   "outputs": [
    {
     "name": "stdout",
     "output_type": "stream",
     "text": [
      "999 [-0.21023885  0.80533536  0.61044339] -2.3443145219604573 0.08915365375016636\n"
     ]
    }
   ],
   "source": [
    "w = np.random.randn(3)\n",
    "b = np.random.randn()\n",
    "lr = 0.01\n",
    "\n",
    "pred_y = X@w + b\n",
    "mse = np.mean((y-pred_y)**2)\n",
    "costs = [mse]\n",
    "\n",
    "for i in range(1000):\n",
    "    pred_y = X@w + b\n",
    "    dw = lr* 2/len(y) * np.sum((y-pred_y).reshape(-1,1)*X, axis=0)\n",
    "    # dw = lr * 2/len(y) * (X.T @ (y-pred_y))\n",
    "    db = lr * 2/len(y) * np.sum(y-pred_y)\n",
    "    \n",
    "    w_new = w + dw\n",
    "    b_new = b + db\n",
    "    mse_new = np.mean((y-(X@w_new + b_new))**2)\n",
    "    if mse_new>=mse: break\n",
    "        \n",
    "    w = w_new\n",
    "    b = b_new\n",
    "    mse = mse_new\n",
    "    costs.append(mse)\n",
    "    \n",
    "print(i, w, b, mse)"
   ]
  },
  {
   "cell_type": "code",
   "execution_count": 18,
   "metadata": {},
   "outputs": [
    {
     "data": {
      "text/plain": [
       "[<matplotlib.lines.Line2D at 0x29e85ec09b0>]"
      ]
     },
     "execution_count": 18,
     "metadata": {},
     "output_type": "execute_result"
    },
    {
     "data": {
      "image/png": "[encoded data removed]",
      "text/plain": [
       "<matplotlib.figure.Figure at 0x29e85e4ebe0>"
      ]
     },
     "metadata": {},
     "output_type": "display_data"
    }
   ],
   "source": [
    "plt.plot(costs)"
   ]
  },
  {
   "cell_type": "code",
   "execution_count": 8,
   "metadata": {},
   "outputs": [],
   "source": [
    "from sklearn.linear_model import LinearRegression"
   ]
  },
  {
   "cell_type": "code",
   "execution_count": 9,
   "metadata": {},
   "outputs": [
    {
     "data": {
      "text/plain": [
       "LinearRegression(copy_X=True, fit_intercept=True, n_jobs=1, normalize=False)"
      ]
     },
     "execution_count": 9,
     "metadata": {},
     "output_type": "execute_result"
    }
   ],
   "source": [
    "model = LinearRegression()\n",
    "model.fit(X, y)"
   ]
  },
  {
   "cell_type": "code",
   "execution_count": 10,
   "metadata": {},
   "outputs": [
    {
     "data": {
      "text/plain": [
       "(array([-0.21027133,  0.22877721,  0.52608818]), -0.2487235860244541)"
      ]
     },
     "execution_count": 10,
     "metadata": {},
     "output_type": "execute_result"
    }
   ],
   "source": [
    "model.coef_, model.intercept_"
   ]
  },
  {
   "cell_type": "code",
   "execution_count": null,
   "metadata": {},
   "outputs": [],
   "source": []
  },
  {
   "cell_type": "markdown",
   "metadata": {},
   "source": [
    "### 로지스틱 회귀 (이진분류)\n",
    "- 중간층 없음\n",
    "- 출력층은 뉴런 1개\n",
    "- 출력층의 활성화함수는 시그모이드함수\n",
    "- 비용함수는 일반적으로 이진 크로스엔트로피이나 MSE를 적용하여 테스트"
   ]
  },
  {
   "cell_type": "code",
   "execution_count": 40,
   "metadata": {},
   "outputs": [],
   "source": [
    "def sigmoid(t):\n",
    "    return 1/(1+np.exp(-t))"
   ]
  },
  {
   "cell_type": "markdown",
   "metadata": {},
   "source": [
    "$$ \\sigma(t) = { 1 \\over 1+e^{-t} } \\\\\n",
    "\\sigma'(t) = { e^{-t} \\over (1+e^{-t})^2 } = \\sigma (1 - \\sigma) $$\n",
    "<br>"
   ]
  },
  {
   "cell_type": "markdown",
   "metadata": {},
   "source": [
    "$$ u_i = \\sum_j (w_j \\cdot x_{ij}) + b \\\\\n",
    "\\hat{y}_i = \\sigma(u_i) \\\\\n",
    "Loss_i = (y_i - \\hat{y}_i)^2 \\\\\n",
    " = (y_i - \\sigma(u_i))^2 \\\\\n",
    "Loss = {1 \\over N} \\sum_i (y_i - \\sigma(u_i))^2 $$\n",
    "<br>"
   ]
  },
  {
   "cell_type": "markdown",
   "metadata": {},
   "source": [
    "$$ {\\partial Loss \\over \\partial w_j} = -{2 \\over N} \\sum_i (y_i - \\sigma(u_i)) \\cdot \\sigma'(u_i) \\cdot {\\partial u_i \\over \\partial w_j} \\\\\n",
    " = -{2 \\over N} \\sum_i (y_i - \\sigma(u_i)) \\cdot \\sigma(u_i) \\cdot (1 - \\sigma(u_i)) \\cdot x_{ij} \\\\\n",
    " = -{2 \\over N} \\sum_i (y_i - \\hat{y_i}) \\cdot \\hat{y_i} \\cdot (1 - \\hat{y_i}) \\cdot x_{ij} \\\\\n",
    "{\\partial Loss \\over \\partial b} = -{2 \\over N} \\sum_i (y_i - \\hat{y_i}) \\cdot \\hat{y_i} \\cdot (1 - \\hat{y_i}) $$"
   ]
  },
  {
   "cell_type": "code",
   "execution_count": 109,
   "metadata": {},
   "outputs": [
    {
     "data": {
      "text/plain": [
       "((100, 4), (100,))"
      ]
     },
     "execution_count": 109,
     "metadata": {},
     "output_type": "execute_result"
    }
   ],
   "source": [
    "X = iris.data[:100]\n",
    "y = iris.target[:100]\n",
    "\n",
    "X.shape, y.shape"
   ]
  },
  {
   "cell_type": "code",
   "execution_count": 110,
   "metadata": {},
   "outputs": [],
   "source": [
    "w = np.random.randn(4)\n",
    "b = np.random.randn()"
   ]
  },
  {
   "cell_type": "code",
   "execution_count": 111,
   "metadata": {},
   "outputs": [
    {
     "data": {
      "text/plain": [
       "(100,)"
      ]
     },
     "execution_count": 111,
     "metadata": {},
     "output_type": "execute_result"
    }
   ],
   "source": [
    "pred_y = sigmoid(X@w + b)\n",
    "pred_y.shape"
   ]
  },
  {
   "cell_type": "code",
   "execution_count": 112,
   "metadata": {},
   "outputs": [
    {
     "data": {
      "text/plain": [
       "(array([-1.04540191e-03, -7.26159926e-04, -2.56142691e-04, -2.72187355e-05]),\n",
       " -0.00021668125017834715)"
      ]
     },
     "execution_count": 112,
     "metadata": {},
     "output_type": "execute_result"
    }
   ],
   "source": [
    "lr = 0.01\n",
    "\n",
    "dw = lr * 2/len(X) * (X.T @ ((y-pred_y)*pred_y*(1-pred_y)))\n",
    "db = lr * 2/len(X) * np.sum((y-pred_y)*pred_y*(1-pred_y))\n",
    "dw, db"
   ]
  },
  {
   "cell_type": "code",
   "execution_count": 113,
   "metadata": {},
   "outputs": [
    {
     "data": {
      "text/plain": [
       "0.47618233143481975"
      ]
     },
     "execution_count": 113,
     "metadata": {},
     "output_type": "execute_result"
    }
   ],
   "source": [
    "mse = ((y-pred_y)**2).mean()\n",
    "mse"
   ]
  },
  {
   "cell_type": "code",
   "execution_count": null,
   "metadata": {},
   "outputs": [],
   "source": []
  },
  {
   "cell_type": "code",
   "execution_count": 114,
   "metadata": {},
   "outputs": [
    {
     "name": "stdout",
     "output_type": "stream",
     "text": [
      "00000> MSE=0.4799199 [ 1.50871973 -0.93611847 -0.65157654 -0.58819346] 0.6285219224254666\n",
      "01000> MSE=0.0411438 [ 0.82754    -1.93527361  0.4280351  -0.07754938] 0.40205513192039266\n",
      "02000> MSE=0.0163292 [ 0.72562847 -2.14415662  0.80816696  0.09870636] 0.35111611128209524\n",
      "03000> MSE=0.0100890 [ 0.67153786 -2.24812723  1.00381776  0.19041053] 0.32393097972303997\n",
      "04000> MSE=0.0073134 [ 0.63464402 -2.31655976  1.13524987  0.25229913] 0.30530273514463435\n",
      "05000> MSE=0.0057505 [ 0.60658845 -2.36731172  1.23422318  0.29903684] 0.2910888781439368\n",
      "06000> MSE=0.0047484 [ 0.58391717 -2.40753977  1.31364425  0.33662052] 0.27957325700959595\n",
      "07000> MSE=0.0040509 [ 0.56487241 -2.44080815  1.38000726  0.36807859] 0.2698801027339648\n",
      "08000> MSE=0.0035372 [ 0.5484381  -2.46914227  1.43703368  0.39515062] 0.26150192303777475\n",
      "09000> MSE=0.0031427 [ 0.53397388 -2.49380055  1.48705259  0.41892714] 0.2541181656034515\n",
      "10000> MSE=0.0028301 [ 0.52105004 -2.5156171   1.53161771  0.44013659] 0.24751330646653866\n",
      "11000> MSE=0.0025761 [ 0.50936418 -2.53517262  1.57181703  0.45928952] 0.2415354011483912\n",
      "12000> MSE=0.0023655 [ 0.49869536 -2.55288727  1.60844195  0.47675763] 0.23607326321088065\n",
      "13000> MSE=0.0021880 [ 0.4888772  -2.56907469  1.64208614  0.49281993] 0.2310430492278197\n",
      "14000> MSE=0.0020363 [ 0.47978127 -2.58397505  1.67320632  0.50769115] 0.22637994967615238\n",
      "15000> MSE=0.0019051 [ 0.47130632 -2.5977763   1.70216139  0.52154016] 0.2220328172614943\n",
      "16000> MSE=0.0017905 [ 0.46337112 -2.61062821  1.72923854  0.53450211] 0.21796056797085098\n",
      "17000> MSE=0.0016894 [ 0.4559095  -2.62265204  1.75467116  0.5466869 ] 0.2141296957418913\n",
      "18000> MSE=0.0015996 [ 0.44886679 -2.63394731  1.77865151  0.55818507] 0.21051251099093693\n",
      "19000> MSE=0.0015193 [ 0.44219737 -2.64459671  1.80133984  0.56907213] 0.2070858636999415\n",
      "20000> MSE=0.0014470 [ 0.43586269 -2.65466966  1.82287115  0.5794117 ] 0.20383019929025029\n",
      "21000> MSE=0.0013816 [ 0.42982995 -2.66422501  1.84336024  0.5892579 ] 0.2007288482541436\n",
      "22000> MSE=0.0013221 [ 0.42407095 -2.67331305  1.86290552  0.59865714] 0.1977674832932727\n",
      "23000> MSE=0.0012677 [ 0.41856131 -2.68197714  1.88159204  0.60764954] 0.19493369864639595\n",
      "24000> MSE=0.0012179 [ 0.41327978 -2.69025488  1.89949379  0.61627   ] 0.1922166799858806\n",
      "25000> MSE=0.0011720 [ 0.40820774 -2.69817909  1.91667551  0.62454907] 0.1896069424217263\n",
      "26000> MSE=0.0011295 [ 0.40332876 -2.70577861  1.93319423  0.63251368] 0.18709612039791645\n",
      "27000> MSE=0.0010902 [ 0.3986283  -2.71307888  1.94910041  0.64018765] 0.18467679760171116\n",
      "28000> MSE=0.0010537 [ 0.3940934  -2.7201025   1.96443893  0.64759218] 0.1823423680652876\n",
      "29000> MSE=0.0010196 [ 0.3897125  -2.72686959  1.97924986  0.65474619] 0.18008692182924094\n",
      "29999> MSE=0.0009878 [ 0.38547935 -2.73339174  1.99355509  0.66165987] 0.17790729673142477\n"
     ]
    }
   ],
   "source": [
    "w = np.random.randn(4)\n",
    "b = np.random.randn()\n",
    "lr = 0.01\n",
    "\n",
    "pred_y = sigmoid(X@w + b)\n",
    "mse = ((y-pred_y)**2).sum()/len(y)\n",
    "costs = [mse]\n",
    "\n",
    "for i in range(30000):\n",
    "    pred_y = sigmoid(X@w + b)\n",
    "    \n",
    "    dw = lr * 2/len(X) * (X.T @ ((y-pred_y)*pred_y*(1-pred_y)))\n",
    "    db = lr * 2/len(X) * np.sum((y-pred_y)*pred_y*(1-pred_y))\n",
    "    \n",
    "    w += dw\n",
    "    b += db\n",
    "    mse = ((y-pred_y)**2).sum()/len(y)\n",
    "    costs.append(mse)\n",
    "    \n",
    "    if i%1000==0: print('%05d> MSE=%.7f' % (i,mse), w, b)\n",
    "        \n",
    "print('%05d> MSE=%.7f' % (i,mse), w, b)"
   ]
  },
  {
   "cell_type": "code",
   "execution_count": 115,
   "metadata": {},
   "outputs": [
    {
     "data": {
      "text/plain": [
       "[<matplotlib.lines.Line2D at 0x1bab3e0f748>]"
      ]
     },
     "execution_count": 115,
     "metadata": {},
     "output_type": "execute_result"
    },
    {
     "data": {
      "image/png": "[encoded data removed]",
      "text/plain": [
       "<Figure size 432x288 with 1 Axes>"
      ]
     },
     "metadata": {},
     "output_type": "display_data"
    }
   ],
   "source": [
    "plt.plot(costs[:3000])"
   ]
  },
  {
   "cell_type": "markdown",
   "metadata": {},
   "source": [
    "- LogisticRegression 적용"
   ]
  },
  {
   "cell_type": "code",
   "execution_count": 93,
   "metadata": {},
   "outputs": [],
   "source": [
    "from sklearn.linear_model import LogisticRegression"
   ]
  },
  {
   "cell_type": "code",
   "execution_count": 94,
   "metadata": {},
   "outputs": [
    {
     "data": {
      "text/plain": [
       "LogisticRegression(C=1.0, class_weight=None, dual=False, fit_intercept=True,\n",
       "          intercept_scaling=1, max_iter=100, multi_class='ovr', n_jobs=1,\n",
       "          penalty='l2', random_state=None, solver='liblinear', tol=0.0001,\n",
       "          verbose=0, warm_start=False)"
      ]
     },
     "execution_count": 94,
     "metadata": {},
     "output_type": "execute_result"
    }
   ],
   "source": [
    "model = LogisticRegression()\n",
    "model.fit(X, y)"
   ]
  },
  {
   "cell_type": "code",
   "execution_count": 95,
   "metadata": {},
   "outputs": [
    {
     "data": {
      "text/plain": [
       "(array([[-0.40731745, -1.46092371,  2.24004724,  1.00841492]]),\n",
       " array([-0.26048137]))"
      ]
     },
     "execution_count": 95,
     "metadata": {},
     "output_type": "execute_result"
    }
   ],
   "source": [
    "model.coef_, model.intercept_"
   ]
  },
  {
   "cell_type": "markdown",
   "metadata": {},
   "source": [
    "- 비용함수로 이진 크로스엔트로피 적용"
   ]
  },
  {
   "cell_type": "markdown",
   "metadata": {},
   "source": [
    "$$ u_i = \\sum_j (w_j \\cdot x_{ij}) + b \\\\\n",
    "\\hat{y}_i = \\sigma(u_i) \\\\\n",
    "Loss_i = - y_i log(\\hat{y}_i) - (1-y_i) log(1-\\hat{y}_i) \\\\\n",
    "Loss = -{1 \\over N} \\sum_i [y_i log(\\hat{y}_i) + (1-y_i) log(1-\\hat{y}_i)] $$\n",
    "<br>"
   ]
  },
  {
   "cell_type": "markdown",
   "metadata": {},
   "source": [
    "$$ {\\partial Loss \\over \\partial w_j} = -{1 \\over N} \\sum_i (\\frac{y_i}{\\hat{y}_i} -\n",
    "\\frac{1-y_i}{1-\\hat{y}_i}) \\cdot \\hat{y}_i \\cdot (1-\\hat{y}_i) \\cdot x_{ij} \\\\\n",
    "= -{1 \\over N} \\sum_i (y_i - \\hat{y_i}) \\cdot x_{ij} \\\\\n",
    "{\\partial Loss \\over \\partial b} = -{1 \\over N} \\sum_i (y_i - \\hat{y_i}) $$"
   ]
  },
  {
   "cell_type": "code",
   "execution_count": 37,
   "metadata": {},
   "outputs": [
    {
     "data": {
      "text/plain": [
       "((100, 4), (100,))"
      ]
     },
     "execution_count": 37,
     "metadata": {},
     "output_type": "execute_result"
    }
   ],
   "source": [
    "X = iris.data[:100]\n",
    "y = iris.target[:100]\n",
    "\n",
    "X.shape, y.shape"
   ]
  },
  {
   "cell_type": "code",
   "execution_count": 38,
   "metadata": {},
   "outputs": [],
   "source": [
    "w = np.random.randn(4)\n",
    "b = np.random.randn()"
   ]
  },
  {
   "cell_type": "code",
   "execution_count": 41,
   "metadata": {},
   "outputs": [
    {
     "data": {
      "text/plain": [
       "(100,)"
      ]
     },
     "execution_count": 41,
     "metadata": {},
     "output_type": "execute_result"
    }
   ],
   "source": [
    "pred_y = sigmoid(X@w + b)\n",
    "pred_y.shape"
   ]
  },
  {
   "cell_type": "code",
   "execution_count": 42,
   "metadata": {},
   "outputs": [
    {
     "data": {
      "text/plain": [
       "(array([-0.04571499, -0.0311767 , -0.0133003 , -0.00220811]),\n",
       " -0.009127303737381277)"
      ]
     },
     "execution_count": 42,
     "metadata": {},
     "output_type": "execute_result"
    }
   ],
   "source": [
    "lr = 0.01\n",
    "\n",
    "dw = lr * 2/len(X) * (X.T @ (y-pred_y))\n",
    "db = lr * 2/len(X) * np.sum(y-pred_y)\n",
    "dw, db"
   ]
  },
  {
   "cell_type": "code",
   "execution_count": 44,
   "metadata": {},
   "outputs": [
    {
     "data": {
      "text/plain": [
       "1.276790217881121"
      ]
     },
     "execution_count": 44,
     "metadata": {},
     "output_type": "execute_result"
    }
   ],
   "source": [
    "entropy = -(y*np.log(pred_y)+(1-y)*np.log(1-pred_y)).mean()\n",
    "entropy"
   ]
  },
  {
   "cell_type": "code",
   "execution_count": 47,
   "metadata": {},
   "outputs": [
    {
     "name": "stdout",
     "output_type": "stream",
     "text": [
      "00000> entropy=1.5443215 [ 0.42064475  0.01692248  1.05730086 -1.48013366] -0.6963125325372412\n",
      "01000> entropy=0.0354540 [-0.29796266 -1.36875915  2.65690919 -0.71877403] -0.9725725378002137\n",
      "02000> entropy=0.0188525 [-0.3777047  -1.65115739  3.09103125 -0.511516  ] -1.0216599320772162\n",
      "03000> entropy=0.0130211 [-0.42455072 -1.8202467   3.35090444 -0.38521463] -1.0505334561564454\n",
      "04000> entropy=0.0100178 [-0.45784662 -1.94183967  3.53772736 -0.29332033] -1.0710394555751415\n",
      "05000> entropy=0.0081766 [-0.48371602 -2.03708027  3.68403382 -0.22069528] -1.0869510148721766\n",
      "06000> entropy=0.0069277 [-0.50489088 -2.11550433  3.80449585 -0.16045637] -1.099956265791018\n",
      "07000> entropy=0.0060226 [-0.52282818 -2.18224182  3.90700479 -0.10887704] -1.1109569388862532\n",
      "08000> entropy=0.0053352 [-0.53839701 -2.24037508  3.9963007  -0.06370631] -1.1204913975233712\n",
      "09000> entropy=0.0047946 [-0.55215754 -2.2919031   4.07545679 -0.02347765] -1.1289067950024256\n",
      "10000> entropy=0.0043577 [-0.56449193 -2.3381972   4.14658063  0.01281909] -1.1364400424962453\n",
      "11000> entropy=0.0039971 [-0.5756726  -2.38023958  4.21118129  0.04590998] -1.1432600157825554\n",
      "12000> entropy=0.0036940 [-0.58590057 -2.41875815  4.27037688  0.07633496] -1.1494913266538456\n",
      "13000> entropy=0.0034356 [-0.59532843 -2.45430759  4.32501916  0.1045067 ] -1.1552285465750776\n",
      "14000> entropy=0.0032126 [-0.60407474 -2.48732043  4.37577216  0.13074787] -1.1605451424418778\n",
      "15000> entropy=0.0030179 [-0.61223344 -2.51814054  4.42316371  0.15531572] -1.165499320209259\n",
      "16000> entropy=0.0028466 [-0.61988028 -2.54704591  4.46762036  0.17841867] -1.1701379772220026\n",
      "17000> entropy=0.0026945 [-0.62707717 -2.57426448  4.50949186  0.20022807] -1.1744994530793438\n",
      "18000> entropy=0.0025586 [-0.6338754  -2.59998554  4.54906856  0.22088648] -1.1786154921500338\n",
      "19000> entropy=0.0024363 [-0.64031793 -2.62436802  4.58659419  0.24051384] -1.1825126741217022\n",
      "20000> entropy=0.0023257 [-0.64644112 -2.64754664  4.62227537  0.25921207] -1.1862134766994017\n",
      "21000> entropy=0.0022252 [-0.65227598 -2.66963667  4.6562888   0.27706849] -1.189737078392548\n",
      "22000> entropy=0.0021334 [-0.6578492  -2.69073745  4.68878678  0.29415849] -1.1930999741041048\n",
      "23000> entropy=0.0020492 [-0.66318391 -2.71093523  4.71990152  0.31054768] -1.1963164535623505\n",
      "24000> entropy=0.0019717 [-0.6683003  -2.73030539  4.74974854  0.32629344] -1.1993989776970562\n",
      "25000> entropy=0.0019001 [-0.67321607 -2.7489142   4.77842938  0.34144633] -1.2023584780111718\n",
      "26000> entropy=0.0018338 [-0.67794685 -2.76682019  4.80603375  0.35605108] -1.2052045971079135\n",
      "27000> entropy=0.0017721 [-0.6825065  -2.78407539  4.83264133  0.37014748] -1.2079458837261599\n",
      "28000> entropy=0.0017147 [-0.68690736 -2.80072619  4.85832321  0.38377108] -1.2105899522314316\n",
      "29000> entropy=0.0016610 [-0.69116049 -2.81681418  4.88314309  0.39695378] -1.2131436140615302\n",
      "29999> entropy=0.0016108 [-0.69527177 -2.83236145  4.90713463  0.40971175] -1.2156105576909242\n"
     ]
    }
   ],
   "source": [
    "w = np.random.randn(4)\n",
    "b = np.random.randn()\n",
    "lr = 0.01\n",
    "\n",
    "pred_y = sigmoid(X@w + b)\n",
    "entropy = -(y*np.log(pred_y)+(1-y)*np.log(1-pred_y)).mean()\n",
    "costs = [entropy]\n",
    "\n",
    "for i in range(30000):\n",
    "    pred_y = sigmoid(X@w + b)\n",
    "    \n",
    "    dw = lr * 2/len(X) * (X.T @ (y-pred_y))\n",
    "    db = lr * 2/len(X) * np.sum(y-pred_y)\n",
    "    \n",
    "    w += dw\n",
    "    b += db\n",
    "    entropy = -(y*np.log(pred_y)+(1-y)*np.log(1-pred_y)).mean()\n",
    "    costs.append(entropy)\n",
    "    \n",
    "    if i%1000==0: print('%05d> entropy=%.7f' % (i,entropy), w, b)\n",
    "        \n",
    "print('%05d> entropy=%.7f' % (i,entropy), w, b)"
   ]
  },
  {
   "cell_type": "code",
   "execution_count": 48,
   "metadata": {},
   "outputs": [
    {
     "data": {
      "text/plain": [
       "[<matplotlib.lines.Line2D at 0x26ef4598ef0>]"
      ]
     },
     "execution_count": 48,
     "metadata": {},
     "output_type": "execute_result"
    },
    {
     "data": {
      "image/png": "[encoded data removed]",
      "text/plain": [
       "<Figure size 432x288 with 1 Axes>"
      ]
     },
     "metadata": {},
     "output_type": "display_data"
    }
   ],
   "source": [
    "plt.plot(costs[:3000])"
   ]
  },
  {
   "cell_type": "markdown",
   "metadata": {},
   "source": [
    "### 로지스틱 회귀 (다중분류)\n",
    "- 활성화 함수 : 소프트맥스\n",
    "- 비용 함수 : 크로스엔트로피"
   ]
  },
  {
   "cell_type": "markdown",
   "metadata": {},
   "source": [
    "$$ u_{ik} = \\sum_j (x_{ij} \\cdot w_{jk}) + b_k \\\\\n",
    "\\hat{y}_{ik} = \\frac{\\exp(u_{ik})} {\\sum_l \\exp(u_{il})} \\\\\n",
    "Loss_i = - \\sum_k y_{ik} log(\\hat{y}_{ik}) \\\\\n",
    "Loss = - \\frac{1}{N} \\sum_i \\sum_k y_{ik} log(\\hat{y}_{ik}) \\\\\n",
    "= - \\frac{1}{N} \\sum_i log(\\hat{y}_{ik}),\\ y_{ik}==1 $$\n",
    "<br>"
   ]
  },
  {
   "cell_type": "markdown",
   "metadata": {},
   "source": [
    "$$ {\\partial Loss \\over \\partial w_{jk}} = -{1 \\over N} \\sum_i (y_{ik} - \\hat{y_{ik}}) \\cdot x_{ij} \\\\\n",
    "{\\partial Loss \\over \\partial b_k} = -{1 \\over N} \\sum_i (y_{ik} - \\hat{y}_{ik}) $$"
   ]
  },
  {
   "cell_type": "code",
   "execution_count": 19,
   "metadata": {},
   "outputs": [],
   "source": [
    "def softmax(t):\n",
    "    return np.exp(t)/np.sum(np.exp(t), axis=1).reshape(-1,1)"
   ]
  },
  {
   "cell_type": "code",
   "execution_count": 20,
   "metadata": {},
   "outputs": [
    {
     "data": {
      "text/plain": [
       "((150, 4), (150, 3))"
      ]
     },
     "execution_count": 20,
     "metadata": {},
     "output_type": "execute_result"
    }
   ],
   "source": [
    "X = iris.data\n",
    "Y = np.eye(3)[iris.target]\n",
    "\n",
    "X.shape, Y.shape"
   ]
  },
  {
   "cell_type": "code",
   "execution_count": 21,
   "metadata": {},
   "outputs": [],
   "source": [
    "W = np.random.randn(4,3)\n",
    "b = np.random.randn(3)"
   ]
  },
  {
   "cell_type": "code",
   "execution_count": 22,
   "metadata": {},
   "outputs": [
    {
     "data": {
      "text/plain": [
       "(150, 3)"
      ]
     },
     "execution_count": 22,
     "metadata": {},
     "output_type": "execute_result"
    }
   ],
   "source": [
    "pred_Y = softmax(X@W + b)\n",
    "pred_Y.shape"
   ]
  },
  {
   "cell_type": "code",
   "execution_count": 23,
   "metadata": {},
   "outputs": [
    {
     "data": {
      "text/plain": [
       "(array([[-0.08349232,  0.03957331,  0.04391901],\n",
       "        [-0.0382927 ,  0.01846665,  0.01982605],\n",
       "        [-0.06541299,  0.02839999,  0.03701299],\n",
       "        [-0.0223466 ,  0.00884   ,  0.0135066 ]]),\n",
       " array([-0.01333312,  0.00666666,  0.00666646]))"
      ]
     },
     "execution_count": 23,
     "metadata": {},
     "output_type": "execute_result"
    }
   ],
   "source": [
    "lr = 0.01\n",
    "\n",
    "dW = lr * 2/len(Y) * (X.T @ (Y-pred_Y))\n",
    "db = lr * 2/len(Y) * np.sum(Y-pred_Y, axis=0)\n",
    "dW, db"
   ]
  },
  {
   "cell_type": "code",
   "execution_count": 24,
   "metadata": {},
   "outputs": [
    {
     "data": {
      "text/plain": [
       "11.842826410391885"
      ]
     },
     "execution_count": 24,
     "metadata": {},
     "output_type": "execute_result"
    }
   ],
   "source": [
    "cross_entropy = -np.sum(Y * np.log(pred_Y))/len(Y)\n",
    "cross_entropy"
   ]
  },
  {
   "cell_type": "code",
   "execution_count": 35,
   "metadata": {},
   "outputs": [
    {
     "name": "stdout",
     "output_type": "stream",
     "text": [
      "00000> entropy=7.4776436\n",
      "01000> entropy=0.0872601\n",
      "02000> entropy=0.0743772\n",
      "03000> entropy=0.0643645\n",
      "04000> entropy=0.0590567\n",
      "05000> entropy=0.0583020\n",
      "06000> entropy=0.0591394\n",
      "07000> entropy=0.0584239\n",
      "08000> entropy=0.0567141\n",
      "09000> entropy=0.0548663\n",
      "10000> entropy=0.0531448\n",
      "11000> entropy=0.0515975\n",
      "12000> entropy=0.0502183\n",
      "13000> entropy=0.0489900\n",
      "14000> entropy=0.0478941\n",
      "15000> entropy=0.0469142\n",
      "16000> entropy=0.0460356\n",
      "17000> entropy=0.0452457\n",
      "18000> entropy=0.0445336\n",
      "19000> entropy=0.0438898\n",
      "20000> entropy=0.0433063\n",
      "21000> entropy=0.0427762\n",
      "22000> entropy=0.0422937\n",
      "23000> entropy=0.0418535\n",
      "24000> entropy=0.0414518\n",
      "25000> entropy=0.0410855\n",
      "26000> entropy=0.0407546\n",
      "27000> entropy=0.0404689\n",
      "28000> entropy=0.0402777\n",
      "29000> entropy=0.0402197\n",
      "30000> entropy=0.0401911\n",
      "31000> entropy=0.0401646\n",
      "32000> entropy=0.0401397\n",
      "33000> entropy=0.0401164\n",
      "34000> entropy=0.0400944\n",
      "35000> entropy=0.0400738\n",
      "36000> entropy=0.0400543\n",
      "37000> entropy=0.0400360\n",
      "38000> entropy=0.0400186\n",
      "39000> entropy=0.0400023\n",
      "40000> entropy=0.0399868\n",
      "41000> entropy=0.0399722\n",
      "42000> entropy=0.0399583\n",
      "43000> entropy=0.0399452\n",
      "44000> entropy=0.0399328\n",
      "45000> entropy=0.0399210\n",
      "46000> entropy=0.0399098\n",
      "47000> entropy=0.0398992\n",
      "48000> entropy=0.0398892\n",
      "49000> entropy=0.0398796\n",
      "50000> entropy=0.0398706\n",
      "51000> entropy=0.0398619\n",
      "52000> entropy=0.0398537\n",
      "53000> entropy=0.0398459\n",
      "54000> entropy=0.0398385\n",
      "55000> entropy=0.0398314\n",
      "56000> entropy=0.0398247\n",
      "57000> entropy=0.0398183\n",
      "58000> entropy=0.0398122\n",
      "59000> entropy=0.0398063\n",
      "60000> entropy=0.0398008\n",
      "61000> entropy=0.0397955\n",
      "62000> entropy=0.0397904\n",
      "63000> entropy=0.0397856\n",
      "64000> entropy=0.0397810\n",
      "65000> entropy=0.0397766\n",
      "66000> entropy=0.0397723\n",
      "67000> entropy=0.0397683\n",
      "68000> entropy=0.0397645\n",
      "69000> entropy=0.0397608\n",
      "70000> entropy=0.0397572\n",
      "71000> entropy=0.0397539\n",
      "72000> entropy=0.0397506\n",
      "73000> entropy=0.0397476\n",
      "74000> entropy=0.0397446\n",
      "75000> entropy=0.0397418\n",
      "76000> entropy=0.0397390\n",
      "77000> entropy=0.0397364\n",
      "78000> entropy=0.0397339\n",
      "79000> entropy=0.0397316\n",
      "80000> entropy=0.0397293\n",
      "81000> entropy=0.0397271\n",
      "82000> entropy=0.0397249\n",
      "83000> entropy=0.0397229\n",
      "84000> entropy=0.0397210\n",
      "85000> entropy=0.0397191\n",
      "86000> entropy=0.0397173\n",
      "87000> entropy=0.0397156\n",
      "88000> entropy=0.0397139\n",
      "89000> entropy=0.0397123\n",
      "90000> entropy=0.0397108\n",
      "91000> entropy=0.0397093\n",
      "92000> entropy=0.0397079\n",
      "93000> entropy=0.0397066\n",
      "94000> entropy=0.0397053\n",
      "95000> entropy=0.0397040\n",
      "96000> entropy=0.0397028\n",
      "97000> entropy=0.0397016\n",
      "98000> entropy=0.0397005\n",
      "99000> entropy=0.0396994\n",
      "99999> entropy=0.0396984\n"
     ]
    }
   ],
   "source": [
    "W = np.random.randn(4,3)\n",
    "b = np.random.randn(3)\n",
    "lr = 1\n",
    "\n",
    "pred_Y = softmax(X@W + b)\n",
    "cross_entropy = -np.sum(Y * np.log(pred_Y))/len(Y)\n",
    "costs = [cross_entropy]\n",
    "\n",
    "for i in range(100000):\n",
    "    pred_Y = softmax(X@W + b)\n",
    "    \n",
    "    dW = lr/len(Y) * (X.T @ (Y-pred_Y))\n",
    "    db = lr/len(Y) * np.sum(Y-pred_Y, axis=0)\n",
    "    \n",
    "    W += dW\n",
    "    b += db\n",
    "    cross_entropy = -np.sum(Y * np.log(pred_Y))/len(Y)\n",
    "    costs.append(cross_entropy)\n",
    "    \n",
    "    if i%1000==0: print('%05d> entropy=%.7f' % (i,cross_entropy))\n",
    "        \n",
    "print('%05d> entropy=%.7f' % (i,cross_entropy))"
   ]
  },
  {
   "cell_type": "code",
   "execution_count": 31,
   "metadata": {},
   "outputs": [
    {
     "data": {
      "text/plain": [
       "[<matplotlib.lines.Line2D at 0x29e86766128>]"
      ]
     },
     "execution_count": 31,
     "metadata": {},
     "output_type": "execute_result"
    },
    {
     "data": {
      "image/png": "[encoded data removed]",
      "text/plain": [
       "<matplotlib.figure.Figure at 0x29e8624f7f0>"
      ]
     },
     "metadata": {},
     "output_type": "display_data"
    }
   ],
   "source": [
    "plt.plot(costs[-100:])\n",
    "#plt.ylim(0,1)"
   ]
  },
  {
   "cell_type": "code",
   "execution_count": 36,
   "metadata": {},
   "outputs": [
    {
     "data": {
      "text/plain": [
       "array([[  3.60754026,  -1.79274326,  -4.28451576],\n",
       "       [  7.76726366,   0.36645883,  -6.11109014],\n",
       "       [-11.50484197,   1.23000011,  10.34862391],\n",
       "       [ -4.1795993 ,  -6.44643224,  11.16378743]])"
      ]
     },
     "execution_count": 36,
     "metadata": {},
     "output_type": "execute_result"
    }
   ],
   "source": [
    "W"
   ]
  },
  {
   "cell_type": "code",
   "execution_count": 37,
   "metadata": {},
   "outputs": [
    {
     "data": {
      "text/plain": [
       "array([  1.86030801,  19.86462438, -20.52013956])"
      ]
     },
     "execution_count": 37,
     "metadata": {},
     "output_type": "execute_result"
    }
   ],
   "source": [
    "b"
   ]
  },
  {
   "cell_type": "code",
   "execution_count": 38,
   "metadata": {},
   "outputs": [],
   "source": [
    "from sklearn.linear_model import LogisticRegression"
   ]
  },
  {
   "cell_type": "code",
   "execution_count": 39,
   "metadata": {},
   "outputs": [
    {
     "data": {
      "text/plain": [
       "LogisticRegression(C=1.0, class_weight=None, dual=False, fit_intercept=True,\n",
       "          intercept_scaling=1, max_iter=100, multi_class='ovr', n_jobs=1,\n",
       "          penalty='l2', random_state=None, solver='liblinear', tol=0.0001,\n",
       "          verbose=0, warm_start=False)"
      ]
     },
     "execution_count": 39,
     "metadata": {},
     "output_type": "execute_result"
    }
   ],
   "source": [
    "model = LogisticRegression()\n",
    "model.fit(iris.data, iris.target)"
   ]
  },
  {
   "cell_type": "code",
   "execution_count": 40,
   "metadata": {},
   "outputs": [
    {
     "data": {
      "text/plain": [
       "array([[ 0.41498833,  1.46129739, -2.26214118, -1.0290951 ],\n",
       "       [ 0.41663969, -1.60083319,  0.57765763, -1.38553843],\n",
       "       [-1.70752515, -1.53426834,  2.47097168,  2.55538211]])"
      ]
     },
     "execution_count": 40,
     "metadata": {},
     "output_type": "execute_result"
    }
   ],
   "source": [
    "model.coef_"
   ]
  },
  {
   "cell_type": "code",
   "execution_count": 41,
   "metadata": {},
   "outputs": [
    {
     "data": {
      "text/plain": [
       "array([ 0.26560617,  1.08542374, -1.21471458])"
      ]
     },
     "execution_count": 41,
     "metadata": {},
     "output_type": "execute_result"
    }
   ],
   "source": [
    "model.intercept_"
   ]
  },
  {
   "cell_type": "code",
   "execution_count": null,
   "metadata": {},
   "outputs": [],
   "source": []
  }
 ],
 "metadata": {
  "kernelspec": {
   "display_name": "Python 3",
   "language": "python",
   "name": "python3"
  },
  "language_info": {
   "codemirror_mode": {
    "name": "ipython",
    "version": 3
   },
   "file_extension": ".py",
   "mimetype": "text/x-python",
   "name": "python",
   "nbconvert_exporter": "python",
   "pygments_lexer": "ipython3",
   "version": "3.6.4"
  }
 },
 "nbformat": 4,
 "nbformat_minor": 2
}
